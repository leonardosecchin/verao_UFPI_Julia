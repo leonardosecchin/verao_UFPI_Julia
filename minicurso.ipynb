{
 "cells": [
  {
   "cell_type": "markdown",
   "id": "0bfe99b5-ec4b-4ebb-9e79-42cd2cb6c696",
   "metadata": {
    "editable": true,
    "slideshow": {
     "slide_type": "slide"
    },
    "tags": []
   },
   "source": [
    "<center><font size=6>Introdução à linguagem Julia aplicada à otimização</font></center>\n",
    "\n",
    "<br>\n",
    "\n",
    "<center><font size=5>Leonardo D. Secchin (UFES)</font></center>\n",
    "<center>leonardosecchin.github.io</center>\n",
    "\n",
    "<br>\n",
    "\n",
    "<center><font size=4>Escola de Verão 2025 - PPGMAT/UFPI</font></center>"
   ]
  },
  {
   "cell_type": "markdown",
   "id": "6c7815e0-017e-4c6c-aa17-7e1011b30afb",
   "metadata": {
    "editable": true,
    "slideshow": {
     "slide_type": "slide"
    },
    "tags": []
   },
   "source": [
    "**Objetivos do minicurso:**\n",
    "\n",
    "- Apresentar o funcionamento básico da linguagem Julia\n",
    "- Discutir como Julia pode ser útil na modelagem e resolução de problemas de otimização\n",
    "- Apresentar os principais pacotes mantidos pela comunidade cientifica voltados à otimização\n",
    "- Não é um curso de otimização!\n",
    "  - Um curso de otimização com Julia em português no Youtube: [vídeos de Abel Siqueira](https://www.youtube.com/playlist?list=PLOOY0eChA1uyk_01nGJVmcQGvcJq9h6_6)\n",
    "\n",
    "**Pré-requisitos:**\n",
    "\n",
    "- Modelos de otimização\n",
    "- Métodos básicos (gradientes conjugados, método do gradiente, Newton)\n",
    "\n",
    "**Acesso aos slides e códigos:**\n",
    "\n",
    "[<center><font size=4>github.com/leonardosecchin/verao_UFPI_Julia</font></center>](https://github.com/leonardosecchin/verao_UFPI_Julia)"
   ]
  },
  {
   "cell_type": "markdown",
   "id": "b55f8553-9617-4b49-9992-32c52d4d04f9",
   "metadata": {
    "editable": true,
    "slideshow": {
     "slide_type": "skip"
    },
    "tags": []
   },
   "source": [
    "# Introdução"
   ]
  },
  {
   "cell_type": "markdown",
   "id": "1616c30e-920b-4ef3-a17c-2ccc31028fc6",
   "metadata": {
    "editable": true,
    "slideshow": {
     "slide_type": "slide"
    },
    "tags": []
   },
   "source": [
    "<font size=5>Existem várias linguagens de programação...</font>\n",
    "\n",
    "<font size=5><b>Por que escolher Julia?</b></font>"
   ]
  },
  {
   "cell_type": "markdown",
   "id": "6e1fa0dc-03e2-4b38-a528-5ad82c8bba98",
   "metadata": {
    "editable": true,
    "slideshow": {
     "slide_type": "skip"
    },
    "tags": []
   },
   "source": [
    "## Algumas linguagens para computação científica"
   ]
  },
  {
   "cell_type": "markdown",
   "id": "b41962df-5b5d-4357-ab76-a5484eeb1515",
   "metadata": {
    "editable": true,
    "slideshow": {
     "slide_type": "slide"
    },
    "tags": []
   },
   "source": [
    "### C/C++/Fortran\n",
    "* Pró: muito rápido se bem implementado (todo o código é compilado)\n",
    "* Pró: possui ótimos compiladores livres\n",
    "* Pró: versatilidade (liberdade total para o programador)\n",
    "* Pró (Fortran): notação matricial\n",
    "* Contra: +difícil, tempo longo para aprender a desenvolver bons códigos\n",
    "* Contra: tarefas simples usualmente resultam em códigos longos\n",
    "* Contra: não há gerenciamento de memória (risco de falhas de execução)\n",
    "* Contra: integrar códigos de terceiros é difícil\n",
    "* Contra: o lado ruim da versatilidade: toda tarefa fica para o programador $\\Rightarrow$ aumento do risco de falhas e códigos mal implementados"
   ]
  },
  {
   "cell_type": "markdown",
   "id": "4c796a16-163b-4290-a651-7dd1dee78f3d",
   "metadata": {
    "editable": true,
    "slideshow": {
     "slide_type": "slide"
    },
    "tags": []
   },
   "source": [
    "### Python\n",
    "\n",
    "* Pró: linguagem popular, muito código pronto disponível\n",
    "* Pró: é livre\n",
    "* Pró: aprendizagem fácil\n",
    "* Pró: possui boas bibliotecas de alto desempenho (p.ex. para rotinas de álgebra linear)\n",
    "* Pró: linguagem de propósito geral\n",
    "* Contra: *loops*/laços lentos, dado que Python não compila código (linguagem interpretada)\n",
    "* Contra: não há tantas bibliotecas para otimização"
   ]
  },
  {
   "cell_type": "markdown",
   "id": "f33ad83b-bdf1-4f93-8ef5-f5f36b1dae1f",
   "metadata": {
    "editable": true,
    "slideshow": {
     "slide_type": "slide"
    },
    "tags": []
   },
   "source": [
    "### Matlab\n",
    "\n",
    "* Pró: fácil de programar e aprender\n",
    "* Pró: possui boas bibliotecas para determinados nichos (p.ex. *Simulink* para sistemas dinâmicos)\n",
    "* Contra: é pago, incluindo bibliotecas adicionais (e é bem caro!)\n",
    "* Contra: código puro Matlab é lento, especialmente *loops*\n",
    "* Contra: não há muitas bibliotecas para otimização (muito menos que Julia)"
   ]
  },
  {
   "cell_type": "markdown",
   "id": "f67821d8-37fd-4dbf-9844-0ca94f9a3de8",
   "metadata": {
    "editable": true,
    "slideshow": {
     "slide_type": "slide"
    },
    "tags": []
   },
   "source": [
    "## Julia\n",
    "\n",
    "Desenvolvida para computação científica de alto desempenho. Criada no MIT, primeira versão publicada em 2012.\n",
    "\n",
    "### Por que usar Julia?\n",
    "\n",
    "- É *software* livre. Assim, não requer licenças para uso\n",
    "- É uma linguagem de alto nível, ou seja, é fácil programar e aprender (similar à Matlab)\n",
    "- Por ser livre, a comunidade científica mantêm uma quantidade grande de códigos prontos (pacotes), que podem ser usados livremente. Isso traz enorme produtividade e economia de tempo\n",
    "- Possui gerenciador de pacotes que torna a instalação e utilização de pacotes fácil\n",
    "- Diferentemente do Matlab e Python, Julia compila o código. Isso traz eficiência comparada à linguagens de baixo nível como C/C++/Fortran\n",
    "- Ao mesmo tempo que é fácil programar, tem foco no desempenho: os pacotes que rodam \"por baixo\" são implementados utilizando as melhores práticas/técnicas disponíveis (p.ex. rotinas de álgebra linear)\n",
    "- **Tempo de aprendizado curto + produtividade + performance**\n",
    "- Execução de códigos de outras linguagens (C/C++/Fortran) é fácil\n",
    "- Bom para paralelismo"
   ]
  },
  {
   "cell_type": "markdown",
   "id": "258f0434-8754-42d7-be3e-1613344a7136",
   "metadata": {
    "editable": true,
    "slideshow": {
     "slide_type": "slide"
    },
    "tags": []
   },
   "source": [
    "## Ambiente Julia\n",
    "\n",
    "### Instalação no Windows\n",
    "\n",
    "<center><font size=3>https://julialang.org</font></center>\n",
    "\n",
    "<center><img src=\"imagens/site_julia.png\" width=500></img></center>\n",
    "\n",
    "É recomendável baixar a última versão estável (*stable release*) 64 bits."
   ]
  },
  {
   "cell_type": "markdown",
   "id": "7656ea80-27f9-46c3-b0d7-e498111a75f2",
   "metadata": {
    "editable": true,
    "slideshow": {
     "slide_type": "slide"
    },
    "tags": []
   },
   "source": [
    "### Instalação no GNU/Linux\n",
    "\n",
    "**Opção 1:** loja de aplicativos do sistema operacional (p.ex. Ubuntu)\n",
    "\n",
    "<center><img src=\"imagens/julia_loja_ubuntu.png\" width=350></img></center>"
   ]
  },
  {
   "cell_type": "markdown",
   "id": "015c0428-531e-4365-84f0-6c955578f8a8",
   "metadata": {
    "editable": true,
    "slideshow": {
     "slide_type": "slide"
    },
    "tags": []
   },
   "source": [
    "**Opção 2:** script `juliaup`\n",
    "\n",
    "Preferível, pois fornece melhor controle de versões. Passos:\n",
    "1. Entre em https://github.com/JuliaLang/juliaup\n",
    "1. Siga as instruções contidas no site\n",
    "\n",
    "<center><img src=\"imagens/juliaup.png\" width=400></img></center>\n",
    "\n",
    "É recomendável instalar a última versão estável (*stable release*) 64 bits."
   ]
  },
  {
   "cell_type": "markdown",
   "id": "2eb148ae-cb7f-42e4-a17d-bd268574f88d",
   "metadata": {
    "editable": true,
    "slideshow": {
     "slide_type": "slide"
    },
    "tags": []
   },
   "source": [
    "O ambiente Julia é executado em terminal de comandos (Powershell no Windows, terminal no GNU/Linux). Ao entrar, Julia está apto a receber comandos.\n",
    "\n",
    "![](imagens/tela_julia.png)\n",
    "\n",
    "No GNU/Linux, execute \"julia\" a partir do terminal de comandos."
   ]
  },
  {
   "cell_type": "markdown",
   "id": "662a8f7a-e750-41aa-ba62-e57a6189594c",
   "metadata": {
    "editable": true,
    "slideshow": {
     "slide_type": "slide"
    },
    "tags": []
   },
   "source": [
    "### Modo gráfico com o Jupyter-lab\n",
    "\n",
    "- Jupyter-lab é um ambiente de desenvolvimento simples, que funciona no navegador de internet.\n",
    "- Pode ser executado a partir do sistema ou do Julia (veremos como).\n",
    "- Trabalha com terminal e *notebooks*, extensão `.ipynb`, onde pode-se inserir textos, trechos de códigos, slides etc, tudo no mesmo documento.\n",
    "- Os códigos Julia podem ser executados diretos no Jupyter-lab, onde as saídas do Julia são impressas.\n",
    "- Oferece uma solução completa: é possível abrir terminais de comando, arquivos de códigos Julia, além de textos e slides."
   ]
  },
  {
   "cell_type": "markdown",
   "id": "ed9945d8-4234-4731-8c09-6e76158bc886",
   "metadata": {
    "editable": true,
    "slideshow": {
     "slide_type": "slide"
    },
    "tags": []
   },
   "source": [
    "<center><img src=\"imagens/jupyter-lab.png\" width=650></img></center>"
   ]
  },
  {
   "cell_type": "markdown",
   "id": "e8bb35d7-93d7-4139-b254-3c764600e7ce",
   "metadata": {
    "editable": true,
    "slideshow": {
     "slide_type": "slide"
    },
    "tags": []
   },
   "source": [
    "<center><img src=\"imagens/jupyter-lab2.png\" width=650></img></center>"
   ]
  },
  {
   "cell_type": "markdown",
   "id": "c4572bac-b2ca-4020-ab20-ddd0bc848acb",
   "metadata": {
    "editable": true,
    "slideshow": {
     "slide_type": "slide"
    },
    "tags": []
   },
   "source": [
    "### Visual Studio Code\n",
    "\n",
    "Ambiente completo de desenvolvimento da Microsoft, de uso livre. Possui diversas funcionalidades, porém é mais complexo.\n",
    "\n",
    "- https://code.visualstudio.com/"
   ]
  },
  {
   "cell_type": "markdown",
   "id": "808401a2-f711-4384-9c94-e0196d188f7c",
   "metadata": {
    "editable": true,
    "slideshow": {
     "slide_type": "slide"
    },
    "tags": []
   },
   "source": [
    "## Primeiros exemplos"
   ]
  },
  {
   "cell_type": "markdown",
   "id": "fc25df95-6007-44e0-8ce8-78c2a1e1db2b",
   "metadata": {
    "editable": true,
    "slideshow": {
     "slide_type": "slide"
    },
    "tags": []
   },
   "source": [
    "### Definindo funções"
   ]
  },
  {
   "cell_type": "code",
   "execution_count": null,
   "id": "bfa6b7af-46f0-4201-82fb-5ba3941cf33f",
   "metadata": {
    "editable": false,
    "slideshow": {
     "slide_type": ""
    },
    "tags": []
   },
   "outputs": [],
   "source": [
    "# o caracter # indica comentário, que não são executados!\n",
    "\n",
    "# função simples escrita de maneira curta\n",
    "f(x) = x^2"
   ]
  },
  {
   "cell_type": "code",
   "execution_count": null,
   "id": "3382e25d-3169-423d-928d-1ccfd04da7d9",
   "metadata": {
    "editable": false,
    "slideshow": {
     "slide_type": "fragment"
    },
    "tags": []
   },
   "outputs": [],
   "source": [
    "# especificando cabeçalho\n",
    "function f(x)\n",
    "    return x^2  # retorno da função\n",
    "end"
   ]
  },
  {
   "cell_type": "code",
   "execution_count": null,
   "id": "14034711-d8cc-494b-b1fd-c35ed46cd6e3",
   "metadata": {
    "editable": false,
    "slideshow": {
     "slide_type": "slide"
    },
    "tags": []
   },
   "outputs": [],
   "source": [
    "function h(A,b)\n",
    "    m,n = size(A)\n",
    "    println(\"A tem ordem $(m) x $(n)\")\n",
    "    if n != length(b)\n",
    "        println(\"Dimensões de A e b incompatíveis!\")\n",
    "        return\n",
    "    end\n",
    "    Ab = A*b\n",
    "    return Ab\n",
    "end"
   ]
  },
  {
   "cell_type": "code",
   "execution_count": null,
   "id": "5b3037c1-a8b1-4acb-97f7-516411750a60",
   "metadata": {
    "editable": true,
    "slideshow": {
     "slide_type": ""
    },
    "tags": []
   },
   "outputs": [],
   "source": [
    "f(3)"
   ]
  },
  {
   "cell_type": "code",
   "execution_count": null,
   "id": "aff6c171-a862-4ff9-b4af-0f6059f9b2f8",
   "metadata": {
    "editable": true,
    "slideshow": {
     "slide_type": ""
    },
    "tags": []
   },
   "outputs": [],
   "source": [
    "A = rand(5,3)\n",
    "b = rand(3)\n",
    "h(A,b)"
   ]
  },
  {
   "cell_type": "markdown",
   "id": "3390c248-533f-492d-83d0-22c45dfdd852",
   "metadata": {
    "editable": true,
    "slideshow": {
     "slide_type": "slide"
    },
    "tags": []
   },
   "source": [
    "### Variáveis"
   ]
  },
  {
   "cell_type": "markdown",
   "id": "c3fd5d52-24de-4ee4-b341-609c82be9c4b",
   "metadata": {
    "editable": true,
    "slideshow": {
     "slide_type": ""
    },
    "tags": []
   },
   "source": [
    "Existem vários tipos de variáveis: números \"reais\" (Real, Float64, Float32 ...), números inteiros (Int, Int64, Int32 ...), vetores, matrizes, textos, boleano (true/false)...\n",
    "\n",
    "Ao definir uma variável sem especificar o tipo, o Julia identifica o melhor tipo automaticamente."
   ]
  },
  {
   "cell_type": "code",
   "execution_count": null,
   "id": "70a41e37-f28e-4eec-a281-7317a6dc4887",
   "metadata": {
    "editable": false,
    "slideshow": {
     "slide_type": "fragment"
    },
    "tags": []
   },
   "outputs": [],
   "source": [
    "a = 1\n",
    "b = 1.5;"
   ]
  },
  {
   "cell_type": "code",
   "execution_count": null,
   "id": "ea59c6c1-f294-479a-bf36-c7806293c04f",
   "metadata": {
    "editable": false,
    "slideshow": {
     "slide_type": "fragment"
    },
    "tags": []
   },
   "outputs": [],
   "source": [
    "typeof(a)"
   ]
  },
  {
   "cell_type": "code",
   "execution_count": null,
   "id": "793aa15d-5ee1-4276-8615-d5e23e59147d",
   "metadata": {
    "editable": false,
    "slideshow": {
     "slide_type": ""
    },
    "tags": []
   },
   "outputs": [],
   "source": [
    "typeof(b)"
   ]
  },
  {
   "cell_type": "code",
   "execution_count": null,
   "id": "86bad3a1-dd8c-4156-9d60-e7f9f2a64383",
   "metadata": {
    "editable": false,
    "slideshow": {
     "slide_type": "slide"
    },
    "tags": []
   },
   "outputs": [],
   "source": [
    "v = [1; 3; 6]"
   ]
  },
  {
   "cell_type": "code",
   "execution_count": null,
   "id": "ceafcd53-75c0-4042-994f-2f9731d2c18b",
   "metadata": {
    "editable": false,
    "slideshow": {
     "slide_type": "fragment"
    },
    "tags": []
   },
   "outputs": [],
   "source": [
    "u = [1; 3; 6.0]"
   ]
  },
  {
   "cell_type": "markdown",
   "id": "9a921022-4bc4-4a77-9597-e449c65e0423",
   "metadata": {
    "editable": true,
    "slideshow": {
     "slide_type": "slide"
    },
    "tags": []
   },
   "source": [
    "Às vezes é interessante forçar um tipo para uma variável passada para uma função de modo a impedir o uso com argumentos inválidos."
   ]
  },
  {
   "cell_type": "code",
   "execution_count": null,
   "id": "d4c07026-0e3f-459c-b234-736d8278633d",
   "metadata": {
    "editable": false,
    "slideshow": {
     "slide_type": ""
    },
    "tags": []
   },
   "outputs": [],
   "source": [
    "function resto(a::Int, b::Int)   # a e b devem ser inteiros\n",
    "    r = mod(a,b)\n",
    "    return r\n",
    "end"
   ]
  },
  {
   "cell_type": "code",
   "execution_count": null,
   "id": "23aa62f1-c69d-4377-b886-ca2cb0bf7483",
   "metadata": {
    "editable": false,
    "slideshow": {
     "slide_type": "fragment"
    },
    "tags": []
   },
   "outputs": [],
   "source": [
    "resto(10,3)"
   ]
  },
  {
   "cell_type": "code",
   "execution_count": null,
   "id": "fd9eba73-6c71-4b65-b918-adc79e899981",
   "metadata": {
    "editable": false,
    "slideshow": {
     "slide_type": "fragment"
    },
    "tags": []
   },
   "outputs": [],
   "source": [
    "resto(10.0,3)"
   ]
  },
  {
   "cell_type": "markdown",
   "id": "76044b35-f8a0-48a6-9232-f1bfbd1b2cf0",
   "metadata": {
    "editable": true,
    "slideshow": {
     "slide_type": "slide"
    },
    "tags": []
   },
   "source": [
    "Uma das características importantes do Julia é o **múltiplo despacho**: podemos definir uma mesma função para diferentes tipos de cabeçalho. Isso é interessante por questões de eficiência e organização do código."
   ]
  },
  {
   "cell_type": "code",
   "execution_count": null,
   "id": "b501982d-3a40-4659-ab52-f2240eb78f28",
   "metadata": {
    "editable": false,
    "slideshow": {
     "slide_type": "fragment"
    },
    "tags": []
   },
   "outputs": [],
   "source": [
    "# função resto com parâmetros reais\n",
    "function resto(a::Real, b::Real)\n",
    "    println(\"Os dados de entrada são números reais.\")\n",
    "    r = mod(floor(a),floor(b))    # floor(x) é o maior inteiro menor ou igual a x\n",
    "    return r\n",
    "end"
   ]
  },
  {
   "cell_type": "code",
   "execution_count": null,
   "id": "aec69765-3db0-47c4-ba35-98a70edfcdd8",
   "metadata": {
    "editable": false,
    "slideshow": {
     "slide_type": "slide"
    },
    "tags": []
   },
   "outputs": [],
   "source": [
    "# ambos parâmetros são inteiros, Julia executa a primeira versão\n",
    "resto(10,3)"
   ]
  },
  {
   "cell_type": "code",
   "execution_count": null,
   "id": "0eb3a7f2-ddcc-4939-910b-786741a6904c",
   "metadata": {
    "editable": false,
    "slideshow": {
     "slide_type": "fragment"
    },
    "tags": []
   },
   "outputs": [],
   "source": [
    "# Um dos parâmetros é não inteiro, Julia executa a segunda versão.\n",
    "# O segundo parâmetro 3 é convertido para Real.\n",
    "resto(10.0,3)"
   ]
  },
  {
   "cell_type": "code",
   "execution_count": null,
   "id": "60712723-817f-4915-a4e3-83c25d219ba6",
   "metadata": {
    "editable": false,
    "slideshow": {
     "slide_type": "fragment"
    },
    "tags": []
   },
   "outputs": [],
   "source": [
    "# Ambos parâmetros são não inteiros\n",
    "resto(10.5,3.56)"
   ]
  },
  {
   "cell_type": "markdown",
   "id": "ff17545e-f133-4606-9df3-6849e717e545",
   "metadata": {
    "editable": true,
    "slideshow": {
     "slide_type": "slide"
    },
    "tags": []
   },
   "source": [
    "### Se ... então"
   ]
  },
  {
   "cell_type": "markdown",
   "id": "372f6788-75f1-4e05-b715-54c373fbcdf9",
   "metadata": {
    "editable": true,
    "slideshow": {
     "slide_type": ""
    },
    "tags": []
   },
   "source": [
    "Segue a mesma lógica de outras linguagens. Sintaxe:\n",
    "```\n",
    "if [condição]\n",
    "    ...\n",
    "else\n",
    "    ...\n",
    "end\n",
    "```"
   ]
  },
  {
   "cell_type": "code",
   "execution_count": null,
   "id": "1559dfa3-e6b1-4866-b91d-111fa7a4649e",
   "metadata": {
    "editable": false,
    "slideshow": {
     "slide_type": "fragment"
    },
    "tags": []
   },
   "outputs": [],
   "source": [
    "x = 5\n",
    "if x > 4\n",
    "    println(\"x é grande...\")\n",
    "else\n",
    "    println(\"x é pequeno\")\n",
    "end"
   ]
  },
  {
   "cell_type": "markdown",
   "id": "15cfb9df-1d3a-4746-a028-8c36d7cda344",
   "metadata": {
    "editable": true,
    "slideshow": {
     "slide_type": "slide"
    },
    "tags": []
   },
   "source": [
    "**Observação**\n",
    "\n",
    "`=` é usado para **atribuir** valores à variáveis. Para **comparar** o valor de duas variáveis, use `==`"
   ]
  },
  {
   "cell_type": "code",
   "execution_count": null,
   "id": "5f64e386-c9ad-4e76-b80a-eb73fc448ec9",
   "metadata": {
    "editable": false,
    "slideshow": {
     "slide_type": "fragment"
    },
    "tags": []
   },
   "outputs": [],
   "source": [
    "if x == 5\n",
    "    println(\"x é igual a 5\")\n",
    "end"
   ]
  },
  {
   "cell_type": "markdown",
   "id": "6af8f299-595a-47a8-bfb1-b4edbd4f7fa0",
   "metadata": {
    "editable": true,
    "slideshow": {
     "slide_type": "slide"
    },
    "tags": []
   },
   "source": [
    "### Laços"
   ]
  },
  {
   "cell_type": "markdown",
   "id": "1c38613c-29fa-46a2-a6f3-854864ef1ff4",
   "metadata": {
    "editable": true,
    "slideshow": {
     "slide_type": ""
    },
    "tags": []
   },
   "source": [
    "Seguem a lógica de várias outras linguagens."
   ]
  },
  {
   "cell_type": "code",
   "execution_count": null,
   "id": "fe76353b-daec-42b0-b630-4d14b64e4a98",
   "metadata": {
    "editable": false,
    "slideshow": {
     "slide_type": ""
    },
    "tags": []
   },
   "outputs": [],
   "source": [
    "# for: laço de tamanho pré-determinado\n",
    "for i in 1:5\n",
    "    print(i, \" \")\n",
    "end"
   ]
  },
  {
   "cell_type": "code",
   "execution_count": null,
   "id": "d71d4635-d815-4e2b-9b1d-80387c599bea",
   "metadata": {
    "editable": false,
    "slideshow": {
     "slide_type": "fragment"
    },
    "tags": []
   },
   "outputs": [],
   "source": [
    "# while: laço de tamanho indeterminado\n",
    "k = rand(3:6) # sorteia um número inteiro entre 3 e 6\n",
    "while (k > 0)\n",
    "    print(k, \" \")\n",
    "    k = k - 1\n",
    "end"
   ]
  },
  {
   "cell_type": "markdown",
   "id": "0e72c184-884f-4f37-ab1a-2a10f59d2b13",
   "metadata": {
    "editable": true,
    "slideshow": {
     "slide_type": "slide"
    },
    "tags": []
   },
   "source": [
    "Laços podem ser finalizados com `break`. Interessante para parar um `while` ao verificar uma condição de parada de um método."
   ]
  },
  {
   "cell_type": "code",
   "execution_count": null,
   "id": "9c51f0b5-02b3-4a2e-bc9c-7e54568ed053",
   "metadata": {
    "editable": false,
    "slideshow": {
     "slide_type": "fragment"
    },
    "tags": []
   },
   "outputs": [],
   "source": [
    "function parada(x)\n",
    "    pare = false\n",
    "    if abs(x) < 1e-4    # o mesmo que abs(x) < 0.0001\n",
    "        pare = true\n",
    "    end\n",
    "    return pare\n",
    "end\n",
    "\n",
    "maxiter = 5; k = 0; x = 1.0\n",
    "while (true)\n",
    "    println(\"Iteração $(k), x = $(x)\")\n",
    "    if (k >= maxiter)\n",
    "        println(\"Número máximo de iterações atingido.\")\n",
    "        break\n",
    "    end\n",
    "\n",
    "    x /= 10   # o mesmo que x = x/10\n",
    "    if parada(x)\n",
    "        println(\"Critério de parada atingido, x = $(x)\")\n",
    "        break\n",
    "    end\n",
    "    k += 1   # o mesmo que k = k + 1\n",
    "end"
   ]
  },
  {
   "cell_type": "markdown",
   "id": "b608427a-01b5-46f8-a262-4fb140f12f0f",
   "metadata": {
    "editable": true,
    "slideshow": {
     "slide_type": "slide"
    },
    "tags": []
   },
   "source": [
    "### Vetores e matrizes"
   ]
  },
  {
   "cell_type": "markdown",
   "id": "fb404817-bffe-4919-99da-24c313ba0eb8",
   "metadata": {
    "editable": true,
    "slideshow": {
     "slide_type": ""
    },
    "tags": []
   },
   "source": [
    "Em Julia, vetores são sempre vetores-colunas.\n",
    "\n",
    "`;` separa **linhas**\n",
    "\n",
    "espaço separa **colunas**"
   ]
  },
  {
   "cell_type": "code",
   "execution_count": null,
   "id": "b2aab3af-db02-4bc5-87c0-9744e304c224",
   "metadata": {
    "editable": false,
    "slideshow": {
     "slide_type": "fragment"
    },
    "tags": []
   },
   "outputs": [],
   "source": [
    "# Definindo um vetor\n",
    "v = [1;2;3;4;5]"
   ]
  },
  {
   "cell_type": "code",
   "execution_count": null,
   "id": "d0b7c779-db6e-4461-8085-12f4e21730c4",
   "metadata": {
    "editable": false,
    "slideshow": {
     "slide_type": "fragment"
    },
    "tags": []
   },
   "outputs": [],
   "source": [
    "# Definindo uma matriz\n",
    "A = [1.0  2.5  3.9;  4.0  5.9  6.7;  7.0  8.0  9.1]"
   ]
  },
  {
   "cell_type": "markdown",
   "id": "66db938b-b2b6-41a1-8876-3531307b7b30",
   "metadata": {
    "editable": true,
    "slideshow": {
     "slide_type": "slide"
    },
    "tags": []
   },
   "source": [
    "**Alguns comandos básicos:**"
   ]
  },
  {
   "cell_type": "code",
   "execution_count": null,
   "id": "21981ce8-c4cf-4670-bbf6-18bb1e1c6d9a",
   "metadata": {
    "editable": false,
    "slideshow": {
     "slide_type": "fragment"
    },
    "tags": []
   },
   "outputs": [],
   "source": [
    "n = 3; m = 2;\n",
    "# sorteia um vetor de tamanho n com entradas entre 0 e 1\n",
    "w = rand(n)"
   ]
  },
  {
   "cell_type": "code",
   "execution_count": null,
   "id": "6bab7082-82bc-48b9-95fc-9a6fffbbe8ce",
   "metadata": {
    "editable": false,
    "slideshow": {
     "slide_type": "fragment"
    },
    "tags": []
   },
   "outputs": [],
   "source": [
    "# sorteia uma matriz m x n com entradas entre 0 e 1\n",
    "M = rand(m,n)"
   ]
  },
  {
   "cell_type": "markdown",
   "id": "de537691-c35d-45cf-998e-16a590047204",
   "metadata": {
    "editable": true,
    "slideshow": {
     "slide_type": "slide"
    },
    "tags": []
   },
   "source": [
    "**Operações**"
   ]
  },
  {
   "cell_type": "code",
   "execution_count": null,
   "id": "21ed728d-a280-4f55-876d-2f8c0df43b5e",
   "metadata": {
    "editable": false,
    "slideshow": {
     "slide_type": ""
    },
    "tags": []
   },
   "outputs": [],
   "source": [
    "A = rand(3,5);\n",
    "B = rand(5,4);\n",
    "C = rand(3,5);\n",
    "a = rand(5);\n",
    "b = rand(5);"
   ]
  },
  {
   "cell_type": "code",
   "execution_count": null,
   "id": "f40ffd7e-0f09-4d8f-a73e-eff6cb667f3d",
   "metadata": {
    "editable": false,
    "slideshow": {
     "slide_type": "fragment"
    },
    "tags": []
   },
   "outputs": [],
   "source": [
    "# Adicão/multiplicação por escalar\n",
    "S = 3*A - 1e-2*C"
   ]
  },
  {
   "cell_type": "code",
   "execution_count": null,
   "id": "a6295a05-58cb-48be-a235-2e0a0e1d257c",
   "metadata": {
    "editable": false,
    "slideshow": {
     "slide_type": "fragment"
    },
    "tags": []
   },
   "outputs": [],
   "source": [
    "C = A*b"
   ]
  },
  {
   "cell_type": "code",
   "execution_count": null,
   "id": "5edb1be3-e219-446e-9019-abf58bae7e24",
   "metadata": {
    "editable": false,
    "slideshow": {
     "slide_type": "slide"
    },
    "tags": []
   },
   "outputs": [],
   "source": [
    "C = A*B"
   ]
  },
  {
   "cell_type": "code",
   "execution_count": null,
   "id": "f4954506-573c-496f-b1b7-9c760d18f5d7",
   "metadata": {
    "editable": false,
    "slideshow": {
     "slide_type": "fragment"
    },
    "tags": []
   },
   "outputs": [],
   "source": [
    "# Transposição\n",
    "At = A'"
   ]
  },
  {
   "cell_type": "markdown",
   "id": "17b68064-2db0-4d9c-94ef-4835a55c6afa",
   "metadata": {
    "editable": true,
    "slideshow": {
     "slide_type": "slide"
    },
    "tags": []
   },
   "source": [
    "**Matrizes especiais**"
   ]
  },
  {
   "cell_type": "code",
   "execution_count": null,
   "id": "d92cb8b3-021f-4da1-9582-73886ba310e8",
   "metadata": {
    "editable": false,
    "slideshow": {
     "slide_type": ""
    },
    "tags": []
   },
   "outputs": [],
   "source": [
    "A = [1 2 3; 4 5 6; 7 8 9]"
   ]
  },
  {
   "cell_type": "code",
   "execution_count": null,
   "id": "176a7781-5926-4100-95b5-0d415e17d83d",
   "metadata": {
    "editable": false,
    "slideshow": {
     "slide_type": "fragment"
    },
    "tags": []
   },
   "outputs": [],
   "source": [
    "using LinearAlgebra\n",
    "# Matriz simétrica\n",
    "Symmetric(A)"
   ]
  },
  {
   "cell_type": "code",
   "execution_count": null,
   "id": "828beb41-0517-43a7-a77e-48f9094b59b5",
   "metadata": {
    "editable": false,
    "slideshow": {
     "slide_type": "fragment"
    },
    "tags": []
   },
   "outputs": [],
   "source": [
    "# Usando o triângulo inferior\n",
    "Symmetric(A, :L)"
   ]
  },
  {
   "cell_type": "code",
   "execution_count": null,
   "id": "d0dfcb67-8e80-4bef-8d37-46bc8807bee2",
   "metadata": {
    "editable": false,
    "slideshow": {
     "slide_type": "slide"
    },
    "tags": []
   },
   "outputs": [],
   "source": [
    "# Matriz identidade de ordem n\n",
    "using LinearAlgebra\n",
    "n = 3\n",
    "I(n)"
   ]
  },
  {
   "cell_type": "code",
   "execution_count": null,
   "id": "6e2b9ebd-33b2-4547-b251-53c329dfc71e",
   "metadata": {
    "editable": false,
    "slideshow": {
     "slide_type": "fragment"
    },
    "tags": []
   },
   "outputs": [],
   "source": [
    "# Matriz diagonal\n",
    "D = Diagonal([1;4;6])"
   ]
  },
  {
   "cell_type": "code",
   "execution_count": null,
   "id": "4893519e-333b-4887-ac30-f16456041982",
   "metadata": {
    "editable": false,
    "slideshow": {
     "slide_type": "fragment"
    },
    "tags": []
   },
   "outputs": [],
   "source": [
    "# Triangular inferior\n",
    "tril(A)"
   ]
  },
  {
   "cell_type": "code",
   "execution_count": null,
   "id": "6f46205a-6066-4c73-834a-ed031a218b69",
   "metadata": {
    "editable": false,
    "slideshow": {
     "slide_type": "fragment"
    },
    "tags": []
   },
   "outputs": [],
   "source": [
    "# Triangular superior\n",
    "triu(A)"
   ]
  },
  {
   "cell_type": "code",
   "execution_count": null,
   "id": "d04296f5-dbb2-4c5e-8ee9-e185c3be040d",
   "metadata": {
    "editable": false,
    "slideshow": {
     "slide_type": "slide"
    },
    "tags": []
   },
   "outputs": [],
   "source": [
    "# Vetor/Matriz de 1's\n",
    "w = ones(10);\n",
    "W = ones(10,4);"
   ]
  },
  {
   "cell_type": "code",
   "execution_count": null,
   "id": "ba2f6e46-9d97-4be4-b0c3-7c32ff8582b6",
   "metadata": {
    "editable": false,
    "slideshow": {
     "slide_type": "fragment"
    },
    "tags": []
   },
   "outputs": [],
   "source": [
    "# Vetor/Matriz de zeros\n",
    "z = zeros(10);\n",
    "Z = zeros(10,4);"
   ]
  },
  {
   "cell_type": "markdown",
   "id": "2581d61a-5dd8-44a8-a47f-16577bf03461",
   "metadata": {
    "editable": true,
    "slideshow": {
     "slide_type": "slide"
    },
    "tags": []
   },
   "source": [
    "**Atenção!**\n",
    "\n",
    "Supõe que queiramos fazer uma cópia de um vetor `a` em um vetor `b'..."
   ]
  },
  {
   "cell_type": "code",
   "execution_count": null,
   "id": "9c69aad9-137b-4ff7-90d6-20870451ad21",
   "metadata": {
    "editable": false,
    "slideshow": {
     "slide_type": ""
    },
    "tags": []
   },
   "outputs": [],
   "source": [
    "a = rand(2)"
   ]
  },
  {
   "cell_type": "code",
   "execution_count": null,
   "id": "004ce223-ac91-4409-a1e7-75a9404fede8",
   "metadata": {
    "editable": false,
    "slideshow": {
     "slide_type": "fragment"
    },
    "tags": []
   },
   "outputs": [],
   "source": [
    "b = a"
   ]
  },
  {
   "cell_type": "markdown",
   "id": "9fac69b9-7551-44d2-9f46-53e6e86b2ddf",
   "metadata": {
    "editable": true,
    "slideshow": {
     "slide_type": ""
    },
    "tags": []
   },
   "source": [
    "Aparentemente, `b` é uma cópia de `a`. Porém, o trecho de código acima não copia `a` na memória, apenas faz uma referência à `a`. Assim, se alterarmos `b`, alteraremos `a`:"
   ]
  },
  {
   "cell_type": "code",
   "execution_count": null,
   "id": "2a55f25d-ac3a-4167-93d9-3b014ee08d5f",
   "metadata": {
    "editable": false,
    "slideshow": {
     "slide_type": "fragment"
    },
    "tags": []
   },
   "outputs": [],
   "source": [
    "b[1] = 0\n",
    "a"
   ]
  },
  {
   "cell_type": "markdown",
   "id": "d694f977-c585-4fd8-9cb9-a8a149b143d5",
   "metadata": {
    "editable": true,
    "slideshow": {
     "slide_type": "slide"
    },
    "tags": []
   },
   "source": [
    "Uma cópia na memória pode ser feita:"
   ]
  },
  {
   "cell_type": "code",
   "execution_count": null,
   "id": "0dc61ce7-00d5-447e-87d3-23783c7149cb",
   "metadata": {
    "editable": false,
    "slideshow": {
     "slide_type": ""
    },
    "tags": []
   },
   "outputs": [],
   "source": [
    "a = rand(2)\n",
    "b = deepcopy(a)   # aloca uma nova cópia de \"a\" memória"
   ]
  },
  {
   "cell_type": "code",
   "execution_count": null,
   "id": "f23076d8-8210-4bbe-8774-549daf0819d1",
   "metadata": {
    "editable": false,
    "slideshow": {
     "slide_type": "fragment"
    },
    "tags": []
   },
   "outputs": [],
   "source": [
    "# alterando b\n",
    "b[1] = 0\n",
    "b"
   ]
  },
  {
   "cell_type": "code",
   "execution_count": null,
   "id": "1a7eb289-bd77-4f4a-bc7f-8881d183fe20",
   "metadata": {
    "editable": false,
    "slideshow": {
     "slide_type": "fragment"
    },
    "tags": []
   },
   "outputs": [],
   "source": [
    "# a não é alterado\n",
    "a"
   ]
  },
  {
   "cell_type": "markdown",
   "id": "523b4333-d333-4cc8-88ad-07e6a7d5a6cb",
   "metadata": {
    "editable": true,
    "slideshow": {
     "slide_type": "fragment"
    },
    "tags": []
   },
   "source": [
    "O Julia evita fazer cópias na memória por uma questão de eficiência. Assim, o programador deve decidir conscientemente alocar nova memória. Evite fazer cópias quando desnecessário, sobretudo dentro de laços, pois isso deixará seu código mais lento."
   ]
  },
  {
   "cell_type": "markdown",
   "id": "4e1928ed-574d-43f7-b00f-3fbe93ea4925",
   "metadata": {
    "editable": true,
    "slideshow": {
     "slide_type": "slide"
    },
    "tags": []
   },
   "source": [
    "**Alocando vetores**"
   ]
  },
  {
   "cell_type": "code",
   "execution_count": null,
   "id": "d1d3162b-d7e0-4515-aa8b-525c35fa7068",
   "metadata": {
    "editable": false,
    "slideshow": {
     "slide_type": ""
    },
    "tags": []
   },
   "outputs": [],
   "source": [
    "n = 2\n",
    "# alocando um vetor e preenchendo com zeros\n",
    "v = zeros(n)"
   ]
  },
  {
   "cell_type": "code",
   "execution_count": null,
   "id": "6e8bbc6d-0cc0-4b90-a8e2-532d9d75cca6",
   "metadata": {
    "editable": false,
    "slideshow": {
     "slide_type": "fragment"
    },
    "tags": []
   },
   "outputs": [],
   "source": [
    "# alocando um vetor com mesma estrutura de v,\n",
    "# mas sem preencher (só reserva o espaço de memória)\n",
    "u = similar(v)"
   ]
  },
  {
   "cell_type": "markdown",
   "id": "2eb7766a-ce07-4284-ad6b-92dfbee8985a",
   "metadata": {
    "editable": true,
    "slideshow": {
     "slide_type": "fragment"
    },
    "tags": []
   },
   "source": [
    "O comando `similar` reserva um espaço de memória, mas não grava as coordenadas (os valores que aparecem acima significam nada).\n",
    "\n",
    "No trecho acima, `u` tem o mesmo tamanho e tipo numérico que `v`. Isto é, `u` é um vetor de $\\mathbb R^4$ com dados do tipo `Float64` (numero real).\n",
    "\n",
    "Ao não gravar as coordenadas de `u`, economizamos tempo. Isso é útil quando apenas necessitamos reservar um espaço de memória para só depois gravar as coordenadas. Muito útil em implementações de métodos de otimização, como vamos utilizar mais a frente."
   ]
  },
  {
   "cell_type": "markdown",
   "id": "7ccf57df-34bd-4005-aba7-68c6782340ee",
   "metadata": {
    "editable": true,
    "slideshow": {
     "slide_type": "slide"
    },
    "tags": []
   },
   "source": [
    "**ATENÇÃO:** Se executarmos `u = v`, isso substituirá o vetor alocado pela referência à `v`, como antes.\n",
    "\n",
    "Para copiar `v` sobre `u`, precisamos gravar **coordenada a coordenada**."
   ]
  },
  {
   "cell_type": "code",
   "execution_count": null,
   "id": "a5e1028f-a5c5-45fe-bcff-21f825a025f0",
   "metadata": {
    "editable": false,
    "slideshow": {
     "slide_type": "fragment"
    },
    "tags": []
   },
   "outputs": [],
   "source": [
    "# primeira forma: fazer um laço que corre todas as coordenadas\n",
    "for i in 1:length(u)\n",
    "    u[i] = v[i]\n",
    "end"
   ]
  },
  {
   "cell_type": "code",
   "execution_count": null,
   "id": "8fdd7e94-ee4d-4e4b-bdb4-cb1536f6e5d9",
   "metadata": {
    "editable": false,
    "slideshow": {
     "slide_type": "fragment"
    },
    "tags": []
   },
   "outputs": [],
   "source": [
    "# segunda forma: notação .= (preferível)\n",
    "u .= v"
   ]
  },
  {
   "cell_type": "markdown",
   "id": "9843e606-0a67-4c2c-8531-4062e1fa6a69",
   "metadata": {
    "editable": true,
    "slideshow": {
     "slide_type": "slide"
    },
    "tags": []
   },
   "source": [
    "### Indexação\n",
    "\n",
    "A manipulação de matrizes e vetores no Julia é muito rica."
   ]
  },
  {
   "cell_type": "markdown",
   "id": "6371e7ce-38c1-46f9-9c00-f8b5dcdf0192",
   "metadata": {
    "editable": true,
    "slideshow": {
     "slide_type": "fragment"
    },
    "tags": []
   },
   "source": [
    "**Exemplos:**"
   ]
  },
  {
   "cell_type": "code",
   "execution_count": null,
   "id": "83c2e00b-62b5-46b3-9be7-2a5198eece87",
   "metadata": {
    "editable": false,
    "slideshow": {
     "slide_type": ""
    },
    "tags": []
   },
   "outputs": [],
   "source": [
    "v = [10;20;30;40;-50];"
   ]
  },
  {
   "cell_type": "code",
   "execution_count": null,
   "id": "dc99a838-37b3-418c-bc5e-ea92fe5905cf",
   "metadata": {
    "editable": false,
    "slideshow": {
     "slide_type": "fragment"
    },
    "tags": []
   },
   "outputs": [],
   "source": [
    "v[4]   # coordenada 4 de v"
   ]
  },
  {
   "cell_type": "code",
   "execution_count": null,
   "id": "db483c63-3e40-4e51-a67f-dbd2dd9206b4",
   "metadata": {
    "editable": false,
    "slideshow": {
     "slide_type": "fragment"
    },
    "tags": []
   },
   "outputs": [],
   "source": [
    "v[3:5]     # vetor coordenadas de 3 a 5"
   ]
  },
  {
   "cell_type": "code",
   "execution_count": null,
   "id": "73c6f1a7-d3d1-4a86-bbad-6e88a9c66a9a",
   "metadata": {
    "editable": false,
    "slideshow": {
     "slide_type": "fragment"
    },
    "tags": []
   },
   "outputs": [],
   "source": [
    "coords = [1;3;5]   # coordenadas 1, 4 e 6\n",
    "v[coords]"
   ]
  },
  {
   "cell_type": "code",
   "execution_count": null,
   "id": "5bcf77ee-74c6-4917-aa9c-b20814ca1624",
   "metadata": {
    "editable": false,
    "slideshow": {
     "slide_type": "slide"
    },
    "tags": []
   },
   "outputs": [],
   "source": [
    "v[v .> 30]    # coordenadas maiores que 30"
   ]
  },
  {
   "cell_type": "code",
   "execution_count": null,
   "id": "28c25e1d-c1ec-47f2-af87-124e4c6885e8",
   "metadata": {
    "editable": false,
    "slideshow": {
     "slide_type": "fragment"
    },
    "tags": []
   },
   "outputs": [],
   "source": [
    "v[(v .> 30) .| (v .< 0)]   # coordenadas maiores que 30 ou menores que 0"
   ]
  },
  {
   "cell_type": "code",
   "execution_count": null,
   "id": "b88d1029-629e-4b13-b1c7-7e12b7a8edaf",
   "metadata": {
    "editable": false,
    "slideshow": {
     "slide_type": "fragment"
    },
    "tags": []
   },
   "outputs": [],
   "source": [
    "# coordenadas indicadas por vetores de V ou F\n",
    "C = [true;false;false;true;true]\n",
    "v[C]"
   ]
  },
  {
   "cell_type": "code",
   "execution_count": null,
   "id": "7cf7e4cf-f29f-4dad-ba6e-b2184af33a69",
   "metadata": {
    "editable": false,
    "slideshow": {
     "slide_type": "fragment"
    },
    "tags": []
   },
   "outputs": [],
   "source": [
    "# índices correspondentes à negação de C\n",
    "v[.!C]"
   ]
  },
  {
   "cell_type": "markdown",
   "id": "2ecb6f80-fb43-4778-8b55-428bb7edeb26",
   "metadata": {
    "editable": true,
    "slideshow": {
     "slide_type": "slide"
    },
    "tags": []
   },
   "source": [
    "Podemos atribuir valor a qualquer vetor, coordenada, ou subvetor."
   ]
  },
  {
   "cell_type": "code",
   "execution_count": null,
   "id": "c18f96e9-ef9b-41f7-9584-7596e16fece4",
   "metadata": {
    "editable": false,
    "slideshow": {
     "slide_type": ""
    },
    "tags": []
   },
   "outputs": [],
   "source": [
    "v = [10;20;30;40;-50;35];"
   ]
  },
  {
   "cell_type": "code",
   "execution_count": null,
   "id": "e5e95c69-9285-495f-99c1-a2561ce7e979",
   "metadata": {
    "editable": false,
    "slideshow": {
     "slide_type": "fragment"
    },
    "tags": []
   },
   "outputs": [],
   "source": [
    "v[1] = 312"
   ]
  },
  {
   "cell_type": "code",
   "execution_count": null,
   "id": "382f7e3f-53c7-4c58-a9d1-5f215e096103",
   "metadata": {
    "editable": false,
    "slideshow": {
     "slide_type": ""
    },
    "tags": []
   },
   "outputs": [],
   "source": [
    "v"
   ]
  },
  {
   "cell_type": "code",
   "execution_count": null,
   "id": "6fe7b0b7-c374-49bd-a1c1-08f5a2dd1c6e",
   "metadata": {
    "editable": false,
    "slideshow": {
     "slide_type": "fragment"
    },
    "tags": []
   },
   "outputs": [],
   "source": [
    "# Atribuindo zero para as entradas de 3 a 5.\n",
    "# Usamos .= para vetores ao invés de = para mudar 1 coordenada\n",
    "v[3:5] .= 0;\n",
    "v"
   ]
  },
  {
   "cell_type": "markdown",
   "id": "984a2637-343e-4f7a-872f-b98cd0ea9f57",
   "metadata": {
    "editable": true,
    "slideshow": {
     "slide_type": "slide"
    },
    "tags": []
   },
   "source": [
    "O mesmo vale para matrizes. É possível ler/mudar linhas e colunas."
   ]
  },
  {
   "cell_type": "code",
   "execution_count": null,
   "id": "191bfbd0-303d-4172-8dd4-b75cd4a7e126",
   "metadata": {
    "editable": false,
    "slideshow": {
     "slide_type": ""
    },
    "tags": []
   },
   "outputs": [],
   "source": [
    "A = [1 2 3; 4 5 6; 7 8 9]"
   ]
  },
  {
   "cell_type": "code",
   "execution_count": null,
   "id": "d4f1eaf7-bdbc-409c-b2f4-7ab6cf3f86c3",
   "metadata": {
    "editable": false,
    "slideshow": {
     "slide_type": "fragment"
    },
    "tags": []
   },
   "outputs": [],
   "source": [
    "A[1,2] = 0;\n",
    "A"
   ]
  },
  {
   "cell_type": "code",
   "execution_count": null,
   "id": "81eeb483-5fdf-497c-b632-bf800c7d3a5f",
   "metadata": {
    "editable": false,
    "slideshow": {
     "slide_type": "slide"
    },
    "tags": []
   },
   "outputs": [],
   "source": [
    "# mudando a coluna 1 de A\n",
    "A[:,1] .= [-1;-2;-3];\n",
    "A"
   ]
  },
  {
   "cell_type": "code",
   "execution_count": null,
   "id": "38c7c2b2-b6a0-4376-9109-9c92e878436f",
   "metadata": {
    "editable": false,
    "slideshow": {
     "slide_type": "fragment"
    },
    "tags": []
   },
   "outputs": [],
   "source": [
    "# alterando as entradas 2 e 3 d linha 3\n",
    "A[3,2:3] .= [10;20];\n",
    "A"
   ]
  },
  {
   "cell_type": "markdown",
   "id": "982231a5-0648-4b3e-8f48-cf62d600f50b",
   "metadata": {
    "editable": true,
    "slideshow": {
     "slide_type": "slide"
    },
    "tags": []
   },
   "source": [
    "### Códigos salvos em arquivos\n",
    "\n",
    "Todo código escrito em Julia pode ser salvo em arquivos para ser posteriormente carregado.\n",
    "\n",
    "A extensão dos arquivos de código é `.jl`"
   ]
  },
  {
   "cell_type": "markdown",
   "id": "ea7de392-a7b7-4cfe-81cd-68535b1cd2f1",
   "metadata": {
    "editable": true,
    "slideshow": {
     "slide_type": ""
    },
    "tags": []
   },
   "source": [
    "Para carregar os códigos de um arquivo salvo, basta executar\n",
    "\n",
    "`include(\"arquivo.jl\")`\n",
    "\n",
    "Se o arquivo está dentro de uma pasta, deve-se passar o caminho relativo contendo o nome da pasta.\n",
    "\n",
    "Para facilitar, você pode salvar todos os arquivos `.jl` numa mesma pasta."
   ]
  },
  {
   "cell_type": "markdown",
   "id": "1fec2ac2-dca0-42f5-b75c-f76f13bb51d4",
   "metadata": {
    "editable": true,
    "slideshow": {
     "slide_type": "slide"
    },
    "tags": []
   },
   "source": [
    "**Exemplo**"
   ]
  },
  {
   "cell_type": "code",
   "execution_count": null,
   "id": "1ac56c68-9452-4117-a02b-011e4cc96c8c",
   "metadata": {
    "editable": false,
    "slideshow": {
     "slide_type": ""
    },
    "tags": []
   },
   "outputs": [],
   "source": [
    "# Inclui o arquivo \"codigo.jl\"\n",
    "include(\"codigo.jl\");"
   ]
  },
  {
   "cell_type": "markdown",
   "id": "80a03f26-0cbc-4c5b-990c-2a9765609f00",
   "metadata": {
    "editable": true,
    "slideshow": {
     "slide_type": ""
    },
    "tags": []
   },
   "source": [
    "Nele, estão definidas duas funções `teste` e `teste2` e um vetor `dados`. Ao incluirmos, esses objetos ficam disponíveis."
   ]
  },
  {
   "cell_type": "code",
   "execution_count": null,
   "id": "ecd6a4e4-ee9f-4fda-8bc8-30a14db3e51d",
   "metadata": {
    "editable": false,
    "slideshow": {
     "slide_type": "fragment"
    },
    "tags": []
   },
   "outputs": [],
   "source": [
    "dados"
   ]
  },
  {
   "cell_type": "code",
   "execution_count": null,
   "id": "6a0cda1a-3452-45a6-ab4c-6886f3121c0d",
   "metadata": {
    "editable": false,
    "slideshow": {
     "slide_type": "fragment"
    },
    "tags": []
   },
   "outputs": [],
   "source": [
    "teste()"
   ]
  },
  {
   "cell_type": "code",
   "execution_count": null,
   "id": "150c89f7-d13f-4c05-b05f-29ea04da2932",
   "metadata": {
    "editable": false,
    "slideshow": {
     "slide_type": "fragment"
    },
    "tags": []
   },
   "outputs": [],
   "source": [
    "teste2(dados)"
   ]
  },
  {
   "cell_type": "code",
   "execution_count": null,
   "id": "3455965d-5724-4b2b-80db-36bd63e31bc9",
   "metadata": {
    "editable": false,
    "slideshow": {
     "slide_type": "fragment"
    },
    "tags": []
   },
   "outputs": [],
   "source": [
    "teste2([2;5;7;8;12])"
   ]
  },
  {
   "cell_type": "markdown",
   "id": "362f4098-1275-4a61-a0e4-78c4cd17300e",
   "metadata": {
    "editable": true,
    "slideshow": {
     "slide_type": "slide"
    },
    "tags": []
   },
   "source": [
    "**Observações:**\n",
    "1. Você pode usar qualquer editor tipo \"bloco de notas\" para escrever arquivos `.jl`. O Jupyter-lab possui um editor que edita/cria arquivos do tipo.\n",
    "2. Você pode incluir arquivos em arquivos, isto é, o comando `include` pode ser usado dentro de um arquivo `.jl` para incluir outro arquivo. Se por exemplo `arquivo1.jl` inclue `arquivo2.jl`, ao carregar `arquivo1.jl`, `arquivo2.jl` também será incluído.\n",
    "3. A separação de códigos em vários arquivos é uma questão de organização apenas. Você quem decidirá como organizar seu código!"
   ]
  },
  {
   "cell_type": "markdown",
   "id": "d33d8e92-0487-413e-b30c-809a175affc0",
   "metadata": {
    "editable": true,
    "slideshow": {
     "slide_type": "slide"
    },
    "tags": []
   },
   "source": [
    "## Gerenciamento de pacotes\n",
    "\n",
    "Além das funções básicas que o Julia traz nativamente, podemos usar funções/algoritmos prontos para tarefas específicas.\n",
    "\n",
    "Um pacote nada mais é que um conjunto de intruções pré-implementadas para um determinado fim.\n",
    "\n",
    "Por ser *software* livre, qualquer pessoa pode implementar pacotes. A comunidade de otimização é bastante ativa, e logo há inúmeros pacotes disponíveis para uso dentro do Julia."
   ]
  },
  {
   "cell_type": "markdown",
   "id": "6ac13f18-1404-4d00-83f0-be3d6c7c8352",
   "metadata": {
    "editable": true,
    "slideshow": {
     "slide_type": "fragment"
    },
    "tags": []
   },
   "source": [
    "O gerenciador de pacotes pode ser acessado de dentro do Julia teclando ```]```"
   ]
  },
  {
   "cell_type": "markdown",
   "id": "ac9b206e-a11e-42ea-b56b-7b346ddeaf66",
   "metadata": {
    "editable": true,
    "slideshow": {
     "slide_type": "fragment"
    },
    "tags": []
   },
   "source": [
    "- **Adicionar um pacote:** ```]add PACOTE```  \n",
    "  Isso fará o download automático e instalará o pacote. Uma vez feito, não é necessário instalar novamente o pacote, ele sempre estará disponível para uso\n",
    "- **Remover um pacote:** ```]rm PACOTE```\n",
    "- **Atualizar todos os pacotes instalados:** ```]up```\n",
    "\n",
    "Para uma lista de pacotes disponíveis, consulte https://juliapackages.com"
   ]
  },
  {
   "cell_type": "markdown",
   "id": "ffc77b33-6c68-4fed-b3ac-51e1a51bcc54",
   "metadata": {
    "editable": true,
    "slideshow": {
     "slide_type": "slide"
    },
    "tags": []
   },
   "source": [
    "## Alguns pacotes frequentemente utilizados\n",
    "\n",
    "- `LinearAlgebra`  \n",
    "  Rotinas típicas de álgebra linear (operações eficientes com vetores/matrizes, fatorações, resolução de sistemas lineares)\n",
    "\n",
    "- `SparseArrays`  \n",
    "  Armazenamento eficiente de matrizes esparsas\n",
    "\n",
    "- `Plots`  \n",
    "  Plotagem de figuras/gráficos\n",
    "\n",
    "- `DataFrames`  \n",
    "  Ferramentas para manipulação de dados organizados em tabelas\n",
    "\n",
    "- `JuMP`  \n",
    "  **Escrita de modelos de otimização de \"forma natural\"**\n",
    "\n",
    "- `NLPModels`, `NLPModelsJuMP`  \n",
    "  **Cálculo automático de derivadas dos dados de um modelo de otimização**"
   ]
  },
  {
   "cell_type": "markdown",
   "id": "7a66feb3-a191-47aa-b779-4d74ffaebf02",
   "metadata": {
    "editable": true,
    "slideshow": {
     "slide_type": "slide"
    },
    "tags": []
   },
   "source": [
    "## Usando pacotes\n",
    "\n",
    "A instalação de um pacote é feita uma única vez:\n",
    "\n",
    "`]add PACOTE`"
   ]
  },
  {
   "cell_type": "markdown",
   "id": "2e45706a-8ce3-41bc-90e8-f5ddff3093e4",
   "metadata": {
    "editable": true,
    "slideshow": {
     "slide_type": "fragment"
    },
    "tags": []
   },
   "source": [
    "A partir de então, o pacote estará disponível para uso sempre que requisitado.\n",
    "\n",
    "O pacote deverá ser **carregado** antes do uso com o comando\n",
    "\n",
    "`using PACOTE`"
   ]
  },
  {
   "cell_type": "markdown",
   "id": "80eb8d0e-3dce-43bb-8351-5da61933c8f6",
   "metadata": {
    "editable": true,
    "slideshow": {
     "slide_type": "slide"
    },
    "tags": []
   },
   "source": [
    "**Exemplo:**"
   ]
  },
  {
   "cell_type": "code",
   "execution_count": null,
   "id": "3cb423d4-0211-4a31-909b-54bfe01192ea",
   "metadata": {
    "editable": false,
    "slideshow": {
     "slide_type": ""
    },
    "tags": []
   },
   "outputs": [],
   "source": [
    "n = 100;\n",
    "x = rand(n);"
   ]
  },
  {
   "cell_type": "code",
   "execution_count": null,
   "id": "ffa16175-88e6-4771-8c40-7fe89386c44e",
   "metadata": {
    "editable": false,
    "slideshow": {
     "slide_type": "fragment"
    },
    "tags": []
   },
   "outputs": [],
   "source": [
    "norma = norm(x)\n",
    "println(\"norma de x = \",norma)"
   ]
  },
  {
   "cell_type": "code",
   "execution_count": null,
   "id": "fef9e0db-5969-422b-977a-1f8f159c684d",
   "metadata": {
    "editable": false,
    "slideshow": {
     "slide_type": "fragment"
    },
    "tags": []
   },
   "outputs": [],
   "source": [
    "# carrega pacote LinearAlgebra (previamente instalado)\n",
    "using LinearAlgebra\n",
    "\n",
    "# agora o comando norm está disponível!\n",
    "norma = norm(x)\n",
    "println(\"norma de x = \",norma)"
   ]
  },
  {
   "cell_type": "markdown",
   "id": "bd6ecf0e-6edf-45ac-83d4-4be43b4474e1",
   "metadata": {
    "editable": true,
    "slideshow": {
     "slide_type": "slide"
    },
    "tags": []
   },
   "source": [
    "## Executando códigos\n",
    "\n",
    "Ao executar uma função/código, principalmente aqueles carregados de arquivos `.jl`, Julia irá compilá-lo na primeira execução. É como se o Julia executasse um compilador ao executar uma função pela primeira vez.\n",
    "\n",
    "**Portanto, é normal que a primeira execução demore mais tempo.**"
   ]
  },
  {
   "cell_type": "markdown",
   "id": "edfab7e6-9530-4d7d-a167-7daeaf02ce99",
   "metadata": {
    "editable": true,
    "slideshow": {
     "slide_type": "fragment"
    },
    "tags": []
   },
   "source": [
    "As execuções seguintes serão rápidas, justamente porque o código já estará compilado.\n",
    "\n",
    "A inserção de pacotes pela primeira vez também costuma levar um tempo maior. Depois de inseridos, eles estarão carregados na memória para rápida execução.\n",
    "\n",
    "Você perceberá isso na medida em que usa o Julia."
   ]
  },
  {
   "cell_type": "markdown",
   "id": "68982c6d-1b7a-400f-89f1-438fded4b9b9",
   "metadata": {
    "editable": true,
    "slideshow": {
     "slide_type": "fragment"
    },
    "tags": []
   },
   "source": [
    "**Reforçando:** depois de compilados, os códigos em Julia rodam MUITO mais rápido que Matlab! Em processos iterativos, como os algoritmos de otimização, isso traz grande granho em eficiência."
   ]
  },
  {
   "cell_type": "markdown",
   "id": "ff58159a-9e4c-48c9-8cb0-9522df08e2a6",
   "metadata": {
    "editable": true,
    "slideshow": {
     "slide_type": "slide"
    },
    "tags": []
   },
   "source": [
    "## Mais exemplos"
   ]
  },
  {
   "cell_type": "markdown",
   "id": "0e129877-c182-40c1-917d-111bee2ed995",
   "metadata": {
    "editable": true,
    "slideshow": {
     "slide_type": "slide"
    },
    "tags": []
   },
   "source": [
    "### Plotando um gráfico - pacote `Plots`"
   ]
  },
  {
   "cell_type": "code",
   "execution_count": null,
   "id": "7d0679aa-0f42-41b7-a4ff-03d58003959a",
   "metadata": {
    "editable": false,
    "slideshow": {
     "slide_type": ""
    },
    "tags": []
   },
   "outputs": [],
   "source": [
    "using Plots"
   ]
  },
  {
   "cell_type": "code",
   "execution_count": null,
   "id": "60fb9f78-171c-4590-a070-9020bf558747",
   "metadata": {
    "editable": false,
    "slideshow": {
     "slide_type": "fragment"
    },
    "tags": []
   },
   "outputs": [],
   "source": [
    "x = -1:0.05:1;    # intervalo [-1,1] com passo 0.05\n",
    "# função y = x^2\n",
    "y(x) = x^2;"
   ]
  },
  {
   "cell_type": "code",
   "execution_count": null,
   "id": "3cac97af-f002-496a-8b0d-49dfc0c0df97",
   "metadata": {
    "editable": false,
    "slideshow": {
     "slide_type": "fragment"
    },
    "tags": []
   },
   "outputs": [],
   "source": [
    "fig = plot(x, y, size=(400,300))    # constrói a figura"
   ]
  },
  {
   "cell_type": "markdown",
   "id": "a58c8417-8d3e-49b4-932b-3703fbe7ba09",
   "metadata": {
    "editable": true,
    "slideshow": {
     "slide_type": "slide"
    },
    "tags": []
   },
   "source": [
    "Plots aceitam personalização e sobreposição na mesma figura (observe os comandos com `!`)"
   ]
  },
  {
   "cell_type": "code",
   "execution_count": null,
   "id": "192f03cc-cf37-4513-be5f-41e530f9ef05",
   "metadata": {
    "editable": false,
    "slideshow": {
     "slide_type": ""
    },
    "tags": []
   },
   "outputs": [],
   "source": [
    "using LaTeXStrings\n",
    "\n",
    "# legenda com código LaTex\n",
    "fig = plot(x, y, label=L\"f(x)=x^2\", color=:black, size=(400,200))\n",
    "# pontos laranja em cada x_i\n",
    "fig = scatter!(x, y, label=\"\", color=:red);\n",
    "# anotação na posição (0,0.6)\n",
    "fig = annotate!(0, 0.6, L\"\\textrm{área}=\\int_{-1}^1 x^2 \\, dx\");\n",
    "# salva a figura\n",
    "savefig(fig, \"exemplo.png\");\n",
    "# exibe na tela\n",
    "display(fig);"
   ]
  },
  {
   "cell_type": "markdown",
   "id": "b240a4b7-0b1d-4efb-a8b1-7119220138d4",
   "metadata": {
    "editable": true,
    "slideshow": {
     "slide_type": "slide"
    },
    "tags": []
   },
   "source": [
    "#### Algumas opções de personalização\n",
    "\n",
    "**Textos:**\n",
    "- Texto do título: `title=\"Texto do título\"`\n",
    "- Texto dos eixos: `xlabel=\"x\"`, `ylabel=\"y\"`\n",
    "- Texto da legenda: `label=\"f\"`\n",
    "\n",
    "**Eixos:**\n",
    "- Marcas nos eixos: `xtick=(0:0.5:10, [\"\\$ $(i) \\$\" for i in 0:0.5:10])`, `ytick=-1:0.5:1`\n",
    "- Limites nos eixos: `xlims=(0,10)`, `ylims=(-1,1)`\n",
    "- Escala dos eixos: `xscale/yscale=:identity :log10`\n",
    "- Forçar mesma proporção entre eixos: `aspect_ratio=:equal`\n",
    "\n",
    "**Fontes:**\n",
    "- Tamanho da fonte do título: `titlefont=font(40)`\n",
    "- Tamanho da fonte dos eixos: `xguidefont=font(30), yguidefont=font(20)` ou `guidefont=font(20)`\n",
    "- Tamanho da fonte das marcas: `xtickfont=font(15), ytickfont=font(20)` ou `tickfont=font(10)`\n",
    "- Tamanho da fonte da legenda: `legendfont=font(12)`\n",
    "- Mudar tudo para fonte padrão do Latex: `fontfamily=\"Computer Modern\"`"
   ]
  },
  {
   "cell_type": "markdown",
   "id": "fd2efcd9-680a-437e-b934-eb598802b673",
   "metadata": {
    "editable": true,
    "slideshow": {
     "slide_type": "slide"
    },
    "tags": []
   },
   "source": [
    "**Linhas dos gráficos:**\n",
    "\n",
    "- Espessura da linha do gráfico em pixels: `lw=3`\n",
    "- Estilo da linha do gráfico: `ls=:solid` (padrão) `:dot` `:dash` `:auto` `:dashdot` `:dashdotdot`\n",
    "- Cor da linha do gráfico: `color=:black` `:red` `:blue` `:yellow` `:cyan` `:orange`... ou `color=RGB(.1, .3, 1)`\n",
    "- Marcas no gráfico: `markershape=:none` (padrão) `:auto` `:circle` `:rect` `:star5` `:diamond` `:hexagon` `:cross` `:xcross` `:utriangle` `:dtriangle` `:rtriangle` `:ltriangle` `:pentagon` `:heptagon` `:octagon` `:star4` `:star6` `:star7` `:star8` `:vline` `:hline` `:+`\n",
    "- Tamanho das marcas do gráfico em pixels: `markersize=4`\n",
    "\n",
    "**Outras configurações da legenda:**\n",
    "\n",
    "- Posição da legenda: `legend=:right` `:left` `:top` `:bottom` `:inside` `:best` `:topright` `:topleft` `:bottomleft` `:bottomright`\n",
    "- Ocultar legenda: `leg=false`\n",
    "- Cor do fundo da legenda: `background_color_legend=:[COR]` ou `background_color_legend=:transparent` (fundo transparente)\n",
    "\n",
    "**Imagem:**\n",
    "\n",
    "- Tamanho da imagem em pixels: `size=(500,400)`\n",
    "- Preencher área abaixo do gráfico: `fill=(0,:orange,0.5)` (altura referência $y = 0$, cor laranja, 50% de opacidade)"
   ]
  },
  {
   "cell_type": "markdown",
   "id": "f2849495-f77e-468e-8037-29ec59d47064",
   "metadata": {
    "editable": true,
    "slideshow": {
     "slide_type": "slide"
    },
    "tags": []
   },
   "source": [
    "### Resolvendo sistemas lineares médios/pequenos\n",
    "\n",
    "A resolução de sistemas lineares no Julia pode ser feita pelo comando `\\`."
   ]
  },
  {
   "cell_type": "code",
   "execution_count": null,
   "id": "d965a3da-a260-46cd-957c-3543e708c898",
   "metadata": {
    "editable": false,
    "slideshow": {
     "slide_type": ""
    },
    "tags": []
   },
   "outputs": [],
   "source": [
    "A = [3 2 1;\n",
    "     4 6 5;\n",
    "     7 8 9]\n",
    "b = [0; 1; 2]\n",
    "\n",
    "# Resolvendo o sistema Ax = b\n",
    "x = A\\b"
   ]
  },
  {
   "cell_type": "code",
   "execution_count": null,
   "id": "6aacdd8d-7749-4d85-8640-c27f48a081c8",
   "metadata": {
    "editable": false,
    "slideshow": {
     "slide_type": "fragment"
    },
    "tags": []
   },
   "outputs": [],
   "source": [
    "norm(A*x - b)"
   ]
  },
  {
   "cell_type": "markdown",
   "id": "005501c7-fe7d-481d-9717-f70f99765b60",
   "metadata": {
    "editable": true,
    "slideshow": {
     "slide_type": "slide"
    },
    "tags": []
   },
   "source": [
    "`\\` implementa várias técnicas: dependendo da matriz $A$, Julia decide qual a melhor forma de resolver $Ax=b$. Por exemplo,\n",
    "- Se $A$ é triangular, então o sistema é resolvido por substituição ($A$ não é fatorada)\n",
    "- Se $A$ for quadrada e não triangular, $Ax=b$ é resolvido usando fatoração LU\n",
    "- Se $A$ for retangular, `x = A\\b` será a solução de quadrados mínimos computada usando fatoração QR\n",
    "- Se $A$ for esparsa, LDL$^t$ é usada\n",
    "\n",
    "Portanto, é útil **fornecer a estrutura da matriz caso você já saiba!** Isso resultará em ganho de eficiência."
   ]
  },
  {
   "cell_type": "code",
   "execution_count": null,
   "id": "840454e4-c447-42e7-9ee6-3fb54ec8205c",
   "metadata": {
    "editable": false,
    "slideshow": {
     "slide_type": "fragment"
    },
    "tags": []
   },
   "outputs": [],
   "source": [
    "# Matriz triangular superior\n",
    "A = [3 2 1;\n",
    "     0 6 5;\n",
    "     0 0 9]"
   ]
  },
  {
   "cell_type": "code",
   "execution_count": null,
   "id": "38ddca1d-90f3-468b-847d-1b6f86b85259",
   "metadata": {
    "editable": false,
    "slideshow": {
     "slide_type": "slide"
    },
    "tags": []
   },
   "outputs": [],
   "source": [
    "b = [1;2;3]\n",
    "x = A\\b    # apesar de A ser triangular, é tratada como uma matriz qualquer"
   ]
  },
  {
   "cell_type": "code",
   "execution_count": null,
   "id": "e4f04298-9614-4f26-82a8-97476f54a668",
   "metadata": {
    "editable": false,
    "slideshow": {
     "slide_type": "fragment"
    },
    "tags": []
   },
   "outputs": [],
   "source": [
    "x = triu(A)\\b   # aqui dizemos ao Julia que A é triangular"
   ]
  },
  {
   "cell_type": "markdown",
   "id": "983976d2-bfab-459c-831b-791a86b8da38",
   "metadata": {
    "editable": true,
    "jp-MarkdownHeadingCollapsed": true,
    "slideshow": {
     "slide_type": "slide"
    },
    "tags": []
   },
   "source": [
    "## Instalação e execução do Jupyter-lab\n",
    "\n",
    "Uma maneira de instalar o Jupyter-lab é a partir do próprio Julia:\n",
    "\n",
    "- Abra o Julia\n",
    "- Instale o pacote `IJulia` (`]add IJulia`)  \n",
    "  Isso instalará o Jupyter-lab e o núcleo do Julia para o Jupyter-lab, que permite a execução de comandos Julia direto no ambiente gráfico. A instalação é feita uma única vez.\n",
    "\n",
    "Com o `IJulia` instalado, você poderá abrir o Jupyter-lab **a partir do menu de programas do sistema operacional**. Caso não seja possível, uma opção é abri-lo a partir do Julia:\n",
    "- Abra o Julia\n",
    "- Carregue o pacote `IJulia` (`using IJulia`)\n",
    "- Execute `jupyterlab()`"
   ]
  },
  {
   "cell_type": "markdown",
   "id": "1c6bcc1a-1643-4641-882c-da97160ad198",
   "metadata": {
    "editable": true,
    "slideshow": {
     "slide_type": "slide"
    },
    "tags": []
   },
   "source": [
    "## Como obter ajuda para pacotes e comandos?\n",
    "\n",
    "As principais fontes de ajuda são:\n",
    "- Para ajuda com comandos de um pacote específico, consulte a página do pacote. Ela geralmente traz instruções de uso e a documentação completa\n",
    "- Um atalho que geralmente resolve é o ambiente de ajuda do Julia: teclando ```?COMANDO```, uma ajuda com exemplos é exibida\n",
    "- Fóruns na internet\n",
    "- Documentação oficial do Julia (https://docs.julialang.org/en/v1)\n",
    "\n",
    "Usualmente, tudo começa com uma busca do tipo \"como fazer tal coisa no julia?\""
   ]
  },
  {
   "cell_type": "markdown",
   "id": "2e8d5db3-7a65-4fa6-bc24-a61c0e5b591a",
   "metadata": {
    "editable": true,
    "slideshow": {
     "slide_type": "fragment"
    },
    "tags": []
   },
   "source": [
    "**Exemplo:**\n",
    "\n",
    "1. Como computar a decomposição SVD de uma matriz?...\n",
    "1. Um dos pacotes que faz isso é o ```LinearAlgebra```, que traz o comando ```svd``` (pode não ser o único pacote)\n",
    "1. Experimente executar no Julia:\n",
    "   - Instale ```LinearAlgebra``` caso não o tenha\n",
    "   - ```using LinearAlgebra```\n",
    "   - ```?svd```"
   ]
  },
  {
   "cell_type": "markdown",
   "id": "befecf99-a655-4a52-9f83-d38c59cc50f2",
   "metadata": {
    "editable": true,
    "slideshow": {
     "slide_type": "slide"
    },
    "tags": []
   },
   "source": [
    "## Dicas úteis\n",
    "\n",
    "1. O terminal de comandos do Julia comporta-se como o GNU/Linux. Você pode começar a digitar um comando e teclar TAB --> TAB que verá as terminações possíveis. Isso dá agilidade e ajuda a lembrar dos comandos\n",
    "2. Além do próprio Julia, os desenvolvedores de pacotes lançam novas versões com correções e melhorias. Assim, é bom de tempos em tempos atualizá-los executando `]up`. O *download* e instalação das novas versões é automático\n",
    "3. Várias funções no Julia podem ser aplicadas a cada componente de uma lista (vetores, por exempo). Geralmente isso é indicado com um ponto depois do comando. Por exemplo:\n",
    "   - `abs(-1.0)` retorna o **número** $|-1|$\n",
    "   - `abs.([-1.0; 2.0; -8.5])` retorna o **vetor** dos valores absolutos de cada entrada, isto é, a função `abs` é aplicada **a cada componente** do vetor `[-1.0; 2.0; -8.5]`"
   ]
  },
  {
   "cell_type": "code",
   "execution_count": null,
   "id": "9a646a0f-d217-4747-8fd0-76b9fa13f676",
   "metadata": {
    "editable": false,
    "slideshow": {
     "slide_type": "fragment"
    },
    "tags": []
   },
   "outputs": [],
   "source": [
    "abs(-1.0)"
   ]
  },
  {
   "cell_type": "code",
   "execution_count": null,
   "id": "744b9584-383f-4316-9b74-2824bfb97779",
   "metadata": {
    "editable": false,
    "slideshow": {
     "slide_type": "fragment"
    },
    "tags": []
   },
   "outputs": [],
   "source": [
    "abs.([-1.0; 2.0; -8.5])"
   ]
  },
  {
   "cell_type": "markdown",
   "id": "4b630fb9-56eb-4fda-ad50-432e7134f850",
   "metadata": {
    "editable": true,
    "slideshow": {
     "slide_type": "slide"
    },
    "tags": []
   },
   "source": [
    "## Mensagem importante\n",
    "\n",
    "Como em qualquer linguagem, você aprenderá com a prática quais pacotes/comandos são adequados para as tarefas que costuma realizar!\n",
    "\n",
    "Com o tempo, você também começará a buscar melhores práticas de programação (visando eficiência, por exemplo) e pacotes mais adequados.\n",
    "\n",
    "**Isso só você pode fazer!!!**"
   ]
  },
  {
   "cell_type": "markdown",
   "id": "8f39f3e4-b531-4dc4-88b6-938b49dc0c75",
   "metadata": {
    "editable": true,
    "slideshow": {
     "slide_type": "slide"
    },
    "tags": []
   },
   "source": [
    "## Exercícios\n",
    "\n",
    "**Exercício 1:** Reproduza todos os comandos vistos até aqui. Familharize-se com a manipulação de vetores e matrizes, condicionais se...então e laços. Recorra à ajuda contida no Julia ou em outra fonte caso necessário.\n",
    "\n",
    "**Exercício 2:** Instale os seguintes pacotes no seu Julia:\n",
    "\n",
    "`LinearAlgebra`, `SparseArrays`, `Plots`, `DataFrames`, `JuMP`, `NLPModels`, `NLPModelsJuMP`, `MatrixDepot`, `Printf`, `DelimitedFiles`, `GLPK`, `NLPModelsIpopt`, `NLPModelsAlgencan`, `CUTEst`\n",
    "\n",
    "**Exercício 3:** Calcule a decomposição a valores singulares (SVD) de matrizes construídas randomicamente. Use o comando `svd` do pacote `LinearAlgebra`. Estude os exemplos contidos na ajuda do comando. Compare o produto $U\\Sigma V^t$ das matrizes obtidas na decomposição com a matriz original.\n",
    "\n",
    "**Exercício 4:** Procure um comando que compute a decomposição QR de uma matriz. Aplique em matrizes geradas randomicamente.\n",
    "\n",
    "**Exercício 5:** Crie um arquivo `.jl` de código com 2 funções que recebam uma matriz e retornem as fatorações SVD e QR. Carregue-o no Julia e aplique as funções à diferentes matrizes."
   ]
  },
  {
   "cell_type": "markdown",
   "id": "d6d808c8-a8ee-47d9-8588-83aa22a2e275",
   "metadata": {
    "editable": true,
    "slideshow": {
     "slide_type": "slide"
    },
    "tags": []
   },
   "source": [
    "# Escrevendo modelos de otimização - pacote `JuMP`\n",
    "\n",
    "Vamos considerar o modelo geral de otimização\n",
    "\n",
    "\\begin{align*}\n",
    "\\min_x \\, & f(x)\\\\\n",
    "\\text{s.a. }& h_i(x)=0, \\quad i=1,\\ldots,m\\\\\n",
    "&g_j(x)\\leq 0, \\quad j=1,\\ldots,p\\\\\n",
    "&l_i\\leq x_i\\leq u_i, \\quad i=1,\\ldots,n\n",
    "\\end{align*}\n",
    "\n",
    "Vamos supor que todas as funções sejam pelo menos de classe $\\mathcal C^1$.\n",
    "\n",
    "O pacote `JuMP` permite escrever modelos de otimização linear, não linear, restritos, irrestritos, com variáveis contínuas e/ou discretas de forma natural."
   ]
  },
  {
   "cell_type": "markdown",
   "id": "16b04b0d-1983-4318-a7c4-e80dd4f079b4",
   "metadata": {
    "editable": true,
    "slideshow": {
     "slide_type": "slide"
    },
    "tags": []
   },
   "source": [
    "## Exemplo 1\n",
    "\n",
    "\\begin{equation*}\n",
    "\\min_x x_1^2 + x_2^2\n",
    "\\end{equation*}"
   ]
  },
  {
   "cell_type": "code",
   "execution_count": null,
   "id": "69b64bff-68c0-466a-977a-36d941d8fd1e",
   "metadata": {
    "editable": false,
    "slideshow": {
     "slide_type": ""
    },
    "tags": []
   },
   "outputs": [],
   "source": [
    "# Carrega o pacote. ATENÇÃO: Julia faz distinção entre\n",
    "# maiúsculas e minúsculas, portanto jump, Jump etc não funcionará\n",
    "using JuMP"
   ]
  },
  {
   "cell_type": "code",
   "execution_count": null,
   "id": "d43fc517-2b90-4456-abae-5fc95550a708",
   "metadata": {
    "editable": false,
    "slideshow": {
     "slide_type": "fragment"
    },
    "tags": []
   },
   "outputs": [],
   "source": [
    "# cria o modelo em branco\n",
    "P1 = Model();"
   ]
  },
  {
   "cell_type": "code",
   "execution_count": null,
   "id": "f89c8fc3-b3ab-458c-909a-444ce7ce10aa",
   "metadata": {
    "editable": false,
    "slideshow": {
     "slide_type": "fragment"
    },
    "tags": []
   },
   "outputs": [],
   "source": [
    "# variáveis x1 e x2\n",
    "@variable(P1, x[1:2])"
   ]
  },
  {
   "cell_type": "code",
   "execution_count": null,
   "id": "9209cffb-46ed-4d45-9dfc-d6846c8c3cf6",
   "metadata": {
    "editable": false,
    "slideshow": {
     "slide_type": "fragment"
    },
    "tags": []
   },
   "outputs": [],
   "source": [
    "# função objetivo não linear, sentido de \"minimização\"\n",
    "@objective(P1, Min, x[1]^2 + x[2]^2)"
   ]
  },
  {
   "cell_type": "code",
   "execution_count": null,
   "id": "5a075199-b400-4413-98d5-b59cb4595f45",
   "metadata": {
    "editable": false,
    "slideshow": {
     "slide_type": "fragment"
    },
    "tags": []
   },
   "outputs": [],
   "source": [
    "# imprime o modelo para verificação\n",
    "print(P1)"
   ]
  },
  {
   "cell_type": "markdown",
   "id": "fbfafed7-77e9-4004-a26b-6f92ed90f2ef",
   "metadata": {
    "editable": true,
    "slideshow": {
     "slide_type": "slide"
    },
    "tags": []
   },
   "source": [
    "## Exemplo 2\n",
    "\n",
    "\\begin{align*}\n",
    "\\min_x & \\, \\sum_{i=1}^m (x_i-5)^2 + \\sum_{i=1}^{m-1} (x_{i+1} - x_i)^3\\\\\n",
    "\\text{s.a.} \\ & 1\\leq x_i\\leq 4, \\quad i=1,\\ldots,m\n",
    "\\end{align*}"
   ]
  },
  {
   "cell_type": "code",
   "execution_count": null,
   "id": "e34e162a-7ee5-41c5-aa10-dbc426967519",
   "metadata": {
    "editable": false,
    "slideshow": {
     "slide_type": ""
    },
    "tags": []
   },
   "outputs": [],
   "source": [
    "using JuMP\n",
    "\n",
    "m = 3\n",
    "P2 = Model()\n",
    "\n",
    "# variáveis e seus limitantes\n",
    "@variable(P2, 1 <= x[1:m] <= 4)\n",
    "\n",
    "# função objetivo\n",
    "@objective(P2, Min, sum((x[i]-5)^2 for i in 1:m) + sum((x[i+1]-x[i])^3 for i in 1:m-1) )"
   ]
  },
  {
   "cell_type": "markdown",
   "id": "ea1cc545-0c0a-4311-bf79-8982db3ff7c8",
   "metadata": {
    "editable": true,
    "slideshow": {
     "slide_type": ""
    },
    "tags": []
   },
   "source": [
    "Observe que a escrita das somas são feitas \"como se escreve no papel\" com `sum`"
   ]
  },
  {
   "cell_type": "markdown",
   "id": "1c847f96-1956-4a12-868b-ffe4b9c25d49",
   "metadata": {
    "editable": true,
    "slideshow": {
     "slide_type": "slide"
    },
    "tags": []
   },
   "source": [
    "Internamente, as somas são expandidas."
   ]
  },
  {
   "cell_type": "code",
   "execution_count": null,
   "id": "857a7147-244a-4dfe-bc3c-f434ab5afc50",
   "metadata": {
    "editable": false,
    "slideshow": {
     "slide_type": ""
    },
    "tags": []
   },
   "outputs": [],
   "source": [
    "print(P2)"
   ]
  },
  {
   "cell_type": "markdown",
   "id": "11858cdb-9497-4eda-be7b-f56c2973e90f",
   "metadata": {
    "editable": true,
    "slideshow": {
     "slide_type": "slide"
    },
    "tags": []
   },
   "source": [
    "## Exemplo 3\n",
    "\n",
    "\\begin{align*}\n",
    "\\min_x \\, & (x_1-2)^2 + (x_2-1)^2\\\\\n",
    "\\text{s.a. } & x_1 + x_2 - 2\\leq 0\\\\\n",
    "&x_1^2-x_2\\leq 0\n",
    "\\end{align*}"
   ]
  },
  {
   "cell_type": "code",
   "execution_count": null,
   "id": "497152b1-37de-4aaa-9ca1-d03a40f9fb1f",
   "metadata": {
    "editable": false,
    "slideshow": {
     "slide_type": ""
    },
    "tags": []
   },
   "outputs": [],
   "source": [
    "using JuMP\n",
    "\n",
    "P3 = Model()\n",
    "@variable(P3, x[1:2])\n",
    "\n",
    "# FO não linear\n",
    "@objective(P3, Min, (x[1]-2)^2 + (x[2]-1)^2)\n",
    "\n",
    "# Restrição linear\n",
    "@constraint(P3, x[1] + x[2] - 2 <= 0)\n",
    "\n",
    "# Restrição não linear\n",
    "@constraint(P3, x[1]^2 - x[2] <= 0);"
   ]
  },
  {
   "cell_type": "markdown",
   "id": "ddb95aaa-2e16-4682-b553-82b2989ad183",
   "metadata": {
    "editable": true,
    "slideshow": {
     "slide_type": "slide"
    },
    "tags": []
   },
   "source": [
    "## Exemplo 4\n",
    "\n",
    "Um investidor quer aplicar seu capital em produtos financeiros (ações, renda fixa etc) selecionados de um *portifólio* de opções.\n",
    "\n",
    "O investidor espera ter um retorno mínimo predefinido, e sua intenção é minimizar o risco considerando o histórico de retornos de cada opção de investimento.\n",
    "\n",
    "**Dados do problema:**\n",
    "- $n$: número de produtos no portifólio;\n",
    "- $\\sigma\\in \\mathbb R^n$: vetor dos retornos esperados de cada produto;\n",
    "- $Q\\in \\mathbb R^{n\\times n}$: matriz de covariância. A entrada $q_{ij}$ mede a interdependência entre as opções $i$ e $j$. $Q$ será simétrica e semidefinida positiva;\n",
    "- $R>0$: retorno esperado pelo investidor;\n",
    "- $u\\in [0,1]^n$: vetor com o máximo percentual a ser investido em cada produto;\n",
    "- $N\\in \\mathbb Z_+$: número máximo de produtos selecionados. Evidentemente, $N < n$.\n",
    "\n",
    "**Variáveis:**\n",
    "- $x_i\\geq 0$: fração do montante total investido no produto $i$, $i=1,\\ldots,n$;\n",
    "- $y_i\\in [0,1]$: indica se o produto $i$ foi selecionado ($y_i = 0$) ou não ($y_i\\neq 0$), para $i=1,\\ldots,n$."
   ]
  },
  {
   "cell_type": "markdown",
   "id": "45ef2c1c-59d1-47e5-8040-39ad630398b8",
   "metadata": {
    "editable": true,
    "slideshow": {
     "slide_type": "slide"
    },
    "tags": []
   },
   "source": [
    "**Modelo:**"
   ]
  },
  {
   "cell_type": "markdown",
   "id": "88f5a87f-23ee-4b99-8028-98832fa97eb1",
   "metadata": {
    "editable": true,
    "slideshow": {
     "slide_type": ""
    },
    "tags": []
   },
   "source": [
    "\\begin{align}\n",
    "\t\\min_{x, y} \\ & x^t Q x\\\\\n",
    "\t\\text{sujeito a} \\ & \\sum_{i=1}^n \\sigma_ix_i\\geq R\\\\\n",
    "\t&\\sum_{i=1}^n x_i = 1\\\\\n",
    "\t&x_iy_i=0, & i=1,\\ldots,n\\\\\n",
    "\t&\\sum_{i=1}^n y_i \\geq n - N\\\\\n",
    "\t&0\\leq x_i\\leq u_i, \\quad 0\\leq y_i\\leq 1, & i=1,\\ldots,n\n",
    "\\end{align}"
   ]
  },
  {
   "cell_type": "markdown",
   "id": "ab1868b3-a1ff-46a5-9655-24bd222b6bfa",
   "metadata": {
    "editable": true,
    "slideshow": {
     "slide_type": ""
    },
    "tags": []
   },
   "source": [
    "- Função objetivo: diversifica os produtos (diminuição do risco);\n",
    "- 1a restrição: o retorno total esperado é pelo menos $R$;\n",
    "- 2a restrição : diz que as frações do investimento somam o montante total a ser investido;\n",
    "- 3o bloco de restrições: diz que se não investimos no produto $i$ ($x_i=0$), então é permitdo $y_i>0$;\n",
    "- 4a restrição: busca contar os produtos não selecionados/investidos, dizendo que eles devem ser, no mínimo, $n-N$ (assim, não selecionamos mais que $N$ produtos);\n",
    "- 5o bloco de restrições: limitantes das variáveis."
   ]
  },
  {
   "cell_type": "code",
   "execution_count": null,
   "id": "b7f4f313-e8f7-4d8e-bd47-633a29a5c40e",
   "metadata": {
    "editable": false,
    "slideshow": {
     "slide_type": "slide"
    },
    "tags": []
   },
   "outputs": [],
   "source": [
    "# Dados de entrada: n, sigma, Q, R, u, N\n",
    "function modelo(n,sigma,Q,R,u,N)\n",
    "    P = Model()\n",
    "\n",
    "    # Variáveis\n",
    "    @variable(P, x[1:n] >= 0)    # frações do montante investido\n",
    "    @variable(P, y[1:n], Bin)    # investe no ativo i?  (variável binária: 0=não, 1=sim)\n",
    "\n",
    "    @objective(P, Min, x'*Q*x)                             # Função objetivo quadrática\n",
    "    @constraint(P, sum(sigma[i]*x[i] for i in 1:n) >= R)   # 1a restrição\n",
    "    @constraint(P, sum(x[i] for i in 1:n) == 1)            # 2a restrição\n",
    "    for i in 1:n                                           # 3o bloco de restrições\n",
    "        @constraint(P, x[i]*y[i] == 0)\n",
    "    end\n",
    "    @constraint(P, sum(y[i] for i in 1:n) >= n - N)        # 4a restrição\n",
    "    for i in 1:n                                           # 5a restrição\n",
    "        set_upper_bound(x[i], u[i])\n",
    "    end\n",
    "\n",
    "    return P\n",
    "end"
   ]
  },
  {
   "cell_type": "code",
   "execution_count": null,
   "id": "f0a43d49-d027-4b49-bd98-f0d6be868135",
   "metadata": {
    "editable": false,
    "slideshow": {
     "slide_type": "slide"
    },
    "tags": []
   },
   "outputs": [],
   "source": [
    "# Exemplo\n",
    "n = 3\n",
    "sigma = ones(n)\n",
    "Q = Symmetric(rand(n,n)) + 2.0*I(n)\n",
    "R = 10\n",
    "u = rand(n)\n",
    "N = 2\n",
    "\n",
    "P4 = modelo(n, sigma, Q, R, u, N);"
   ]
  },
  {
   "cell_type": "code",
   "execution_count": null,
   "id": "6775499f-8c18-4bb7-9b21-d6bcc27ca3ca",
   "metadata": {
    "editable": false,
    "slideshow": {
     "slide_type": "fragment"
    },
    "tags": []
   },
   "outputs": [],
   "source": [
    "print(P4)"
   ]
  },
  {
   "cell_type": "markdown",
   "id": "11ef262d-10a2-4ecd-8d60-2abffc6b5b90",
   "metadata": {
    "editable": true,
    "slideshow": {
     "slide_type": "slide"
    },
    "tags": []
   },
   "source": [
    "## Acessando dados do problema e suas derivadas - pacotes `NLPModels` e `NLPModelsJuMP`\n",
    "\n",
    "Uma coisa muito conveniente é que não precisamos calcular derivadas de primeira e segunda ordens da função objetivo e restrições à mão, o Julia faz isso por nós. Para tanto, convertemos o modelo Julia para a estrutura `NLPModels` através do pacote `NLPModelsJuMP`.\n",
    "\n",
    "Isso é extremamente conveniente pois métodos costumam exigir cálculo de derivadas!\n",
    "\n",
    "**Exemplo:**"
   ]
  },
  {
   "cell_type": "markdown",
   "id": "dc55d01f-0d64-472b-be67-5160184d22fe",
   "metadata": {
    "editable": true,
    "slideshow": {
     "slide_type": ""
    },
    "tags": []
   },
   "source": [
    "\\begin{align*}\n",
    "\\min_x \\, & f(x) = (x_1-2)^2 + (x_2-1)^2\\\\\n",
    "\\text{s.a. } & g_1(x) = x_1 + x_2 \\leq 2\\\\\n",
    "&g_2(x) = x_1^2-x_2\\leq 0\n",
    "\\end{align*}"
   ]
  },
  {
   "cell_type": "code",
   "execution_count": null,
   "id": "b01cc431-3410-4001-a558-44380b953333",
   "metadata": {
    "editable": true,
    "slideshow": {
     "slide_type": ""
    },
    "tags": []
   },
   "outputs": [],
   "source": [
    "using JuMP, NLPModels, NLPModelsJuMP\n",
    "\n",
    "P3 = Model()\n",
    "@variable(P3, x[1:2])\n",
    "@objective(P3, Min, (x[1]-2)^2 + (x[2]-1)^2)\n",
    "@constraint(P3, x[1] + x[2] <= 2)\n",
    "@constraint(P3, x[1]^2 - x[2] <= 0);"
   ]
  },
  {
   "cell_type": "markdown",
   "id": "89d626df-6efc-4a41-974b-17e113c30dce",
   "metadata": {
    "editable": true,
    "slideshow": {
     "slide_type": "slide"
    },
    "tags": []
   },
   "source": [
    "\\begin{align*}\n",
    "\\min_x \\, & f(x) = (x_1-2)^2 + (x_2-1)^2\\\\\n",
    "\\text{s.a. } & g_1(x) = x_1 + x_2 \\leq 2\\\\\n",
    "&g_2(x) = x_1^2-x_2\\leq 0\n",
    "\\end{align*}"
   ]
  },
  {
   "cell_type": "code",
   "execution_count": null,
   "id": "ce6c47b4-98a3-4b9a-808a-7b09a7865e21",
   "metadata": {
    "editable": false,
    "slideshow": {
     "slide_type": "fragment"
    },
    "tags": []
   },
   "outputs": [],
   "source": [
    "nlp = MathOptNLPModel(P3);   # CONVERTEMOS O MODELO JuMP PARA NLPModels"
   ]
  },
  {
   "cell_type": "code",
   "execution_count": null,
   "id": "3bb50118-c423-423c-a963-8cc3c9f5b330",
   "metadata": {
    "editable": false,
    "slideshow": {
     "slide_type": "fragment"
    },
    "tags": []
   },
   "outputs": [],
   "source": [
    "x = [1.0; 1.0];"
   ]
  },
  {
   "cell_type": "code",
   "execution_count": null,
   "id": "e1873698-ce22-4088-b705-28adf1605a55",
   "metadata": {
    "editable": false,
    "slideshow": {
     "slide_type": "fragment"
    },
    "tags": []
   },
   "outputs": [],
   "source": [
    "obj(nlp, x)    # função objetivo em x"
   ]
  },
  {
   "cell_type": "code",
   "execution_count": null,
   "id": "40dc3fb9-5db6-4d9d-abd0-a25db61a8fbc",
   "metadata": {
    "editable": false,
    "slideshow": {
     "slide_type": "fragment"
    },
    "tags": []
   },
   "outputs": [],
   "source": [
    "grad(nlp, x)    # gradiente da função objetivo em x"
   ]
  },
  {
   "cell_type": "code",
   "execution_count": null,
   "id": "0e76f93f-da3c-4a10-bfdf-e728258de9cb",
   "metadata": {
    "editable": false,
    "slideshow": {
     "slide_type": "fragment"
    },
    "tags": []
   },
   "outputs": [],
   "source": [
    "hess(nlp, x)    # hessiana da função objetivo em x"
   ]
  },
  {
   "cell_type": "markdown",
   "id": "0b77e613-0644-49ec-950f-fd0cd70b79ef",
   "metadata": {
    "editable": true,
    "slideshow": {
     "slide_type": "slide"
    },
    "tags": []
   },
   "source": [
    "\\begin{align*}\n",
    "\\min_x \\, & f(x) = (x_1-2)^2 + (x_2-1)^2\\\\\n",
    "\\text{s.a. } & g_1(x) = x_1 + x_2 \\leq 2\\\\\n",
    "&g_2(x) = x_1^2-x_2\\leq 0\n",
    "\\end{align*}"
   ]
  },
  {
   "cell_type": "code",
   "execution_count": null,
   "id": "a788ce46-529f-4e72-a639-d41a1b7863b6",
   "metadata": {
    "editable": true,
    "slideshow": {
     "slide_type": "fragment"
    },
    "tags": []
   },
   "outputs": [],
   "source": [
    "cons(nlp, x)    # restrições em x (sem o termo livre)"
   ]
  },
  {
   "cell_type": "markdown",
   "id": "cf396276-8910-428c-a6e1-2d22f9304c78",
   "metadata": {
    "editable": true,
    "slideshow": {
     "slide_type": "fragment"
    },
    "tags": []
   },
   "source": [
    "**ATENÇÃO:** `cons` não leva em conta os limitantes das restrições!"
   ]
  },
  {
   "cell_type": "markdown",
   "id": "6005a109-424c-428b-8109-46ccf01c7278",
   "metadata": {
    "editable": true,
    "slideshow": {
     "slide_type": "slide"
    },
    "tags": []
   },
   "source": [
    "O vetor de limitantes superiores é gravado em `nlp.meta.ucon`, enquanto o vetor de limitantes inferiores para as restrições em `nlp.meta.lcon`."
   ]
  },
  {
   "cell_type": "markdown",
   "id": "183c12d0-faaa-48ff-bf4d-598221b4660e",
   "metadata": {
    "editable": true,
    "slideshow": {
     "slide_type": "fragment"
    },
    "tags": []
   },
   "source": [
    "No exemplo anterior, podemos fazer"
   ]
  },
  {
   "cell_type": "code",
   "execution_count": null,
   "id": "ecc121d9-7ed0-4d1e-b7df-e341439e6af4",
   "metadata": {
    "editable": false,
    "slideshow": {
     "slide_type": ""
    },
    "tags": []
   },
   "outputs": [],
   "source": [
    "cons(nlp, x) .- nlp.meta.ucon   # avalia g(x) - u"
   ]
  },
  {
   "cell_type": "markdown",
   "id": "b4fc09e9-f34d-43d2-881f-633bce08c1dc",
   "metadata": {
    "editable": true,
    "slideshow": {
     "slide_type": "fragment"
    },
    "tags": []
   },
   "source": [
    "Por que o Julia não considera os limitantes ao avaliar as restrições com `cons`?  **Resposta:** para evitar ambiguidade."
   ]
  },
  {
   "cell_type": "markdown",
   "id": "5e74ccaf-33f4-4199-8e22-432bb3e03b9d",
   "metadata": {
    "editable": true,
    "slideshow": {
     "slide_type": "fragment"
    },
    "tags": []
   },
   "source": [
    "**Exemplo:** suponha que uma restrição tenha limitante superior E inferior:\n",
    "\n",
    "$L \\leq c(x)\\leq U$.\n",
    "\n",
    "Então \"avaliar essa restrição\" é ambiguo porque, na verdade, são duas restrições ($L - c(x)\\leq 0$ e $c(x) - U\\leq 0$)"
   ]
  },
  {
   "cell_type": "markdown",
   "id": "52ea8e49-d30b-4990-b981-efd254fd345a",
   "metadata": {
    "editable": true,
    "slideshow": {
     "slide_type": "fragment"
    },
    "tags": []
   },
   "source": [
    "- `cons(nlp, x)` avalia $c(x)$ sem limitantes.\n",
    "- `nlp.meta.lcon .- cons(nlp, x)` avalia $L - c(x)$\n",
    "- `cons(nlp, x) .- nlp.meta.ucon` avalia $c(x) - U$"
   ]
  },
  {
   "cell_type": "markdown",
   "id": "229ce622-6667-4af3-93d2-8f852f07f24a",
   "metadata": {
    "editable": true,
    "slideshow": {
     "slide_type": "slide"
    },
    "tags": []
   },
   "source": [
    "**Jacobiano:** $\\quad$\n",
    "$\n",
    "J(x) = \\left[\n",
    "\\begin{array}{c}\n",
    "\\nabla g_1^t(x)\\\\ \\vdots \\\\ \\nabla g_p^t(x)\n",
    "\\end{array}\n",
    "\\right]\n",
    "$"
   ]
  },
  {
   "cell_type": "code",
   "execution_count": null,
   "id": "9f9aab2f-2a59-45ff-8a98-c54d3e2548ee",
   "metadata": {
    "editable": false,
    "slideshow": {
     "slide_type": ""
    },
    "tags": []
   },
   "outputs": [],
   "source": [
    "jac(nlp, x)    # Jacobiano em x"
   ]
  },
  {
   "cell_type": "markdown",
   "id": "2e6edb5c-16f1-4290-805b-2529d7280aa9",
   "metadata": {
    "editable": true,
    "slideshow": {
     "slide_type": "slide"
    },
    "tags": []
   },
   "source": [
    "\\begin{align*}\n",
    "\\min_x \\, & f(x)\\\\\n",
    "\\text{s.a. }& h_i(x)=0, \\ i=1,\\ldots,m\\\\\n",
    "&g_j(x)\\leq 0, \\ j=1,\\ldots,p\n",
    "\\end{align*}\n",
    "\n",
    "**Lagrangiana:**\n",
    "$$\n",
    "L(x,\\lambda) = f(x) + \\sum_{i=1}^m \\lambda_i^h h_i(x) + \\sum_{j=1}^p \\lambda_j^g g_j(x)\n",
    "$$\n",
    "\n",
    "**Hessiana da lagrangiana:**\n",
    "$$\n",
    "\\nabla^2_{xx} L(x,\\lambda) = \\nabla^2 f(x) + \\sum_{i=1}^m \\lambda_i^h \\nabla^2 h_i(x) + \\sum_{j=1}^p \\lambda_j^g \\nabla^2 g_j(x)\n",
    "$$"
   ]
  },
  {
   "cell_type": "code",
   "execution_count": null,
   "id": "bbf73310-33c7-43ad-a2eb-3c7ea8353df0",
   "metadata": {
    "editable": false,
    "slideshow": {
     "slide_type": "fragment"
    },
    "tags": []
   },
   "outputs": [],
   "source": [
    "# Hessiana da lagrangeana do exemplo em x = [1.0;1.0] com multiplicador λ^g = [0.5;1.5]\n",
    "hess(nlp, x, [0.5;1.5])"
   ]
  },
  {
   "cell_type": "markdown",
   "id": "d9ef5192-155f-4032-b176-90adf16d6a3e",
   "metadata": {
    "editable": true,
    "slideshow": {
     "slide_type": "slide"
    },
    "tags": []
   },
   "source": [
    "As vezes precisamos apenas produto \"hessiana x vetor\" ou \"jacobiana x vetor\".\n",
    "É a opção preferível por questões de eficiência (calcular produto matriz-vetor não requer armazenar a matriz na memória)."
   ]
  },
  {
   "cell_type": "code",
   "execution_count": null,
   "id": "85b71bdf-77d0-434e-8c84-b4a3f51450ff",
   "metadata": {
    "editable": false,
    "slideshow": {
     "slide_type": "fragment"
    },
    "tags": []
   },
   "outputs": [],
   "source": [
    "# ∇^2 L(x,λ) * v\n",
    "λ = [0.5;1.5]\n",
    "v = [1.0;-1.0]\n",
    "hprod(nlp, x, λ, v)"
   ]
  },
  {
   "cell_type": "code",
   "execution_count": null,
   "id": "578a57c9-ba00-42d1-9b8f-1ecd89e8b769",
   "metadata": {
    "editable": false,
    "slideshow": {
     "slide_type": "fragment"
    },
    "tags": []
   },
   "outputs": [],
   "source": [
    "jprod(nlp, x, v)    # J(x) * v"
   ]
  },
  {
   "cell_type": "code",
   "execution_count": null,
   "id": "3332ed11-0e46-4825-9098-7166492f79e1",
   "metadata": {
    "editable": false,
    "slideshow": {
     "slide_type": "fragment"
    },
    "tags": []
   },
   "outputs": [],
   "source": [
    "u = [5.0;4.0]\n",
    "jtprod(nlp, x, u)    # J(x)^t * u"
   ]
  },
  {
   "cell_type": "markdown",
   "id": "295882c8-eb06-4417-8ab9-2f9a3d96e1a3",
   "metadata": {
    "editable": true,
    "slideshow": {
     "slide_type": "fragment"
    },
    "tags": []
   },
   "source": [
    "Mais detalhes: https://github.com/JuliaSmoothOptimizers/NLPModels.jl"
   ]
  },
  {
   "cell_type": "markdown",
   "id": "17326eb4-4676-4a39-b54e-32492086b190",
   "metadata": {
    "editable": true,
    "slideshow": {
     "slide_type": "slide"
    },
    "tags": []
   },
   "source": [
    "## Exercícios\n",
    "\n",
    "**Exercício 6:** Considere a função de Rosenbrock $f(x) = 100(x_2 − x^2_1)^2 + (1 − x_1)^2$. Escreva o modelo `JuMP` e converta para a estrutura `NLPModels`. Estude a otimalidede do ponto $x=(1,1)$ calculando no Julia gradiente e hessiana.\n",
    "\n",
    "*Dica: você pode calcular todos os autovalores de uma matriz $A$ executando* `using LinearAlgebra; eigvals(Matrix(A))`\n",
    "\n",
    "**Exercício 7:** Repita o exercício anterior com a função de Rosenbrock de $n$ variáveis dada por\n",
    "$$\n",
    "f(x) = \\sum_{i=1}^{n-1} 100(x_{i+1} − x^2_i)^2 + (1 − x_i)^2\n",
    "$$\n",
    "Escolha $n\\geq 3$ (por exemplo, $n=10$). **Não expanda a soma à mão!**\n",
    "\n",
    "**Exercício 8:** Considere a função $f(x) = x_1^2 - x_1x_2 + 2x_2^2 − 2x_1 + e^{x_1 + x_2}$. Encontre uma direção $d\\in \\mathbb R^2$ tal que $\\nabla f(0,0)^td<0$ (use o Julia para fazer a conta)."
   ]
  },
  {
   "attachments": {},
   "cell_type": "markdown",
   "id": "1014735a-b8ad-4e54-9505-e682e531b918",
   "metadata": {
    "editable": true,
    "slideshow": {
     "slide_type": "slide"
    },
    "tags": []
   },
   "source": [
    "**Exercício 9:** Considere os pontos\n",
    "$$(x_1,y_1)=(1,1), \\quad (x_2,y_2)=(2,2), \\quad (x_3,y_3)=(3,1) \\quad \\textrm{e} \\quad (x_4,y_4)=(4,3)$$ do plano $xy$. A reta $y=ax+b$ que melhor aproxima esses pontos é a reta cujos coeficientes minimizam a função de erro\n",
    "$$f(a,b)=\\sum_{i=1}^4 e_i^2,$$\n",
    "onde $e_i$ é a diferença entre as alturas do ponto $(x_i,y_i)$ e o ponto $(x_i,ax_i+b)$ da reta, isto é,\n",
    "$$e_i = y_i - (ax_i+b).$$\n",
    "<center>\n",
    "<img src=\"imagens/ajuste-1.png\" width=300></img>\n",
    "</center>\n",
    "\n",
    "Monte o modelo `JuMP` que represente o problema."
   ]
  },
  {
   "cell_type": "markdown",
   "id": "f5ae2756-87be-47ac-823a-7818b7201d59",
   "metadata": {
    "editable": true,
    "slideshow": {
     "slide_type": "slide"
    },
    "tags": []
   },
   "source": [
    "**Exercício 10:** Escreva o modelo `JuMP` de cada um dos problemas abaixo.\n",
    "- $\\begin{align*}\n",
    "\t\t\\min\\,\\, &x^2+y^2-6x-2y+10\\\\\n",
    "\t\t\\text{s.a } & 2x+y-2\\leq 0\\\\\n",
    "\t\t&y-1\\leq 0\n",
    "\t\t\\end{align*}$\n",
    "\n",
    "- $\\begin{align*}\n",
    "\t\t\\min\\,\\, &-2x+y\\\\\n",
    "\t\t\\text{s.a } & x^2-y\\leq 0\\\\\n",
    "\t\t&y-4\\leq 0\n",
    "\t\t\\end{align*}$\n",
    "\n",
    "- $\\begin{align*}\n",
    "\t\\min\\,\\, &x_1+x_2+\\cdots+x_n\\\\\n",
    "\t\\text{s.a } & x_1x_2\\cdots x_n = 1\\\\\n",
    "\t&x_i\\geq 0, \\ i=1,\\ldots,n.\n",
    "\\end{align*}$"
   ]
  },
  {
   "cell_type": "markdown",
   "id": "7daaf60a-ed18-4fac-b0d4-b9dcf2fa0796",
   "metadata": {
    "editable": true,
    "slideshow": {
     "slide_type": ""
    },
    "tags": []
   },
   "source": [
    "**Exercício 11:** Escreva o modelo do GAP (*generalized assignment problem*) em `JuMP`:\n",
    "\n",
    "$$\n",
    "\\begin{align*}\n",
    "\\max_x & \\sum_{i=1}^m \\sum_{j=1}^n p_{ij}x_{ij}\\\\\n",
    "\\text{s.a } & \\sum_{j=1}^n w_{ij}x_{ij}\\leq t_i \\qquad i=1,\\ldots,m\\\\\n",
    "& \\sum_{i=1}^m x_{ij} \\leq 1 \\qquad j=1,\\ldots,n\\\\\n",
    "& x_{ij}\\in \\{0,1\\} \\qquad i=1,\\ldots,m, \\quad j=1,\\ldots,n\n",
    "\\end{align*}\n",
    "$$\n",
    "em que os $p_{ij}$'s, $w_{ij}$'s e $t_i$'s são parâmetros positivos dados pelo usuário. Observe que $p$, $w$ e as variáveis $x$ são **matrizes** $m\\times n$, e que o sentido de otimização é **maximizar**.\n",
    "\n",
    "Consulte https://en.wikipedia.org/wiki/Generalized_assignment_problem para uma descrição detalhada do problema."
   ]
  },
  {
   "cell_type": "markdown",
   "id": "69b2b4d7-281a-48f1-8bcf-c40cacdd6f98",
   "metadata": {
    "editable": true,
    "slideshow": {
     "slide_type": "slide"
    },
    "tags": []
   },
   "source": [
    "**Exercício 12:** Transforme o segundo modelo do Exercício 10 na estrutura `NLPModels` executando algo como `nlp = MathOptNLPModel(P)`. Estude as propriedades do problema explorando a estrutura `nlp.meta`. Identifique número de variáveis, número de restrições totais, lineares, não lineares, limitantes superiores e inferiores de variáveis e restrições.\n",
    "\n",
    "Veja a seção \"Attributes\" em https://github.com/JuliaSmoothOptimizers/NLPModels.jl para uma lista completa."
   ]
  },
  {
   "cell_type": "markdown",
   "id": "84523317-23ba-45b5-9b0a-7670730849e8",
   "metadata": {
    "editable": true,
    "slideshow": {
     "slide_type": "slide"
    },
    "tags": []
   },
   "source": [
    "# Métodos de otimização: exemplos"
   ]
  },
  {
   "cell_type": "markdown",
   "id": "8b2c42ca-bd25-4595-b526-ecdee27d9f28",
   "metadata": {
    "editable": true,
    "slideshow": {
     "slide_type": "slide"
    },
    "tags": []
   },
   "source": [
    "## Método de Newton\n",
    "\n",
    "O método de Newton é um método clássico para resolução de sistemas não lineares. Pode ser usado para minimizar funções gerais pois \"resolver\" o problema\n",
    "$$\\min_x f(x),$$\n",
    "$f$ de classe $\\mathcal C^2$, consiste em resolver o sistema não linear\n",
    "$$\\nabla f(x)=0.$$"
   ]
  },
  {
   "cell_type": "markdown",
   "id": "398437c7-87ae-4f25-8cff-c36cdd20da39",
   "metadata": {
    "editable": true,
    "slideshow": {
     "slide_type": "slide"
    },
    "tags": []
   },
   "source": [
    "Considere um sistema não linear com 1 variável e 1 equação $F(x)=0$.\n",
    "\n",
    "**Ideia Newtoniana:**\n",
    "\n",
    "1. Encontrar um zero de $F$ é difícil... Então trocamos o problema de resolver $F(x)=0$ por uma sequência de problemas mais fáceis.\n",
    "2. Dado $x^k$, o próximo iterando $x^{k+1}$ será zero da aproximação linear de $F$ em $x^k$.\n",
    "3. \"Se tudo ocorrer bem\", $x^k$ tenderá à um zero de $F$.\n",
    "\n",
    "<center><img src=\"imagens/newton_iter.png\" width=300></img></center>\n",
    "\n",
    "<center><font size=1>Fonte da imagem: https://procesosnumericos2015.weebly.com/meacutetodo-de-newton-raphson.html</font></center>"
   ]
  },
  {
   "cell_type": "markdown",
   "id": "3d0c6d72-675a-45b7-8cba-e94bb6c3f796",
   "metadata": {
    "editable": true,
    "slideshow": {
     "slide_type": "slide"
    },
    "tags": []
   },
   "source": [
    "Aproximação linear de $F$ em $x^k$:\n",
    "$$\n",
    "L(x) = F(x^k) + F'(x^k)(x-x^k).\n",
    "$$\n",
    "Portanto, $x^{k+1}$ é tal que $L(x^{k+1})=0$, isto é,\n",
    "$$\n",
    "F'(x^k)(x^{k+1}-x^k) = -F(x^k).\n",
    "$$\n",
    "Chamando $d^k = x^{k+1}-x^k$ (direção Newtoniana), $d^k$ é solução do **sistema Newtoniano**\n",
    "$$\n",
    "F'(x^k)d = -F(x^k),\n",
    "$$\n",
    "e o **passo de Newton** é\n",
    "$$\n",
    "x^{k+1} = x^k + d^k.\n",
    "$$\n",
    "\n",
    "Isso pode ser feito para sistemas com $n$ variáveis e $m$ equações ($F: \\mathbb R^n\\to \\mathbb R^m$)...\n",
    "\n",
    "No caso de interesse, $F=\\nabla f: \\mathbb R^n \\to \\mathbb R^n$, e a iteração Newtoniana fica\n",
    "$$\n",
    "\\nabla^2 f(x^k) d^k = -\\nabla f(x^k), \\qquad x^{k+1} = x^k + d^k.\n",
    "$$"
   ]
  },
  {
   "cell_type": "markdown",
   "id": "9318572d-17e2-4e3d-bb50-ed27f36f3b11",
   "metadata": {
    "editable": true,
    "slideshow": {
     "slide_type": "slide"
    },
    "tags": []
   },
   "source": [
    "Critério de parada com a norma do infinito: $\\quad\\|\\nabla f(x)\\|_\\infty\\leq \\varepsilon$\n",
    "\n",
    "---\n",
    "\n",
    "**Método de Newton**\n",
    "\n",
    "*Entrada:* ponto inicial $x^0\\in \\mathbb R^n$ e tolerância para convergência $\\varepsilon > 0$\n",
    "\n",
    "1. enquanto $\\|\\nabla f(x^k)\\|_\\infty > \\varepsilon$\n",
    "2. $\\quad$ Calcule a direção de Newton $d^k$ resolvendo o sistema Newtoniano $\\nabla^2 f(x^k)d = -\\nabla f(x^k)$\n",
    "3. $\\quad$ $x^{k+1} = x^k + d^k$\n",
    "4. $\\quad$ $k \\leftarrow k+1$\n",
    "5. fim\n",
    "\n",
    "---"
   ]
  },
  {
   "cell_type": "markdown",
   "id": "7edf72da-350a-4940-9cea-500a28b2abc9",
   "metadata": {
    "editable": true,
    "slideshow": {
     "slide_type": ""
    },
    "tags": []
   },
   "source": [
    "Para cálculo de derivadas, usaremos `JuMP` com `NLPModels`."
   ]
  },
  {
   "cell_type": "code",
   "execution_count": null,
   "id": "6fc6b7b3-ef4d-4a5f-8748-063214f8e8e7",
   "metadata": {
    "editable": false,
    "slideshow": {
     "slide_type": "slide"
    },
    "tags": []
   },
   "outputs": [],
   "source": [
    "using LinearAlgebra, Printf\n",
    "\n",
    "# Método de Newton\n",
    "# Entrada: modelo nlp na estrutura NLPModels, x0 ponto inicial (opcional)\n",
    "\n",
    "function newton(nlp; x0 = nothing, eps = 1e-6, maxiters = 100, saidas = true)\n",
    "    # lê o número de variáveis da estrutura NLPModels\n",
    "    n = nlp.meta.nvar\n",
    "\n",
    "    # Testa se usuário forneceu o ponto inicial. Se não forneceu, inicia na origem\n",
    "    if isnothing(x0)\n",
    "        x = zeros(n)\n",
    "    else\n",
    "        # aloca vetor solução, copiando x0\n",
    "        x = deepcopy(x0)\n",
    "    end\n",
    "\n",
    "    # contador de iterações\n",
    "    k = 0\n",
    "\n",
    "    # computa gradiente e sua norma do infinito\n",
    "    g = grad(nlp, x)\n",
    "    norma_g = norm(g, Inf)\n",
    "\n",
    "    # cabeçalho\n",
    "    if saidas\n",
    "        println(\"Iter  |     norma ∇f |     norma dN\")\n",
    "    end\n",
    "\n",
    "    while (k <= maxiters)\n",
    "        # Solução do sistema Newtoniano\n",
    "        d = hess(nlp, x) \\ (-g)\n",
    "\n",
    "        x .= x + d\n",
    "\n",
    "        k += 1\n",
    "\n",
    "        # Atualiza gradiente e norma no novo iterando\n",
    "        g = grad(nlp, x)\n",
    "        norma_g = norm(g, Inf)\n",
    "\n",
    "        # Imprime dados da iteração\n",
    "        if saidas\n",
    "            @printf(\"%5d | %.6e | %.6e\\n\", k, norma_g, norm(d,Inf))\n",
    "        end\n",
    "\n",
    "        # Parar?\n",
    "        if (norma_g <= eps)\n",
    "            if saidas\n",
    "                println()\n",
    "                println(\"Problema resolvido com sucesso!\")\n",
    "            end\n",
    "            # encerra laço while\n",
    "            break\n",
    "        end\n",
    "    end\n",
    "\n",
    "    # Retorna solução, |∇f|_∞ e número de iterações\n",
    "    return x, norma_g, k\n",
    "end"
   ]
  },
  {
   "cell_type": "markdown",
   "id": "1ccd583d-43da-450b-a4d8-01c804331993",
   "metadata": {
    "editable": true,
    "slideshow": {
     "slide_type": ""
    },
    "tags": []
   },
   "source": [
    "**Exemplo**"
   ]
  },
  {
   "cell_type": "code",
   "execution_count": null,
   "id": "50e12fad-58b3-430d-b0b4-cdf301f32511",
   "metadata": {
    "editable": false,
    "slideshow": {
     "slide_type": ""
    },
    "tags": []
   },
   "outputs": [],
   "source": [
    "using JuMP, NLPModels, NLPModelsJuMP\n",
    "\n",
    "P = Model()\n",
    "@variable(P, x[1:2])\n",
    "@objective(P, Min, sin(x[1] - pi/4) + (1-x[2])^3);"
   ]
  },
  {
   "cell_type": "code",
   "execution_count": null,
   "id": "8a075c62-7e43-4fbe-b88b-0694398df891",
   "metadata": {
    "editable": false,
    "slideshow": {
     "slide_type": ""
    },
    "tags": []
   },
   "outputs": [],
   "source": [
    "print(P)"
   ]
  },
  {
   "cell_type": "code",
   "execution_count": null,
   "id": "6f1d5319-f476-4c12-ab57-76fe173ab33c",
   "metadata": {
    "editable": false,
    "slideshow": {
     "slide_type": ""
    },
    "tags": []
   },
   "outputs": [],
   "source": [
    "nlp = MathOptNLPModel(P)\n",
    "\n",
    "newton(nlp);\n",
    "#newton(nlp, x0=[10.0;-0.5]);"
   ]
  },
  {
   "cell_type": "markdown",
   "id": "4309d0a5-1497-4cc0-a80d-570cdda6a1bd",
   "metadata": {
    "editable": true,
    "slideshow": {
     "slide_type": "slide"
    },
    "tags": []
   },
   "source": [
    "## Método do gradiente\n",
    "\n",
    "Basicamente, métodos tipo gradiente para minimização irrestrita consistem na iteração\n",
    "$$\n",
    "x^{k+1} = x^k - t_k\\nabla f(x^k)\n",
    "$$\n",
    "onde $t_k\\in (0,1]$ é o **tamanho de passo**.\n",
    "\n",
    "Sabemos que $d^k = -\\nabla f(x^k)$ decresce $f$ **localmente** a partir de $x^k$ caso $\\nabla f(x^k)^td^k<0$ (direção de descida)."
   ]
  },
  {
   "cell_type": "markdown",
   "id": "8cdec2b2-84e8-4bb1-b25c-8cb6c1923697",
   "metadata": {
    "editable": true,
    "slideshow": {
     "slide_type": "fragment"
    },
    "tags": []
   },
   "source": [
    "Qual tamanho do passo $t_k$ garante que $f(x^{k+1}) = f(x^{k}+t_kd^k) \\ll f(x^k)$?\n",
    "\n",
    "**Condição de Armijo:** Compute $t_k\\in (0,1]$ de modo a satisfazer\n",
    "$$\n",
    "f(x^{k}+t_kd^k) \\leq f(x^k) + \\eta t_k \\nabla f(x^k)^td^k\n",
    "$$\n",
    "onde $\\eta\\in (0,1)$ é um parâmetro.\n",
    "\n",
    "**Teorema:**\n",
    "\n",
    "Se $\\nabla f(x^k)^td^k<0$ então existe $\\bar t\\in (0,1]$ tal que a condição de Armijo é satisfeita para todo $t\\in (0,\\bar t]$."
   ]
  },
  {
   "cell_type": "markdown",
   "id": "768a8398-7530-48e8-835e-7bc5ce136828",
   "metadata": {
    "editable": true,
    "slideshow": {
     "slide_type": "slide"
    },
    "tags": []
   },
   "source": [
    "**Busca linear inexata com *backtracking***\n",
    "\n",
    "1. Inicie $t_k \\leftarrow 1$\n",
    "2. Se a condição de Armijo for satisfeita, pare: **$t_k$ é um passo válido**. Caso constrário, atualize $t_k \\leftarrow t_k/2$ e repita este passo.\n",
    "\n",
    "O Teorema anterior garante que o procedimento acima é finito.\n",
    "\n",
    "Isto é, tentamos primeiro o passo 1 e o dividimos por 2 até que o decréscimo de $f$ segundo Armijo ocorra."
   ]
  },
  {
   "cell_type": "markdown",
   "id": "75b7bb11-f668-408e-b20d-8d36768c8362",
   "metadata": {
    "editable": true,
    "slideshow": {
     "slide_type": "slide"
    },
    "tags": []
   },
   "source": [
    "**Método do gradiente com backtracking**\n",
    "\n",
    "*Entrada:* $\\quad x^0\\in \\mathbb R^n$, parâmetro de Armijo $\\eta \\in (0,1)$, tolerância para convergência $\\varepsilon>0$\n",
    "\n",
    "1. enquanto $\\|\\nabla f(x^k)\\|_\\infty > \\varepsilon$\n",
    "2. $\\quad d^k = -\\nabla f(x^k)$\n",
    "3. $\\quad t_k\\leftarrow 1$\n",
    "4. $\\quad$ enquanto $f(x^k+t_kd^k) > f(x^k) + \\eta t_k \\nabla f(x^k)^td^k$\n",
    "5. $\\qquad t_k\\leftarrow t_k/2$\n",
    "6. $\\quad$ fim\n",
    "7. $\\quad x^{k+1}= x^k+t_kd^k$\n",
    "8. $\\quad k\\leftarrow k+1$\n",
    "9. fim"
   ]
  },
  {
   "cell_type": "code",
   "execution_count": null,
   "id": "a4162088-62f2-4b42-bbc2-46e9cd7fc232",
   "metadata": {
    "editable": false,
    "slideshow": {
     "slide_type": "slide"
    },
    "tags": []
   },
   "outputs": [],
   "source": [
    "using LinearAlgebra, Printf\n",
    "\n",
    "# Método do gradiente com backtracking\n",
    "# Entrada: modelo nlp na estrutura NLPModels, x0 (opcional), eta (opcional)\n",
    "\n",
    "function gradiente(nlp; x0 = nothing, eps = 1e-6, eta = 1e-4, maxiters = 100, saidas = true)\n",
    "    # lê o número de variáveis da estrutura NLPModels\n",
    "    n = nlp.meta.nvar\n",
    "\n",
    "    # Testa se usuário forneceu o ponto inicial. Se não forneceu, inicia na origem\n",
    "    if isnothing(x0)\n",
    "        x = zeros(n)\n",
    "    else\n",
    "        # aloca vetor solução, copiando x0\n",
    "        x = deepcopy(x0)\n",
    "    end\n",
    "\n",
    "    # aloca x^{k+1}\n",
    "    xnew = similar(x)\n",
    "\n",
    "    # contador de iterações\n",
    "    k = 0\n",
    "\n",
    "    # cabeçalho\n",
    "    if saidas\n",
    "        println(\"Iter  |     norma ∇f |            t\")\n",
    "    end\n",
    "\n",
    "    # inicializa variáveis fora do laço while\n",
    "    norma_g = Inf\n",
    "    t = 1\n",
    "\n",
    "    while (k <= maxiters)\n",
    "        # Direção\n",
    "        d = -grad(nlp, x)\n",
    "\n",
    "        norma_g = norm(d, Inf)\n",
    "\n",
    "        # Imprime dados da iteração\n",
    "        if saidas\n",
    "            @printf(\"%5d | %.6e | %.6e\\n\", k, norma_g, t)\n",
    "        end\n",
    "\n",
    "        # Parar?\n",
    "        if (norma_g <= eps)\n",
    "            if saidas\n",
    "                println()\n",
    "                println(\"Problema resolvido com sucesso!\")\n",
    "            end\n",
    "            break\n",
    "        end\n",
    "\n",
    "        f = obj(nlp, x)\n",
    "        xnew .= x + t*d\n",
    "        fnew = obj(nlp, xnew)\n",
    "\n",
    "        # Busca linear\n",
    "        t = 1\n",
    "        gtd = -d'*d\n",
    "        while fnew > f + eta * t * gtd\n",
    "            t = t/2\n",
    "            xnew .= x + t*d\n",
    "            fnew = obj(nlp, xnew)\n",
    "        end\n",
    "\n",
    "        k += 1\n",
    "\n",
    "        # Atualiza x para próxima iteração\n",
    "        x .= xnew\n",
    "    end\n",
    "\n",
    "    # Retorna solução, |∇f|_∞ e número de iterações\n",
    "    return x, norma_g, k\n",
    "end"
   ]
  },
  {
   "cell_type": "code",
   "execution_count": null,
   "id": "306ea08e-6477-4df2-aa39-6eed5c6d46a8",
   "metadata": {
    "editable": false,
    "slideshow": {
     "slide_type": "slide"
    },
    "tags": []
   },
   "outputs": [],
   "source": [
    "using JuMP, NLPModels, NLPModelsJuMP\n",
    "\n",
    "P = Model()\n",
    "@variable(P, x[1:2])\n",
    "@objective(P, Min, x[1]^2 + 10*x[2]^2)\n",
    "\n",
    "print(P)"
   ]
  },
  {
   "cell_type": "code",
   "execution_count": null,
   "id": "6d99db4e-1d83-4976-8c52-d29e769c5388",
   "metadata": {
    "editable": false,
    "slideshow": {
     "slide_type": "slide"
    },
    "tags": []
   },
   "outputs": [],
   "source": [
    "nlp = MathOptNLPModel(P)\n",
    "gradiente(nlp, x0 = [-5.0;3.0]);"
   ]
  },
  {
   "cell_type": "markdown",
   "id": "6777a37d-85fb-4598-8db6-0bc39575cc26",
   "metadata": {
    "editable": true,
    "slideshow": {
     "slide_type": "slide"
    },
    "tags": []
   },
   "source": [
    "## Método de Newton globalizado\n",
    "\n",
    "Sabe-se que o método de Newton como apresentado aqui pode não convergir, ou até mesmo falhar."
   ]
  },
  {
   "cell_type": "markdown",
   "id": "2ccd20fd-0fa4-45be-abce-36af5c7ee8e4",
   "metadata": {
    "editable": true,
    "slideshow": {
     "slide_type": "fragment"
    },
    "tags": []
   },
   "source": [
    "**Exemplo:**"
   ]
  },
  {
   "cell_type": "code",
   "execution_count": null,
   "id": "91f7c9c7-56e9-4b12-9cd9-3c14466de6bb",
   "metadata": {
    "editable": false,
    "slideshow": {
     "slide_type": ""
    },
    "tags": []
   },
   "outputs": [],
   "source": [
    "# método de Newton implementado\n",
    "include(\"newton.jl\")"
   ]
  },
  {
   "cell_type": "code",
   "execution_count": null,
   "id": "b722a55d-9c60-490a-a4a5-d44845cc0f61",
   "metadata": {
    "editable": false,
    "slideshow": {
     "slide_type": "fragment"
    },
    "tags": []
   },
   "outputs": [],
   "source": [
    "using JuMP, NLPModels, NLPModelsJuMP\n",
    "\n",
    "P = Model()\n",
    "@variable(P, x[1:2])\n",
    "@objective(P, Min, sin(x[1] - pi/4) + (1-x[2])^3)\n",
    "\n",
    "nlp = MathOptNLPModel(P);"
   ]
  },
  {
   "cell_type": "code",
   "execution_count": null,
   "id": "95b03153-15d3-4a1e-8121-a8d0c24f1888",
   "metadata": {
    "editable": false,
    "slideshow": {
     "slide_type": "slide"
    },
    "tags": []
   },
   "outputs": [],
   "source": [
    "# Executando Newton a partir do ponto (1,1)\n",
    "newton(nlp, x0 = [1.0;1.0])"
   ]
  },
  {
   "cell_type": "markdown",
   "id": "9c13ab83-7692-4661-a395-5813632ab5e5",
   "metadata": {
    "editable": true,
    "slideshow": {
     "slide_type": "slide"
    },
    "tags": []
   },
   "source": [
    "Deu erro!!! Por quê?"
   ]
  },
  {
   "cell_type": "markdown",
   "id": "1f8a72d8-a615-458f-8269-9bcae0b9bf40",
   "metadata": {
    "editable": true,
    "slideshow": {
     "slide_type": "fragment"
    },
    "tags": []
   },
   "source": [
    "Lendo as informações na tela, o erro ocorreu ao tentar resolver o sistema Newtoniano. De fato, Julia tenta resolver o sistema $\\nabla^2 f(1,1)d = \\nabla f(1,1)$ fazendo a fatoração LU da hessiana (isso está na saida do erro)."
   ]
  },
  {
   "cell_type": "markdown",
   "id": "34b26d6e-6e32-40d3-9a93-cec637f6e554",
   "metadata": {
    "editable": true,
    "slideshow": {
     "slide_type": ""
    },
    "tags": []
   },
   "source": [
    "Porém, $\\nabla^2 f(1,1)$ é singular, e logo não possui fatoração LU:"
   ]
  },
  {
   "cell_type": "code",
   "execution_count": null,
   "id": "f1809104-e358-4244-8e2f-f222a52dc1ca",
   "metadata": {
    "editable": false,
    "slideshow": {
     "slide_type": ""
    },
    "tags": []
   },
   "outputs": [],
   "source": [
    "hess(nlp, [1.0;1.0])"
   ]
  },
  {
   "cell_type": "markdown",
   "id": "248c1e60-a997-471a-b641-3059e05377bb",
   "metadata": {
    "editable": true,
    "slideshow": {
     "slide_type": "fragment"
    },
    "tags": []
   },
   "source": [
    "Uma solução é descartar a direção de Newton e tomar a direção $-\\nabla f(x^k)$."
   ]
  },
  {
   "cell_type": "code",
   "execution_count": null,
   "id": "67ee73a7-7be3-438a-9283-c6cff17ddab2",
   "metadata": {
    "editable": false,
    "slideshow": {
     "slide_type": "slide"
    },
    "tags": []
   },
   "outputs": [],
   "source": [
    "using LinearAlgebra, Printf\n",
    "\n",
    "# Método de Newton\n",
    "# Entrada: modelo nlp na estrutura NLPModels, x0 ponto inicial (opcional)\n",
    "\n",
    "function newton2(nlp; x0 = nothing, eps = 1e-6, maxiters = 100, saidas = true)\n",
    "    # lê o número de variáveis da estrutura NLPModels\n",
    "    n = nlp.meta.nvar\n",
    "\n",
    "    # Testa se usuário forneceu o ponto inicial. Se não forneceu, inicia na origem\n",
    "    if isnothing(x0)\n",
    "        x = zeros(n)\n",
    "    else\n",
    "        # aloca vetor solução, copiando x0\n",
    "        x = deepcopy(x0)\n",
    "    end\n",
    "\n",
    "    # contador de iterações\n",
    "    k = 0\n",
    "\n",
    "    # computa gradiente e sua norma do infinito\n",
    "    g = grad(nlp, x)\n",
    "    norma_g = norm(g, Inf)\n",
    "\n",
    "    # cabeçalho\n",
    "    if saidas\n",
    "        println(\"Iter  |     norma ∇f |     norma dN\")\n",
    "    end\n",
    "\n",
    "    while (k <= maxiters)\n",
    "        # inicia direção da iteração em branco\n",
    "        d = []\n",
    "\n",
    "        # Tenta calcular uma solução do sistema Newtoniano\n",
    "        try\n",
    "            d = hess(nlp, x) \\ (-g)\n",
    "        catch\n",
    "            # caso deu errado, toma a direção -∇f\n",
    "            d = -grad(nlp, x)\n",
    "        end\n",
    "\n",
    "        x .= x + d\n",
    "\n",
    "        k += 1\n",
    "\n",
    "        # Atualiza gradiente e norma no novo iterando\n",
    "        g = grad(nlp, x)\n",
    "        norma_g = norm(g, Inf)\n",
    "\n",
    "        # Imprime dados da iteração\n",
    "        if saidas\n",
    "            @printf(\"%5d | %.6e | %.6e\\n\", k, norma_g, norm(d,Inf))\n",
    "        end\n",
    "\n",
    "        # Parar?\n",
    "        if (norma_g <= eps)\n",
    "            if saidas\n",
    "                println()\n",
    "                println(\"Problema resolvido com sucesso!\")\n",
    "            end\n",
    "            # encerra laço while\n",
    "            break\n",
    "        end\n",
    "    end\n",
    "\n",
    "    # Retorna solução, |∇f|_∞ e número de iterações\n",
    "    return x, norma_g, k\n",
    "end"
   ]
  },
  {
   "cell_type": "code",
   "execution_count": null,
   "id": "f88a4805-5a97-495b-9fc1-f022777db92d",
   "metadata": {
    "editable": false,
    "slideshow": {
     "slide_type": "slide"
    },
    "tags": []
   },
   "outputs": [],
   "source": [
    "newton2(nlp, x0=[1.0;1.0])"
   ]
  },
  {
   "cell_type": "markdown",
   "id": "7df23401-bd80-4419-85b7-4f490af4d827",
   "metadata": {
    "editable": true,
    "slideshow": {
     "slide_type": "slide"
    },
    "tags": []
   },
   "source": [
    "Mas ainda há dois problemas:\n",
    "1. A direção de Newton pode não ser de descida, isto é, pode ocorrer $\\nabla f(x^k)^td^k > 0$. Neste caso, caminhar na direção de Newton **aumentará** $f$ localmente a partir de $x^k$, o que não queremos.\n",
    "2. Mesmo se a direção de Newton for de descida, não controlamos o tamanho do passo ao fazer simplesmente $x+d$... Assim, devemos realizar busca linear (Armijo + *backtracking*) para garantir decréscimo de $f$"
   ]
  },
  {
   "cell_type": "markdown",
   "id": "da0ab379-ec89-4ad1-9342-d148005d7640",
   "metadata": {
    "editable": true,
    "slideshow": {
     "slide_type": "slide"
    },
    "tags": []
   },
   "source": [
    "**Quando a direção de Newton é de descida?**\n",
    "\n",
    "Uma matriz quadrada $A$ de ordem $n$ é **definida positiva** se $z^tAz > 0$ para todo $0\\neq z\\in \\mathbb R^n$.\n",
    "\n",
    "**Teorema:** Se $\\nabla^2 f(x^k)$ for definida positiva, então a direção de Newton\n",
    "$$d^k = -(\\nabla^2 f(x^k))^{-1}\\nabla f(x^k)$$\n",
    "é de descida para $f$ a partir de $x^k$."
   ]
  },
  {
   "cell_type": "markdown",
   "id": "0c7b6d1c-e37a-4b49-bdc2-c78a7191caec",
   "metadata": {
    "editable": true,
    "slideshow": {
     "slide_type": "fragment"
    },
    "tags": []
   },
   "source": [
    "Uma maneira de verificar se uma matriz simétrica é definida positiva é através da fatoração de Cholesky.\n",
    "\n",
    "**Fatoração de Cholesky**\n",
    "\n",
    "Dada uma matriz simétrica $A$, a fatoração de Cholesky consiste em escrever\n",
    "$$\n",
    "A = GG^t\n",
    "$$\n",
    "onde $G$ é matriz triangular inferior com diagonal toda positiva.\n",
    "\n",
    "**Teorema:** Uma matriz simétrica $A$ é definida positiva se, e somente se, admite fatoração de Cholesky."
   ]
  },
  {
   "cell_type": "markdown",
   "id": "e45b958b-65c4-40d6-816c-5b60807df71f",
   "metadata": {
    "editable": true,
    "slideshow": {
     "slide_type": "slide"
    },
    "tags": []
   },
   "source": [
    "Assim, a estratégia é tentar calcular a fatoração de Cholesky de $\\nabla^2 f(x^k)$. Se der certo, a direção de Newton está bem definida e é de descida. Caso contrário, ou a direção de Newton não está bem definida ou ela não é de descida, casos em que temos que descartá-la."
   ]
  },
  {
   "cell_type": "markdown",
   "id": "789799a8-3d1a-4d68-9464-de9ba971e7ce",
   "metadata": {
    "editable": true,
    "slideshow": {
     "slide_type": "slide"
    },
    "tags": []
   },
   "source": [
    "### Calculando a fatoração de Cholesky no Julia"
   ]
  },
  {
   "cell_type": "code",
   "execution_count": null,
   "id": "469fa7da-467d-4895-aea2-7c14869aa1e5",
   "metadata": {
    "editable": false,
    "slideshow": {
     "slide_type": ""
    },
    "tags": []
   },
   "outputs": [],
   "source": [
    "using LinearAlgebra\n",
    "A = Symmetric([4.0 2.0 0.0; 0.0 2.0 1.0; 0.0 0.0 3.0], :U)"
   ]
  },
  {
   "cell_type": "code",
   "execution_count": null,
   "id": "263bf5d4-5f6c-42c9-bfbc-4df435a4e86f",
   "metadata": {
    "editable": false,
    "slideshow": {
     "slide_type": "fragment"
    },
    "tags": []
   },
   "outputs": [],
   "source": [
    "F = cholesky(A)"
   ]
  },
  {
   "cell_type": "code",
   "execution_count": null,
   "id": "960e27f5-6bbb-4581-8d82-bbad54cbd22e",
   "metadata": {
    "editable": false,
    "slideshow": {
     "slide_type": "slide"
    },
    "tags": []
   },
   "outputs": [],
   "source": [
    "# F é uma estrutura que guarda a fatoração.\n",
    "# ELA PODE SER USADA PARA RESOLVER O SISTEMA Ax = b NO LUGAR DE A\n",
    "b = ones(3)\n",
    "x = F\\b"
   ]
  },
  {
   "cell_type": "code",
   "execution_count": null,
   "id": "6afd285d-23a0-48b3-8e9b-2a7992cf60c9",
   "metadata": {
    "editable": false,
    "slideshow": {
     "slide_type": "fragment"
    },
    "tags": []
   },
   "outputs": [],
   "source": [
    "norm(A*x-b)"
   ]
  },
  {
   "cell_type": "markdown",
   "id": "eabf6bc3-f599-4493-bff7-d38195fdbabe",
   "metadata": {
    "editable": true,
    "slideshow": {
     "slide_type": "fragment"
    },
    "tags": []
   },
   "source": [
    "Se temos a fatoração de Cholesky de uma matriz $A$, é importante usar a fatoração para resolver sistemas $Ax=b$, pois isso será feito resolvendo dois sistemas lineares triangulares, que é mais rápido:\n",
    "1. $A = GG^t\\quad$ (fatoração de Cholesky de $A$)\n",
    "2. $y = G^tx\\quad$ (sistema triangular superior)\n",
    "3. $Gy = b\\quad$ (sistema triangular inferior)\n",
    "\n",
    "(verifique que os passos acima levam à $Ax=b$)"
   ]
  },
  {
   "cell_type": "markdown",
   "id": "80ae5c89-3531-4f52-a00d-10dc37ba7438",
   "metadata": {
    "editable": true,
    "slideshow": {
     "slide_type": "fragment"
    },
    "tags": []
   },
   "source": [
    "Ao fazer `x = F\\b`, o Julia internamente faz isso!"
   ]
  },
  {
   "cell_type": "markdown",
   "id": "0e7788d0-7167-4bfc-84d9-fc5d5c727100",
   "metadata": {
    "editable": true,
    "slideshow": {
     "slide_type": "slide"
    },
    "tags": []
   },
   "source": [
    "## Gradientes conjugados\n",
    "\n",
    "O método dos gradientes conjugados$^{1,2}$ é um dos métodos iterativos mais utilizados para minimizar quadráticas com hessiana simétrica e definida positiva:\n",
    "$$\n",
    "f(x) = \\frac{1}{2}x^tAx - b^tx\n",
    "$$\n",
    "$A$ matriz $n\\times n$ simétrica e definida positiva. Minimizar $f$ é equivalente à resolver\n",
    "$$\n",
    "\\nabla f(x) = Ax - b = 0.\n",
    "$$\n",
    "\n",
    "---\n",
    "\n",
    "1. <font size=1>Hestenes, Stiefel. Methods of Conjugate Gradients for Solving Linear Systems. Journal of Research of the National Bureau of Standards, 49(6), 1952</font>\n",
    "1. <font size=1>Nocedal, Wright. Numerical Optimization. 2ed. Springer, New York, 2006</font>"
   ]
  },
  {
   "cell_type": "markdown",
   "id": "667cfd8a-361c-41cf-a810-bdbb4f9d4a75",
   "metadata": {
    "editable": true,
    "slideshow": {
     "slide_type": "slide"
    },
    "tags": []
   },
   "source": [
    "**Gradiente Conjugados**\n",
    "\n",
    "*Entrada:* $\\ $ matriz $A$, vetor $b$, $x_0\\in \\mathbb R^n$ e tolerância para convergência $\\varepsilon>0$\n",
    "1. (inicialização) $\\quad r_0 = Ax_0-b, \\quad p_0 = -r_0, \\quad k\\leftarrow 0$\n",
    "1. enquanto $\\|r_k\\| > \\varepsilon$\n",
    "1. $\\quad w_k = Ap_k$\n",
    "1. $\\quad \\alpha_k = \\dfrac{r_k^tr_k}{p_k^tw_k}$\n",
    "1. $\\quad x_{k+1} = x_k + \\alpha_k p_k$\n",
    "1. $\\quad r_{k+1} = r_k + \\alpha_k w_k$\n",
    "1. $\\quad \\beta_{k+1} = \\dfrac{r_{k+1}^tr_{k+1}}{r_k^tr_k}$\n",
    "1. $\\quad p_{k+1} = -r_{k+1} + \\beta_{k+1} p_k$\n",
    "1. $\\quad k\\leftarrow k+1$\n",
    "1. fim"
   ]
  },
  {
   "cell_type": "code",
   "execution_count": null,
   "id": "8e541d98-0743-4ddc-9871-09e7c867b49c",
   "metadata": {
    "editable": false,
    "slideshow": {
     "slide_type": "slide"
    },
    "tags": []
   },
   "outputs": [],
   "source": [
    "using LinearAlgebra\n",
    "\n",
    "# Gradiente conjugados\n",
    "# A, b e x0 são parâmetros obrigatórios\n",
    "# eps é parâmetro opcional, cujo valor padrão é 10^{-8}\n",
    "# maxiters é parâmetro opcional, cujo valor padrão é 100\n",
    "function cg(A, b, x0; eps = 1e-8, maxiters = 100, saidas = true)\n",
    "    # captura dimensão de A\n",
    "    n = size(A,1)\n",
    "\n",
    "    # aloca vetores na memória\n",
    "    x = zeros(n)\n",
    "    r = similar(x)\n",
    "    p = similar(x)\n",
    "    w = similar(x)\n",
    "\n",
    "    # inicialização\n",
    "    r .= A*x - b\n",
    "    p .= -r\n",
    "    k = 0\n",
    "    norma_r = norm(r)\n",
    "\n",
    "    # laço principal\n",
    "    while (norma_r > eps) && (k <= maxiters)\n",
    "        w .= A*p\n",
    "        alpha = (r'*r) / (p'*w)\n",
    "        x .= x + alpha*p\n",
    "        rtr_old = r'*r\n",
    "        r .= r + alpha*w\n",
    "        beta = (r'*r) / rtr_old\n",
    "        p .= -r + beta*p\n",
    "        norma_r = norm(r)\n",
    "        k += 1\n",
    "        if saidas\n",
    "            println(\"Iteração $(k): norma resíduo = $(norma_r)\")\n",
    "        end\n",
    "    end\n",
    "\n",
    "    # retorna solução, norma de r e número de iterações\n",
    "    return x, norma_r, k\n",
    "end"
   ]
  },
  {
   "cell_type": "code",
   "execution_count": null,
   "id": "47fe4c1e-8a1a-45f1-a63d-5706ffcf5cc3",
   "metadata": {
    "editable": false,
    "slideshow": {
     "slide_type": "slide"
    },
    "tags": []
   },
   "outputs": [],
   "source": [
    "# construindo uma matriz simétrica e definida positiva de ordem 10\n",
    "n = 10\n",
    "A = rand(n,n)\n",
    "A = A + A' + I(n)\n",
    "A = Symmetric(A)\n",
    "\n",
    "b = A*ones(n)\n",
    "\n",
    "x0 = rand(n)    # ponto inicial\n",
    "\n",
    "# aplicando gradiente conjugados\n",
    "x, r, iter = cg(A, b, x0);"
   ]
  },
  {
   "cell_type": "code",
   "execution_count": null,
   "id": "dfeb3541-9957-4a87-a7cf-cdcbd2583582",
   "metadata": {
    "editable": false,
    "slideshow": {
     "slide_type": ""
    },
    "tags": []
   },
   "outputs": [],
   "source": [
    "# conferindo a solução\n",
    "norm(A*x-b)"
   ]
  },
  {
   "cell_type": "markdown",
   "id": "e606ac4e-e339-487c-a066-6faa56c28636",
   "metadata": {
    "editable": true,
    "slideshow": {
     "slide_type": "slide"
    },
    "tags": []
   },
   "source": [
    "**Um exemplo mais interessante**\n",
    "\n",
    "O método dos gradientes conjugados é adequado à sistemas com muitas variáveis, e onde $A$ é esparsa.\n",
    "\n",
    "Vamos utilizar uma matriz da coletânea *Suite Sparse Matrix Collection* (sparse.tamu.edu/)"
   ]
  },
  {
   "cell_type": "code",
   "execution_count": null,
   "id": "0deb4c93-93a6-4eab-b404-9c4bd3b084a3",
   "metadata": {
    "editable": false,
    "slideshow": {
     "slide_type": ""
    },
    "tags": []
   },
   "outputs": [],
   "source": [
    "using LinearAlgebra\n",
    "# pacote para baixar matrizes da Suite Sparse Matrix Collection\n",
    "using MatrixDepot\n",
    "# pacote para lidar com matrizes esparsas\n",
    "using SparseArrays\n",
    "\n",
    "# baixa/lê a matriz HB/1138_bus\n",
    "A = matrixdepot(\"HB/1138_bus\");\n",
    "\n",
    "# garantindo tomar a versão esparsa de A\n",
    "A = sparse(A);"
   ]
  },
  {
   "cell_type": "markdown",
   "id": "afdb8dc6-9940-4f0d-80a7-970fa7d89707",
   "metadata": {
    "editable": true,
    "slideshow": {
     "slide_type": "slide"
    },
    "tags": []
   },
   "source": [
    "Propriedades de A:\n",
    "(https://sparse.tamu.edu/HB/1138_bus)"
   ]
  },
  {
   "cell_type": "code",
   "execution_count": null,
   "id": "dff00394-e9c5-435e-bccc-7b6228d76f79",
   "metadata": {
    "editable": false,
    "slideshow": {
     "slide_type": ""
    },
    "tags": []
   },
   "outputs": [],
   "source": [
    "n = size(A,1)\n",
    "# número de não zeros / dimensão A\n",
    "nnz(A), n"
   ]
  },
  {
   "cell_type": "code",
   "execution_count": null,
   "id": "06962daf-4255-4a55-b007-536a4f7e57e6",
   "metadata": {
    "editable": false,
    "slideshow": {
     "slide_type": "fragment"
    },
    "tags": []
   },
   "outputs": [],
   "source": [
    "# % não zeros\n",
    "n = size(A,1)\n",
    "100*nnz(A)/n^2"
   ]
  },
  {
   "cell_type": "code",
   "execution_count": null,
   "id": "97846d81-5e7b-4aff-90c2-890ce670817b",
   "metadata": {
    "editable": false,
    "slideshow": {
     "slide_type": "slide"
    },
    "tags": []
   },
   "outputs": [],
   "source": [
    "# estrutura de esparsidade de A\n",
    "using Plots\n",
    "spy(A)"
   ]
  },
  {
   "cell_type": "code",
   "execution_count": null,
   "id": "7251f43f-0958-473b-9e0f-1e0890bf84d3",
   "metadata": {
    "editable": false,
    "slideshow": {
     "slide_type": "slide"
    },
    "tags": []
   },
   "outputs": [],
   "source": [
    "# Testando gradientes conjugados\n",
    "b = A*ones(n)\n",
    "x0 = rand(n)\n",
    "x, r, iter = cg(A,b,x0, maxiters=5*n, saidas=false);\n",
    "\n",
    "# resíduo final, iterações\n",
    "r, iter"
   ]
  },
  {
   "cell_type": "code",
   "execution_count": null,
   "id": "dd32fa52-535e-49d5-aed1-22dd25c0c36e",
   "metadata": {
    "editable": false,
    "slideshow": {
     "slide_type": "fragment"
    },
    "tags": []
   },
   "outputs": [],
   "source": [
    "# contabilizando tempo de resolução\n",
    "@time cg(A,b,x0, maxiters=5*n, saidas=false);"
   ]
  },
  {
   "cell_type": "markdown",
   "id": "9525e0ec-9cb1-4fad-9a8a-5bb7d7e44e65",
   "metadata": {
    "editable": true,
    "slideshow": {
     "slide_type": "slide"
    },
    "tags": []
   },
   "source": [
    "## Exercícios\n",
    "\n",
    "**Exercício 13:** Repita os testes com os códigos fornecidos. Invente problemas e aplique os métodos para visualizar o comportamento e possíveis erros.\n",
    "\n",
    "**Exercício 14:** Implemente o método de Newton que faça o seguinte:\n",
    "1. Tente calcular a fatoração de Cholesky de $\\nabla^2 f(x^k)$ para decidir qual direção tomar (Newtoniana ou gradiente)\n",
    "2. Independentemente da direção escolhida, realize busca linear com Armijo e *backtracking*\n",
    "3. Pare a execução declarando \"função possivelmente ilimitada inferiormente\" se $f(x^k)\\leq M$ para algum parâmetro $M<0$ dado pelo usuário. Use como padrão $M=-10^{20}$\n",
    "\n",
    "Teste sua implementação nos problemas irrestritos dos Exemplos 1, 2, 3 e 4. Também, invente problemas e inicie o método de diferentes pontos.\n",
    "\n",
    "**Exercício 15:** Faça uma versão do método do exercício anterior usando gradientes conjugados para resolver o sistema Newtoniano ao invés do operador `\\`. Caso gradientes conjugados não convirja ou dê erro, adote a direção de gradiente."
   ]
  },
  {
   "cell_type": "markdown",
   "id": "3d5c138a-e595-4b29-b49c-bd2583a27ae1",
   "metadata": {
    "editable": true,
    "slideshow": {
     "slide_type": "slide"
    },
    "tags": []
   },
   "source": [
    "Se inicializarmos um vetor \"vazio\" no Julia, digamos do tipo numérico para números reais de precisão dupla (`Float64`),"
   ]
  },
  {
   "cell_type": "code",
   "execution_count": null,
   "id": "ca208f57-df1e-4b82-a749-92cdeb85399b",
   "metadata": {
    "editable": false,
    "slideshow": {
     "slide_type": ""
    },
    "tags": []
   },
   "outputs": [],
   "source": [
    "gs = Float64[]"
   ]
  },
  {
   "cell_type": "markdown",
   "id": "8d64d517-035c-4cf8-b025-40b9a2ab9a52",
   "metadata": {
    "editable": true,
    "slideshow": {
     "slide_type": ""
    },
    "tags": []
   },
   "source": [
    "podemos agregar valores `gs` com o comando `push!`. Por exemplo,"
   ]
  },
  {
   "cell_type": "code",
   "execution_count": null,
   "id": "7f8279f8-c48f-4b77-a4cd-52842992ee29",
   "metadata": {
    "editable": false,
    "slideshow": {
     "slide_type": "fragment"
    },
    "tags": []
   },
   "outputs": [],
   "source": [
    "push!(gs, 10.3)"
   ]
  },
  {
   "cell_type": "code",
   "execution_count": null,
   "id": "6f23aac0-ed03-42f6-97f3-03517cbcd46a",
   "metadata": {
    "editable": false,
    "slideshow": {
     "slide_type": "fragment"
    },
    "tags": []
   },
   "outputs": [],
   "source": [
    "push!(gs, 1e-5)\n",
    "push!(gs, 5.67)"
   ]
  },
  {
   "cell_type": "markdown",
   "id": "8fb602b2-0482-4688-92cd-6755157375cd",
   "metadata": {
    "editable": true,
    "slideshow": {
     "slide_type": ""
    },
    "tags": []
   },
   "source": [
    "Isso é útil quando queremos guardar informações das iterações de um algoritmo para plotar gráficos, por exemplo."
   ]
  },
  {
   "cell_type": "markdown",
   "id": "abe23095-f11a-4562-93e2-f15ec5e3f235",
   "metadata": {
    "editable": true,
    "slideshow": {
     "slide_type": "slide"
    },
    "tags": []
   },
   "source": [
    "**Exercício 16:** Implemente uma modificação no código do método do gradiente que incialize o vetor `gs` fora do `while` principal, agregue os valor de $\\|\\nabla f\\|_\\infty$ em cada iteração, e retorne `gs` no final.\n",
    "\n",
    "Use o vetor `gs` para plotar um gráfico $\\|\\nabla f\\|_\\infty$ em função das iterações.\n",
    "\n",
    "Para fazer o gráfico, você deve carregar o pacote `Plots` e executar simplesmene\n",
    "\n",
    "`fig = plot(gs, label=\"norma grad f\")`\n",
    "\n",
    "Caso queira salvar a figura, execute `savefig(fig, \"figura.png\")` (extensão pdf também é aceita)."
   ]
  },
  {
   "cell_type": "markdown",
   "id": "58ed2ec9-4bcc-4966-9b8e-a10e9998732d",
   "metadata": {
    "editable": true,
    "slideshow": {
     "slide_type": "slide"
    },
    "tags": []
   },
   "source": [
    "# Acesso a bancos de problemas-teste\n",
    "\n",
    "Um ponto importante quando se faz pesquisa que demande testes computacionais é o uso de problemas-teste (instâncias) consolidados na literatura."
   ]
  },
  {
   "cell_type": "markdown",
   "id": "29ef9c93-c65c-4109-9fed-3b40bcb714d5",
   "metadata": {
    "editable": true,
    "slideshow": {
     "slide_type": "fragment"
    },
    "tags": []
   },
   "source": [
    "A comunidade de otimização e pesquisa operacional disponibiliza vários bancos de problemas. Vários deles têm interfaces para Julia que facilitam o uso."
   ]
  },
  {
   "cell_type": "markdown",
   "id": "495d01d6-ef32-489a-bab2-4d5e666befc3",
   "metadata": {
    "editable": true,
    "slideshow": {
     "slide_type": "slide"
    },
    "tags": []
   },
   "source": [
    "## Alguns bancos de problemas\n",
    "\n",
    "**Otimização contínua**\n",
    "\n",
    "- CUTEst (*Constrained and Unconstrained Testing Environment with safe threads*): problemas quadráticos e não lineares gerais. Inclui problemas lineares da coletânea NETLIB.\n",
    "   - Interface: pacote `CUTEst`\n",
    "   - [Página do pacote](https://github.com/JuliaSmoothOptimizers/CUTEst.jl)\n",
    "- Problemas de quadrados mínimos não lineares de [Moré, Garbow e\n",
    "Hillstrom (1981)](https://doi.org/10.1145/355934.355936): pacote [`NLSModels`](https://github.com/JuliaSmoothOptimizers/NLSProblems.jl)\n",
    "- Problemas irrestritos: pacote [`OptimizationProblems`](https://github.com/JuliaSmoothOptimizers/OptimizationProblems.jl)"
   ]
  },
  {
   "cell_type": "markdown",
   "id": "cbf3ae5a-29b7-4bb9-b96e-1973cdf89bda",
   "metadata": {
    "editable": true,
    "slideshow": {
     "slide_type": "slide"
    },
    "tags": []
   },
   "source": [
    "**Programação linear inteira mista e otimização combinatória**\n",
    "\n",
    "- Problema do caixeiro viajante (*Traveling Salesman Problem*): [`TSPLIB`](https://github.com/matago/TSPLIB.jl)\n",
    "- Problemas de localização de facilidades (*Facility Location Problems*): [`FacilityLocationProblems`](https://github.com/rafaelmartinelli/FacilityLocationProblems.jl)\n",
    "- Problema de alocação generalizado (GAP - *Generalized Assignmnent Problem*): [`AssignmentProblems`](https://github.com/rafaelmartinelli/AssignmentProblems.jl)\n",
    "- Problema de empacotamento (*Bin Packing Problem*): [`BPPLib`](https://github.com/rafaelmartinelli/BPPLib)\n",
    "- *Capacitated Lot Sizing Problem*: [`LotSizingProblems`](https://github.com/rafaelmartinelli/LotSizingProblems.jl)\n",
    "- *Multi-Depot Vechile Scheduling Problem*: [`MDVSP`](https://github.com/rafaelmartinelli/MDVSP)\n",
    "- Problema de roteamento de veículos capacitado (*Capacitated Vehicle Routing Problem*): [`CVRPLIB`](https://github.com/chkwon/CVRPLIB)\n",
    "- *Inventory Routing Problem*: [`InventoryRoutingProblems`](https://github.com/rafaelmartinelli/InventoryRoutingProblems.jl)\n",
    "- *Capacitated Arc Routing Problem*: [`CARPData`](https://github.com/rafaelmartinelli/CARPData.jl)"
   ]
  },
  {
   "cell_type": "markdown",
   "id": "eb0a91c6-c352-4d5e-8b0a-7f3c17536c97",
   "metadata": {
    "editable": true,
    "slideshow": {
     "slide_type": "slide"
    },
    "tags": []
   },
   "source": [
    "**Banco de matrizes**\n",
    "\n",
    "- Matrizes esparsas da *[Suite Sparse Matrix Collection](https://sparse.tamu.edu/)*: inclui inúmeras matrizes de porte pequeno à grande, provenientes de aplicações\n",
    "   - pacote `MatrixDepot` (usado no exemplo de gradientes conjugados)\n",
    "   - [Página do pacote](https://github.com/JuliaMatrices/MatrixDepot.jl)\n",
    "\n",
    "**Conjuntos de dados para aprendizado de máquina**\n",
    "\n",
    "- Pacote [`MLDatasets`](https://github.com/JuliaML/MLDatasets.jl)\n",
    "\n",
    "**Formatos específicos**\n",
    "\n",
    "- Leitura de arquivos [AMPL](https://ampl.com/) (`.nl`): pacote [`AmplNLReader`](https://github.com/JuliaSmoothOptimizers/AmplNLReader.jl)\n",
    "- Leitura de arquivos `MPS` e `QPS` (programação linear e quadrática): pacote [`QPSReader`](https://github.com/JuliaSmoothOptimizers/QPSReader.jl)\n",
    "\n",
    "**Fontes sem interface para Julia, mas que podem ser lidas implementando funções adequadas**\n",
    "\n",
    "- [Página com links para várias bibliotecas](http://people.brunel.ac.uk/~mastjjb/jeb/info.html)\n",
    "- [Problemas com restrições de equilíbrio/complementaridade](https://wiki.mcs.anl.gov/leyffer/index.php/MacMPEC)"
   ]
  },
  {
   "cell_type": "markdown",
   "id": "ea9e3fba-6fd5-489c-93c3-99fcc554b5b5",
   "metadata": {
    "editable": true,
    "slideshow": {
     "slide_type": "slide"
    },
    "tags": []
   },
   "source": [
    "Vamos destacar dois bancos de testes:\n",
    "- **[CUTEst](https://github.com/ralna/CUTEst/wiki) (*Constrained and Unconstrained Testing Environment with safe threads*)**  \n",
    "  Este é um dos principais banco de problemas para testes de algoritmos para programação não linear geral. Contém problemas quadráticos, não lineares gerais e lineares. É amplamente aceita na comunidade como certificado do bom funcionamento de um algoritmo.\n",
    "\n",
    "- **Matrizes esparsas da *[Suite Sparse Matrix Collection](https://sparse.tamu.edu/)***  \n",
    "  É o principal banco de matrizes. É mantida pela Universidade da Flórida. Contém variadas matrizes de diferentes tamanhos, tipos (simétricas ou não, definidas positivas ou não etc). As matrizes provém de aplicações, assim são uma ótima base para testes \"verdadeiros\"."
   ]
  },
  {
   "cell_type": "markdown",
   "id": "c1d19966-b3ad-44c7-b770-75945e5c43e2",
   "metadata": {
    "editable": true,
    "slideshow": {
     "slide_type": "slide"
    },
    "tags": []
   },
   "source": [
    "## CUTEst"
   ]
  },
  {
   "cell_type": "markdown",
   "id": "3536abe5-0e8a-47e4-8c86-103c0ec99727",
   "metadata": {
    "editable": true,
    "slideshow": {
     "slide_type": ""
    },
    "tags": []
   },
   "source": [
    "`CUTEst` é o pacote que lê problemas do banco de problemas. Ao instalar este pacote, todos os problemas da CUTEst são automaticamente baixados, logo não é necessário baixá-los manualmente. Os problemas já vêm no formato `NLPModels`, cujas derivadas podem ser calculadas automaticamente."
   ]
  },
  {
   "cell_type": "code",
   "execution_count": null,
   "id": "164c79e3-274c-4fb0-af3c-5e6ae2cc029e",
   "metadata": {
    "editable": true,
    "slideshow": {
     "slide_type": "fragment"
    },
    "tags": []
   },
   "outputs": [],
   "source": [
    "using CUTEst\n",
    "\n",
    "# carrega o problema BYRDSPHR\n",
    "nlp = CUTEstModel(\"BYRDSPHR\");"
   ]
  },
  {
   "cell_type": "code",
   "execution_count": null,
   "id": "b9936903-b18b-4279-9b4f-5e6a40a75b7b",
   "metadata": {
    "editable": true,
    "slideshow": {
     "slide_type": ""
    },
    "tags": []
   },
   "outputs": [],
   "source": [
    "display(nlp)"
   ]
  },
  {
   "cell_type": "markdown",
   "id": "f250a2f5-3e6e-4c86-821d-21b56d2f8d20",
   "metadata": {
    "editable": true,
    "slideshow": {
     "slide_type": "slide"
    },
    "tags": []
   },
   "source": [
    "Como sei quais problemas estão na CUTEst?\n",
    "\n",
    "Executando `list_sif_problems()` você verá a lista completa dos problemas."
   ]
  },
  {
   "cell_type": "markdown",
   "id": "36d16963-97ae-4cc6-bce6-caca20e5cbdb",
   "metadata": {
    "editable": true,
    "slideshow": {
     "slide_type": "fragment"
    },
    "tags": []
   },
   "source": [
    "No momento da escrita desses slides, a coletânea possui 1539 problemas... Então, na prática, é comum escolhermos os problemas por categorias."
   ]
  },
  {
   "cell_type": "code",
   "execution_count": null,
   "id": "cf19a672-a000-43de-95f5-99b957e25f49",
   "metadata": {
    "editable": true,
    "slideshow": {
     "slide_type": "fragment"
    },
    "tags": []
   },
   "outputs": [],
   "source": [
    "# Problemas irrestritos com mínimo de 10 variáveis, máximo de 20,\n",
    "# somente variáveis livres (sem limitantes)\n",
    "probs = select_sif_problems(min_var=10, max_var=20, contype=\"unc\", only_free_var=true)"
   ]
  },
  {
   "cell_type": "code",
   "execution_count": null,
   "id": "da35ea5f-5294-4a45-93c8-df1269231a6f",
   "metadata": {
    "editable": true,
    "slideshow": {
     "slide_type": "fragment"
    },
    "tags": []
   },
   "outputs": [],
   "source": [
    "# descarregando problema previamente carregado\n",
    "finalize(nlp)\n",
    "# carregando o 9o problema da lista \"probs\"\n",
    "nlp = CUTEstModel(probs[9]);"
   ]
  },
  {
   "cell_type": "markdown",
   "id": "ac07ade0-494a-4c4a-b46f-94d2f3fd212d",
   "metadata": {
    "editable": true,
    "slideshow": {
     "slide_type": "slide"
    },
    "tags": []
   },
   "source": [
    "Neste ponto, `nlp` já está pronto para ser usado. Por exemplo, podemos aplicar nosso método de gradiente:"
   ]
  },
  {
   "cell_type": "code",
   "execution_count": null,
   "id": "38da30b1-4daa-4471-be6a-1dddb6094cec",
   "metadata": {
    "editable": true,
    "scrolled": true,
    "slideshow": {
     "slide_type": "fragment"
    },
    "tags": []
   },
   "outputs": [],
   "source": [
    "include(\"gradiente.jl\")\n",
    "gradiente(nlp, maxiters=1000);"
   ]
  },
  {
   "cell_type": "markdown",
   "id": "a7f07ba3-bc83-4b3a-8e85-876196738362",
   "metadata": {
    "editable": true,
    "slideshow": {
     "slide_type": "slide"
    },
    "tags": []
   },
   "source": [
    "**Observação:** ao carregar um problema da CUTEst, o pacote pode ficar \"ocupado\" com aquele problema gerando erro ao tentar ler outro problema. Então, para carregar outro modelo, primeiro descarregue o anterior:"
   ]
  },
  {
   "cell_type": "code",
   "execution_count": null,
   "id": "f1dca3cf-70e8-4e3f-b60a-0d4df8d32e01",
   "metadata": {
    "editable": false,
    "scrolled": true,
    "slideshow": {
     "slide_type": "fragment"
    },
    "tags": []
   },
   "outputs": [],
   "source": [
    "finalize(nlp)    # garantindo que nlp estará liberado\n",
    "nlp = CUTEstModel(\"3PK\")"
   ]
  },
  {
   "cell_type": "markdown",
   "id": "bc6fd3c2-b26e-43e4-a894-72b11e569f3d",
   "metadata": {
    "editable": true,
    "slideshow": {
     "slide_type": "slide"
    },
    "tags": []
   },
   "source": [
    "**Lista de atributos para filtragem de problemas da CUTEst**\n",
    "\n",
    "- **max_var=[número]**: número máximo de variáveis\n",
    "- **min_var=[número]**: número mínimo de variáveis\n",
    "- **max_con=[número]**: número máximo de restrições ordinárias ($h(x)=0$ e $g(x)\\leq 0$)\n",
    "- **min_con=[número]**: número mínimo de restrições ordinárias ($h(x)=0$ e $g(x)\\leq 0$)\n",
    "- **only_free_var=true**: somente problemas com todas as variáveis livres\n",
    "- **only_bnd_var=true**: somente problemas com variáveis limitadas\n",
    "- **only_equ_con=true**: somente problemas com restrições ordinárias de igualdade\n",
    "- **only_ineq_con=true**: somente problemas com restrições ordinárias de desigualdade\n",
    "- **only_linear_con=true**: somente problemas com restrições ordinárias lineares\n",
    "- **only_nonlinear_con=true**: somente problemas com restrições ordinárias não lineares"
   ]
  },
  {
   "cell_type": "markdown",
   "id": "e00f428f-7ab0-473f-8501-3db0bf7c922a",
   "metadata": {
    "editable": true,
    "slideshow": {
     "slide_type": "slide"
    },
    "tags": []
   },
   "source": [
    "- **objtype=T**: tipo da função objetivo, onde **T** pode assumir\n",
    "  - **\"none\"**: sem função objetivo (problema de viabilidade)\n",
    "  - **\"constant\"**: função objetivo constante\n",
    "  - **\"linear\"**: função objetivo linear\n",
    "  - **\"quadratic\"**: função objetivo quadrática\n",
    "  - **\"sum_of_squares\"**: função objetivo igual à uma soma de quadrados\n",
    "  - **\"other\"**: outro tipo não especificado acima\n",
    "  - Obs: `CUTEst.objtypes` lista os tipos de função objetivo acima.\n",
    "- **contype=C**: categoria das restrições, onde **C** pode assumir\n",
    "  - **\"unc\"**: sem restrições (problema irrestrito)\n",
    "  - **\"fixed_vars\"**: restrições somente fixando variáveis\n",
    "  - **\"bounds\"**: somente limitantes em variáveis\n",
    "  - **\"network\"**: restrições representam a matriz de adjacência de uma rede\n",
    "  - **\"linear\"**: apenas restrições lineares\n",
    "  - **\"quadratic\"**: apenas restrições quadráticas (inclue as lineares)\n",
    "  - **\"general\"**: restrições mais gerais que as categorias acima\n",
    "  - Obs: `CUTEst.contypes` lista os tipos de restrições acima."
   ]
  },
  {
   "cell_type": "markdown",
   "id": "5c1ccff1-33ac-4a58-a674-c6cad846dee9",
   "metadata": {
    "editable": true,
    "slideshow": {
     "slide_type": "slide"
    },
    "tags": []
   },
   "source": [
    "## Suite Sparse Matrix Collection\n",
    "\n",
    "No site https://sparse.tamu.edu/ você pode consultar as matrizes categorizadas."
   ]
  },
  {
   "cell_type": "markdown",
   "id": "b7f92886-8ecc-408c-ac0c-db4963158516",
   "metadata": {
    "editable": true,
    "slideshow": {
     "slide_type": ""
    },
    "tags": []
   },
   "source": [
    "<center><img src=\"imagens/suite_sparse_matrix.png\" width=500></img></center>"
   ]
  },
  {
   "cell_type": "markdown",
   "id": "8d87f609-f86c-4db6-b41c-d38dd524eb95",
   "metadata": {
    "editable": true,
    "slideshow": {
     "slide_type": "slide"
    },
    "tags": []
   },
   "source": [
    "Um pacote que lê o banco de matrizes é o `MatrixDepot`"
   ]
  },
  {
   "cell_type": "code",
   "execution_count": null,
   "id": "12208d81-99c8-459d-a6f7-ac5431a04dce",
   "metadata": {
    "editable": false,
    "slideshow": {
     "slide_type": "fragment"
    },
    "tags": []
   },
   "outputs": [],
   "source": [
    "using MatrixDepot"
   ]
  },
  {
   "cell_type": "code",
   "execution_count": null,
   "id": "983d27d5-f9d1-44cb-b63c-b9218afe87d6",
   "metadata": {
    "editable": false,
    "slideshow": {
     "slide_type": "slide"
    },
    "tags": []
   },
   "outputs": [],
   "source": [
    "# Carregando a matriz 1138_bus do grupo HB\n",
    "A = matrixdepot(\"HB/1138_bus\");"
   ]
  },
  {
   "cell_type": "markdown",
   "id": "e1f9e1bb-e246-4cd8-a15a-14ac78982033",
   "metadata": {
    "editable": true,
    "slideshow": {
     "slide_type": ""
    },
    "tags": []
   },
   "source": [
    "**Observação:** no primeiro carregamento, a matriz é baixada da internet."
   ]
  },
  {
   "cell_type": "code",
   "execution_count": null,
   "id": "e6237652-1b39-44f8-8159-b13ac957e256",
   "metadata": {
    "editable": false,
    "slideshow": {
     "slide_type": "fragment"
    },
    "tags": []
   },
   "outputs": [],
   "source": [
    "# tamanho de A\n",
    "size(A)"
   ]
  },
  {
   "cell_type": "code",
   "execution_count": null,
   "id": "1a783505-717c-48b7-b845-8003d5a8d518",
   "metadata": {
    "editable": false,
    "slideshow": {
     "slide_type": "fragment"
    },
    "tags": []
   },
   "outputs": [],
   "source": [
    "# A é simétrica?\n",
    "issymmetric(A)"
   ]
  },
  {
   "cell_type": "code",
   "execution_count": null,
   "id": "242f5d6c-3a68-40bc-a8a1-77d432702acf",
   "metadata": {
    "editable": false,
    "slideshow": {
     "slide_type": "fragment"
    },
    "tags": []
   },
   "outputs": [],
   "source": [
    "# A é deifnida positiva?\n",
    "try\n",
    "F = cholesky(A)\n",
    "println(\"SIM, pois Cholesky deu certo! :)\")\n",
    "catch\n",
    "println(\"Não :(\")\n",
    "end"
   ]
  },
  {
   "cell_type": "markdown",
   "id": "2c320d50-3658-4b51-a8a8-c80b0b920880",
   "metadata": {
    "editable": true,
    "slideshow": {
     "slide_type": "slide"
    },
    "tags": []
   },
   "source": [
    "Algumas entradas da coletânea contêm mais do que uma matriz.\n",
    "\n",
    "Por exemplo, `LPnetlib/lp_25fv47` (https://sparse.tamu.edu/LPnetlib/lp_25fv47) são dados de um problema de programação linear\n",
    "\n",
    "$$\n",
    "\\min_x \\ c^tx \\quad \\text{s.a} \\quad Ax=b, \\quad l\\leq x\\leq u\n",
    "$$"
   ]
  },
  {
   "cell_type": "code",
   "execution_count": null,
   "id": "6be4d372-524a-4956-91f0-887a13c68edf",
   "metadata": {
    "editable": false,
    "slideshow": {
     "slide_type": "fragment"
    },
    "tags": []
   },
   "outputs": [],
   "source": [
    "# Carregando TODOS os dados disponíveis em LPnetlib/lp_25fv47\n",
    "P = mdopen(\"LPnetlib/lp_25fv47\");"
   ]
  },
  {
   "cell_type": "code",
   "execution_count": null,
   "id": "5c3ed42b-0558-4ba6-ad99-2f806bf95de2",
   "metadata": {
    "editable": true,
    "slideshow": {
     "slide_type": ""
    },
    "tags": []
   },
   "outputs": [],
   "source": [
    "P.A"
   ]
  },
  {
   "cell_type": "code",
   "execution_count": null,
   "id": "62e67549-b902-4a9e-a50d-e637dac75bd1",
   "metadata": {
    "editable": true,
    "slideshow": {
     "slide_type": ""
    },
    "tags": []
   },
   "outputs": [],
   "source": [
    "P.b'"
   ]
  },
  {
   "cell_type": "code",
   "execution_count": null,
   "id": "785ba72e-4d70-4129-a520-e4cde3576e24",
   "metadata": {
    "editable": true,
    "slideshow": {
     "slide_type": ""
    },
    "tags": []
   },
   "outputs": [],
   "source": [
    "P.c'"
   ]
  },
  {
   "cell_type": "markdown",
   "id": "7cd0f47a-b75c-4447-9972-987420996307",
   "metadata": {
    "editable": true,
    "slideshow": {
     "slide_type": "fragment"
    },
    "tags": []
   },
   "source": [
    "Tecle `P.` TAB -> TAB para visualizar todos os elementos carregados em P"
   ]
  },
  {
   "cell_type": "markdown",
   "id": "f4ba14e0-d287-4ddd-a636-d8387e197167",
   "metadata": {
    "editable": true,
    "slideshow": {
     "slide_type": "slide"
    },
    "tags": []
   },
   "source": [
    "## Exercícios\n",
    "\n",
    "**Exercício 17:** Crie a lista dos problemas da CUTEst que possuem no máximo 1000 variáveis, mínimo de 10 restrições, somente restrições de igualdade com pelo menos uma não linear e função objetivo do tipo \"quadrática\" ou \"soma de quadrados\".\n",
    "\n",
    "*Dica: para capturar problemas com função objetivo quadrática OU soma de quadrados, passe o parâmetro*\n",
    "\n",
    "`objtype=[\"quadratic\";\"sum_of_squares\"]`\n",
    "\n",
    "**Exercício 18:** Crie a lista dos problemas irrestritos da CUTEst."
   ]
  },
  {
   "cell_type": "markdown",
   "id": "963cf5c5-ff3f-4133-8dbd-5e06794775b6",
   "metadata": {
    "editable": true,
    "slideshow": {
     "slide_type": "slide"
    },
    "tags": []
   },
   "source": [
    "# Acesso a solvers de terceiros\n",
    "\n",
    "A comunidade de otimização / pesquisa operacional implementou e disponibiliza uma quantidade grande de métodos. São códigos feitos puramente em Julia ou interfaces em Julia para pacotes em outras linguagens."
   ]
  },
  {
   "cell_type": "markdown",
   "id": "a08b88ea-20a7-4903-953a-cd32b4b47506",
   "metadata": {
    "editable": true,
    "slideshow": {
     "slide_type": "fragment"
    },
    "tags": []
   },
   "source": [
    "Vamos exemplificar com o uso de alguns pacotes livres."
   ]
  },
  {
   "cell_type": "markdown",
   "id": "fc663bcc-1edb-4639-b0d8-9209ebef1033",
   "metadata": {
    "editable": true,
    "slideshow": {
     "slide_type": "slide"
    },
    "tags": []
   },
   "source": [
    "## Ipopt - Interior Point Optimizer\n",
    "\n",
    "Implementação de um método de pontos interiores para problemas gerais com restrições, descrito em\n",
    "\n",
    "[A. Wächter and L. T. Biegler, On the Implementation of a Primal-Dual Interior Point Filter Line Search Algorithm for Large-Scale Nonlinear Programming, Mathematical Programming 106(1), pp. 25-57, 2006](https://doi.org/10.1007/s10107-004-0559-y)\n",
    "\n",
    "Este pacote é mantido pelo consórcio COIN-OR e é amplamente utilizado pela comunidade acadêmica e industrial. É considerado um dos melhores *solvers* para problemas de programação não linear com restrições.\n",
    "\n",
    "1. Página do desenvolvedor: https://github.com/coin-or/Ipopt\n",
    "2. Interface para Julia para modelos na estrutura `NLPModels`: pacote `NLPModelsIpopt`"
   ]
  },
  {
   "cell_type": "markdown",
   "id": "b23acfad-ad91-46c3-a61d-cb86aa52abaa",
   "metadata": {
    "editable": true,
    "slideshow": {
     "slide_type": "slide"
    },
    "tags": []
   },
   "source": [
    "**Exemplo de uso do Ipopt**"
   ]
  },
  {
   "cell_type": "code",
   "execution_count": null,
   "id": "4ecdb2aa-0bcb-4829-ac46-403f18f386f6",
   "metadata": {
    "editable": false,
    "slideshow": {
     "slide_type": ""
    },
    "tags": []
   },
   "outputs": [],
   "source": [
    "using NLPModelsIpopt"
   ]
  },
  {
   "cell_type": "code",
   "execution_count": null,
   "id": "bb789e73-3a17-4398-a545-5cc09aa7350e",
   "metadata": {
    "editable": false,
    "slideshow": {
     "slide_type": "fragment"
    },
    "tags": []
   },
   "outputs": [],
   "source": [
    "using CUTEst\n",
    "\n",
    "# descarrega nlp caso algum problema foi carregado anteriormente\n",
    "if @isdefined(nlp) finalize(nlp) end\n",
    "\n",
    "# carrega o problema BYRDSPHR da CUTEst\n",
    "nlp = CUTEstModel(\"BYRDSPHR\")"
   ]
  },
  {
   "cell_type": "code",
   "execution_count": null,
   "id": "14a5b406-3522-4492-8a9e-46487be1da68",
   "metadata": {
    "editable": false,
    "scrolled": true,
    "slideshow": {
     "slide_type": "slide"
    },
    "tags": []
   },
   "outputs": [],
   "source": [
    "# Resolve problema com Ipopt\n",
    "saida = ipopt(nlp)"
   ]
  },
  {
   "cell_type": "code",
   "execution_count": null,
   "id": "61217a20-db38-420e-83d3-f93895f56870",
   "metadata": {
    "editable": false,
    "slideshow": {
     "slide_type": "slide"
    },
    "tags": []
   },
   "outputs": [],
   "source": [
    "saida.solution   # Solução obtida"
   ]
  },
  {
   "cell_type": "code",
   "execution_count": null,
   "id": "b7e656c2-a42e-4fb3-b69f-6a80bc0267c8",
   "metadata": {
    "editable": false,
    "slideshow": {
     "slide_type": "fragment"
    },
    "tags": []
   },
   "outputs": [],
   "source": [
    "saida.iter   # Número de iterações"
   ]
  },
  {
   "cell_type": "code",
   "execution_count": null,
   "id": "ec6ce942-ae48-410d-b9a3-a9167d0dcab5",
   "metadata": {
    "editable": false,
    "slideshow": {
     "slide_type": "fragment"
    },
    "tags": []
   },
   "outputs": [],
   "source": [
    "saida.multipliers   # Multiplicadores de Lagrange"
   ]
  },
  {
   "cell_type": "code",
   "execution_count": null,
   "id": "1625b13a-2d6b-480c-8d75-b9664c29d4a1",
   "metadata": {
    "editable": false,
    "slideshow": {
     "slide_type": "fragment"
    },
    "tags": []
   },
   "outputs": [],
   "source": [
    "saida.objective   # Valor FO final"
   ]
  },
  {
   "cell_type": "code",
   "execution_count": null,
   "id": "7fc10d54-3a22-4e7b-9f53-f22da07a707b",
   "metadata": {
    "editable": false,
    "slideshow": {
     "slide_type": "fragment"
    },
    "tags": []
   },
   "outputs": [],
   "source": [
    "saida.primal_feas   # Violação das restrições"
   ]
  },
  {
   "cell_type": "markdown",
   "id": "6af1bde2-eda7-45a5-aca3-d479f2392c3f",
   "metadata": {
    "editable": true,
    "slideshow": {
     "slide_type": "slide"
    },
    "tags": []
   },
   "source": [
    "Lista dos atributos:\n",
    "```\n",
    "julia> saida.\n",
    "bounds_multipliers_reliable  dual_feas                    dual_residual_reliable\n",
    "elapsed_time                 iter                         iter_reliable\n",
    "multipliers                  multipliers_L                multipliers_U\n",
    "multipliers_reliable         objective                    objective_reliable\n",
    "primal_feas                  primal_residual_reliable     solution\n",
    "solution_reliable            solver_specific              solver_specific_reliable\n",
    "status                       status_reliable              time_reliable\n",
    "```"
   ]
  },
  {
   "cell_type": "markdown",
   "id": "e5f5db49-afa2-41c8-9818-808f0462c844",
   "metadata": {
    "editable": true,
    "slideshow": {
     "slide_type": "slide"
    },
    "tags": []
   },
   "source": [
    "## Algencan - Lagrangeano aumentado\n",
    "\n",
    "Implementação do método de lagrangeano aumentado com salvaguardas descrito em\n",
    "\n",
    "[R. Andreani, E. G. Birgin, J. M. Martínez, M. L. Schuverdt. On Augmented Lagrangian Methods with General Lower-Level Constraints. SIAM Journal on OptimizationVol. 18(4):1286-1309, 2008](https://doi.org/10.1137/060654797)\n",
    "\n",
    "É um pacote desenvolvido por pesquisadores do Brasil. É bem consolidado e muito estudado na literatura. Também resolve problemas de programação não linear com restrições.\n",
    "\n",
    "1. Página do desenvolvedor: https://www.ime.usp.br/~egbirgin/tango/codes.php\n",
    "2. Interface Julia para modelos na estrutura `NLPModels`: pacote `NLPModelsAlgencan` (escrito por Paulo J. S. Silva)"
   ]
  },
  {
   "cell_type": "markdown",
   "id": "f47f8c90-292c-45a8-a166-92d86af337c8",
   "metadata": {
    "editable": true,
    "slideshow": {
     "slide_type": "slide"
    },
    "tags": []
   },
   "source": [
    "A execução de Algencan segue a mesma lógica de Ipopt."
   ]
  },
  {
   "cell_type": "code",
   "execution_count": null,
   "id": "0efae9ef-b828-4159-8bbb-80e87cd002d4",
   "metadata": {
    "editable": false,
    "slideshow": {
     "slide_type": ""
    },
    "tags": []
   },
   "outputs": [],
   "source": [
    "using NLPModelsAlgencan\n",
    "using CUTEst\n",
    "\n",
    "if @isdefined(nlp) finalize(nlp) end\n",
    "nlp = CUTEstModel(\"BYRDSPHR\");"
   ]
  },
  {
   "cell_type": "markdown",
   "id": "2755b660-3b98-4c28-a07a-0db4c2deab70",
   "metadata": {
    "editable": true,
    "slideshow": {
     "slide_type": "fragment"
    },
    "tags": []
   },
   "source": [
    "**Observação:** para instalar Algencan, é necessário alguma implementação da biblioteca de álgebra linear BLAS instalada no sistema. Em sistemas GNU/Linux, será necessário o pacote de sistema `libopenblas-dev` ou similar."
   ]
  },
  {
   "cell_type": "code",
   "execution_count": null,
   "id": "79ea2606-9e3c-4e37-bc64-b6d23db64b21",
   "metadata": {
    "editable": false,
    "scrolled": true,
    "slideshow": {
     "slide_type": "slide"
    },
    "tags": []
   },
   "outputs": [],
   "source": [
    "saida = algencan(nlp)"
   ]
  },
  {
   "cell_type": "code",
   "execution_count": null,
   "id": "5cdbdf36-315d-4dd8-906e-0a137ed05bfe",
   "metadata": {
    "editable": false,
    "slideshow": {
     "slide_type": "slide"
    },
    "tags": []
   },
   "outputs": [],
   "source": [
    "saida.solution"
   ]
  },
  {
   "cell_type": "code",
   "execution_count": null,
   "id": "0fa3997d-b648-4215-8f54-fbc9769f1dd4",
   "metadata": {
    "editable": false,
    "slideshow": {
     "slide_type": "fragment"
    },
    "tags": []
   },
   "outputs": [],
   "source": [
    "saida.multipliers"
   ]
  },
  {
   "cell_type": "code",
   "execution_count": null,
   "id": "bda0cd75-76b0-42f1-a91e-7dd0bc5a54ad",
   "metadata": {
    "editable": false,
    "slideshow": {
     "slide_type": "fragment"
    },
    "tags": []
   },
   "outputs": [],
   "source": [
    "saida.objective"
   ]
  },
  {
   "cell_type": "markdown",
   "id": "8a6e3a75-4311-4790-bcd4-0363700c2f73",
   "metadata": {
    "editable": true,
    "slideshow": {
     "slide_type": ""
    },
    "tags": []
   },
   "source": [
    "## Alterando parâmetros em Ipopt e Algencan\n",
    "\n",
    "E possível executar Ipopt, Algencan ou qualquer outro método alterando os parâmetros.\n",
    "\n",
    "Os parâmetros dependem de cada método."
   ]
  },
  {
   "cell_type": "markdown",
   "id": "c26fbdc7-0111-4b81-bf69-739a3f0312c5",
   "metadata": {
    "editable": true,
    "slideshow": {
     "slide_type": "slide"
    },
    "tags": []
   },
   "source": [
    "Por exemplo, para executar Ipopt com no máximo 5 iterações, fazemos:"
   ]
  },
  {
   "cell_type": "code",
   "execution_count": null,
   "id": "16327933-2e16-4bd9-b79a-f0e9b31146f4",
   "metadata": {
    "editable": true,
    "scrolled": true,
    "slideshow": {
     "slide_type": ""
    },
    "tags": []
   },
   "outputs": [],
   "source": [
    "saida = ipopt(nlp, max_iter=5)"
   ]
  },
  {
   "cell_type": "markdown",
   "id": "ec7a84ed-8546-4eb5-96f7-4a405b73ab7f",
   "metadata": {
    "editable": true,
    "slideshow": {
     "slide_type": "slide"
    },
    "tags": []
   },
   "source": [
    "A lista de parâmetros deverá ser obtida na página de cada pacote.\n",
    "\n",
    "**Lista completa de parâmetros do Ipopt:**\n",
    "\n",
    "- https://coin-or.github.io/Ipopt/OPTIONS.html\n",
    "\n",
    "**Alguns parâmetros de Algencan:**\n",
    "- epsfeas: tolerância para viabilidade\n",
    "- epsopt: tolerância para norma do infinito do gradiente da função lagrangiano\n",
    "\n",
    "Consulte https://www.ime.usp.br/~egbirgin/tango/codes.php ou https://doi.org/10.1137/1.9781611973365 para maiores detalhes."
   ]
  },
  {
   "cell_type": "markdown",
   "id": "c7e1891b-88af-49fd-8c84-3ebf5a0a0e49",
   "metadata": {
    "editable": true,
    "slideshow": {
     "slide_type": "slide"
    },
    "tags": []
   },
   "source": [
    "## GLPK - GNU Linear Programming Kit\n",
    "\n",
    "Pacote mantido pela comunidade de software livre. É uma implementação em C dos métodos simplex e variantes, pontos interiores para PL e métodos enumerativos para programação linear inteira mista.\n",
    "\n",
    "1. Página do desenvolvedor: https://www.gnu.org/software/glpk/\n",
    "2. Interface Julia: pacote `GLPK`"
   ]
  },
  {
   "cell_type": "markdown",
   "id": "a7ed496a-6049-4038-8fad-f1ce914febb0",
   "metadata": {
    "editable": true,
    "slideshow": {
     "slide_type": "slide"
    },
    "tags": []
   },
   "source": [
    "Ao contrário dos anteriores, GLPK não trabalha com a estrutura `NLPModels`, e sim com no modelo `JuMP` diretamente. De fato, em problemas lineares não faz sentido o cálculo de derivadas automaticamente, já que os dados são todos lineares."
   ]
  },
  {
   "cell_type": "markdown",
   "id": "2362ac6d-a924-4a8a-8867-c6da36594197",
   "metadata": {
    "editable": true,
    "slideshow": {
     "slide_type": "fragment"
    },
    "tags": []
   },
   "source": [
    "Ao inicializar um modelo `JuMP` em branco, fazíamos `P = Model()`.\n",
    "\n",
    "Aqui, vamos inciar o modelo já dizendo que o GLPK será utilizado."
   ]
  },
  {
   "cell_type": "code",
   "execution_count": null,
   "id": "15c49ef6-e999-45c5-a498-d7bb1ad69c47",
   "metadata": {
    "editable": false,
    "slideshow": {
     "slide_type": "fragment"
    },
    "tags": []
   },
   "outputs": [],
   "source": [
    "using JuMP\n",
    "using GLPK"
   ]
  },
  {
   "cell_type": "code",
   "execution_count": null,
   "id": "ca8ae907-9edd-408e-a428-6d4149ededd1",
   "metadata": {
    "editable": false,
    "slideshow": {
     "slide_type": "fragment"
    },
    "tags": []
   },
   "outputs": [],
   "source": [
    "P = Model(GLPK.Optimizer)"
   ]
  },
  {
   "cell_type": "markdown",
   "id": "2db93b46-e7b2-48b0-89c4-e929c0bde746",
   "metadata": {
    "editable": true,
    "slideshow": {
     "slide_type": "fragment"
    },
    "tags": []
   },
   "source": [
    "Observe que GLPK foi atribuído à `P`, como indica a linha `solver: GLPK`"
   ]
  },
  {
   "cell_type": "markdown",
   "id": "9e411b18-9d2d-493e-853f-ebf1fcaf5d7c",
   "metadata": {
    "editable": true,
    "slideshow": {
     "slide_type": "slide"
    },
    "tags": []
   },
   "source": [
    "Escrevemos o modelo como anteriormente..."
   ]
  },
  {
   "cell_type": "code",
   "execution_count": null,
   "id": "9bc4d5cc-818f-4463-9efe-2f0def7a625f",
   "metadata": {
    "editable": true,
    "slideshow": {
     "slide_type": ""
    },
    "tags": []
   },
   "outputs": [],
   "source": [
    "# dados para um PL qualquer...\n",
    "n = 5   # número de variáveis\n",
    "m = 2   # número de restrições\n",
    "A = rand(m,n)\n",
    "b = A*ones(n)\n",
    "c = rand(n);   # vetor de custos (FO)"
   ]
  },
  {
   "cell_type": "code",
   "execution_count": null,
   "id": "848743f2-1d94-45ff-aac2-7be4274c5e57",
   "metadata": {
    "editable": false,
    "slideshow": {
     "slide_type": ""
    },
    "tags": []
   },
   "outputs": [],
   "source": [
    "@variable(P, x[1:n]);"
   ]
  },
  {
   "cell_type": "code",
   "execution_count": null,
   "id": "7b80fbc6-891d-47d1-984c-09baf4c84762",
   "metadata": {
    "editable": true,
    "slideshow": {
     "slide_type": ""
    },
    "tags": []
   },
   "outputs": [],
   "source": [
    "# altera limitantes inferiores e superiores de x\n",
    "for i in 1:n\n",
    "    set_lower_bound(x[i], -10.0)\n",
    "    set_upper_bound(x[i], 10.0)\n",
    "end;"
   ]
  },
  {
   "cell_type": "code",
   "execution_count": null,
   "id": "0f55d937-1734-4a19-9905-3b6a0eb82ca0",
   "metadata": {
    "editable": false,
    "slideshow": {
     "slide_type": ""
    },
    "tags": []
   },
   "outputs": [],
   "source": [
    "@objective(P, Min, c'*x);"
   ]
  },
  {
   "cell_type": "code",
   "execution_count": null,
   "id": "c7a03b76-ec83-4c30-8157-7d1e09f99c20",
   "metadata": {
    "editable": false,
    "slideshow": {
     "slide_type": ""
    },
    "tags": []
   },
   "outputs": [],
   "source": [
    "@constraint(P, A*x == b);"
   ]
  },
  {
   "cell_type": "markdown",
   "id": "0093a48c-f53c-4df6-aabf-9f053226db5b",
   "metadata": {
    "editable": true,
    "slideshow": {
     "slide_type": "slide"
    },
    "tags": []
   },
   "source": [
    "A novidade aqui é a forma de executar o *solver*:"
   ]
  },
  {
   "cell_type": "code",
   "execution_count": null,
   "id": "5385c263-c796-4262-8d8b-cfdba1999624",
   "metadata": {
    "editable": true,
    "slideshow": {
     "slide_type": ""
    },
    "tags": []
   },
   "outputs": [],
   "source": [
    "optimize!(P)"
   ]
  },
  {
   "cell_type": "markdown",
   "id": "da6225ae-6331-4706-8196-0e0a2aeb7c72",
   "metadata": {
    "editable": true,
    "slideshow": {
     "slide_type": "fragment"
    },
    "tags": []
   },
   "source": [
    "Neste ponto, GLPK foi aplicado e toda saida foi gravada no próprio `P`."
   ]
  },
  {
   "cell_type": "code",
   "execution_count": null,
   "id": "361c9aa7-a71f-4280-8faf-daed19fd3fbc",
   "metadata": {
    "editable": true,
    "slideshow": {
     "slide_type": "fragment"
    },
    "tags": []
   },
   "outputs": [],
   "source": [
    "if termination_status(P) == OPTIMAL   # testando se o problema foi resolvido\n",
    "    println(\"O problema foi resolvido com sucesso!\")\n",
    "else\n",
    "    println(\"O problema não foi resolvido.\")\n",
    "end"
   ]
  },
  {
   "cell_type": "code",
   "execution_count": null,
   "id": "5698acb9-d780-45d6-9623-a881f6c8a0e1",
   "metadata": {
    "editable": false,
    "slideshow": {
     "slide_type": "fragment"
    },
    "tags": []
   },
   "outputs": [],
   "source": [
    "value.(x)    # valor de cada variável no fim (solução)"
   ]
  },
  {
   "cell_type": "code",
   "execution_count": null,
   "id": "f863f39f-249b-4321-b6d8-502ddc8740fb",
   "metadata": {
    "editable": false,
    "slideshow": {
     "slide_type": "fragment"
    },
    "tags": []
   },
   "outputs": [],
   "source": [
    "objective_value(P)   # objetivo na solução"
   ]
  },
  {
   "cell_type": "markdown",
   "id": "da0c690d-f87b-4c6d-a9dd-2e1574629e98",
   "metadata": {
    "editable": true,
    "slideshow": {
     "slide_type": "slide"
    },
    "tags": []
   },
   "source": [
    "## Softwares proprietários\n",
    "\n",
    "Pacotes **proprietários** para programação linear, inteira mista, quadrática e outros:\n",
    "1. **Gurobi**  \n",
    "   Página do desenvolvedor: https://www.gurobi.com/  \n",
    "   Interface Julia: https://github.com/jump-dev/Gurobi.jl\n",
    "2. **IBM CPLEX**  \n",
    "   Página do desenvolvedor: https://www.ibm.com/products/ilog-cplex-optimization-studio  \n",
    "   Interface Julia: https://github.com/jump-dev/CPLEX.jl\n",
    "3. **Xpress**  \n",
    "   Página do desenvolvedor: https://www.fico.com/en/products/fico-xpress-optimization  \n",
    "   Interface Julia: https://github.com/jump-dev/Xpress.jl\n",
    "5. **Mosek**  \n",
    "   Página do desenvolvedor: https://www.mosek.com/  \n",
    "   Interface Julia: https://github.com/jump-dev/MosekTools.jl\n",
    "7. **Knitro**  \n",
    "   Página do desenvolvedor: https://www.artelys.com/knitro  \n",
    "   Interface Julia: https://github.com/jump-dev/KNITRO.jl ou https://github.com/JuliaSmoothOptimizers/NLPModelsKnitro.jl\n",
    "\n",
    "**ATENÇÃO:** *softwares* proprietários requerem prévia obtenção de licença de uso e instalação manual. A instalação da interface Julia **não** baixa os *solvers* automaticamente."
   ]
  },
  {
   "cell_type": "markdown",
   "id": "4f82e83e-fef6-4e02-81db-56c8c2ecfb9c",
   "metadata": {
    "editable": true,
    "slideshow": {
     "slide_type": "slide"
    },
    "tags": []
   },
   "source": [
    "## Outros pacotes selecionados\n",
    "\n",
    "1. O pacote Julia `Krylov` possui implementações eficientes de métodos \"tipo Krylov\" para resolução de sistemas lineares, tais como o gradientes conjugados. Veja https://jso.dev/Krylov.jl/stable\n",
    "2. O projeto `JuliaSmoothOptimizers` possui vários pacotes interessantes para otimização. Veja https://github.com/JuliaSmoothOptimizers\n",
    "3. O pacote `Optim` possui implementações de vários métodos, como L-BFGS e Newton com regiões de confiança. Veja https://julianlsolvers.github.io/Optim.jl/stable/\n",
    "4. O projeto JuliaNLSolvers reúne diferentes pacotes, como o `Optim`. Veja https://github.com/JuliaNLSolvers\n",
    "5. `Tulip` é um método de pontos interiores para PL que implementa técnicas modernas, feito em Julia. Veja https://github.com/ds4dm/Tulip.jl\n",
    "6. Pacotes para programação cônica (semidefinida e outros): [SCS](https://github.com/jump-dev/SCS.jl), [ProxSDP](https://github.com/mariohsouto/ProxSDP.jl), [DSDP](https://github.com/jump-dev/DSDP.jl?tab=readme-ov-file), [SDPJSolver](https://github.com/FishboneChiang/SDPJSolver.jl)\n",
    "7. `Flux`: pacote para aprendizado de máquina. Veja https://fluxml.ai/ e https://github.com/FluxML/Flux.jl"
   ]
  },
  {
   "cell_type": "markdown",
   "id": "5898d157-39f5-477f-b88c-979c69c4cc8f",
   "metadata": {
    "editable": true,
    "slideshow": {
     "slide_type": "slide"
    },
    "tags": []
   },
   "source": [
    "## Exercícios\n",
    "\n",
    "**Exercício 17:** Resolva todos os modelos com restrições apresentados usando Ipopt e Algencan. Para cada problema / método, leia a solução obtida. Se possível confira se o ponto calculado é solução ótima, pelo menos aproximadamente.\n",
    "\n",
    "**Exercício 18:** Invente instâncias do GAP (Exercício 11) e resolva-as usando o GLPK. Adapte seu código feito no Exercício 11 se necessário."
   ]
  },
  {
   "cell_type": "markdown",
   "id": "a3bd8057-b880-4e0a-be1a-9e2c0f9edf62",
   "metadata": {
    "editable": true,
    "slideshow": {
     "slide_type": "slide"
    },
    "tags": []
   },
   "source": [
    "# Lendo arquivos texto estruturados - pacote `DelimitedFiles`\n",
    "\n",
    "Eventualmente, queremos ler arquivos de texto estruturados de forma organizada. Uma típica situação é quando instâncias para um determinado problema são fornecidas em formato TXT."
   ]
  },
  {
   "cell_type": "markdown",
   "id": "dd747c80-3417-4208-af75-5c3a63e3e6e0",
   "metadata": {
    "editable": true,
    "slideshow": {
     "slide_type": "slide"
    },
    "tags": []
   },
   "source": [
    "Vamos considerar o GAP (generalized assignment problem - Exercício 6) como exemplo.\n",
    "\n",
    "$$\n",
    "\\begin{align*}\n",
    "\\max_x & \\sum_{i=1}^m \\sum_{j=1}^n p_{ij}x_{ij}\\\\\n",
    "\\text{s.a } & \\sum_{j=1}^n w_{ij}x_{ij}\\leq t_i \\qquad i=1,\\ldots,m\\\\\n",
    "& \\sum_{i=1}^m x_{ij} \\leq 1 \\qquad j=1,\\ldots,n\\\\\n",
    "& x_{ij}\\in \\{0,1\\} \\qquad i=1,\\ldots,m, \\quad j=1,\\ldots,n\n",
    "\\end{align*}\n",
    "$$\n",
    "\n",
    "Instâncias usadas na literatura para este problema estão discponíveis em\n",
    "\n",
    "https://people.brunel.ac.uk/~mastjjb/jeb/orlib/files/"
   ]
  },
  {
   "cell_type": "markdown",
   "id": "1bffa8c1-a2ed-4b68-ad07-05d4ee9e1de6",
   "metadata": {
    "editable": true,
    "slideshow": {
     "slide_type": "slide"
    },
    "tags": []
   },
   "source": [
    "O arquivo `gap1.txt` começa assim:\n",
    "\n",
    "```\n",
    " 5\n",
    " 5 15\n",
    " 17 21 22 18 24 15 20 18 19 18 16 22 24 24 16\n",
    " 23 16 21 16 17 16 19 25 18 21 17 15 25 17 24\n",
    " 16 20 16 25 24 16 17 19 19 18 20 16 17 21 24\n",
    " 19 19 22 22 20 16 19 17 21 19 25 23 25 25 25\n",
    " 18 19 15 15 21 25 16 16 23 15 22 17 19 22 24\n",
    " 8 15 14 23 8 16 8 25 9 17 25 15 10 8 24\n",
    " 15 7 23 22 11 11 12 10 17 16 7 16 10 18 22\n",
    " 21 20 6 22 24 10 24 9 21 14 11 14 11 19 16\n",
    " 20 11 8 14 9 5 6 19 19 7 6 6 13 9 18\n",
    " 8 13 13 13 10 20 25 16 16 17 10 10 5 12 23\n",
    " 36 34 38 27 33\n",
    "```"
   ]
  },
  {
   "cell_type": "markdown",
   "id": "28feb3b8-d104-4437-ab7b-9bd70c9b89cb",
   "metadata": {
    "editable": true,
    "slideshow": {
     "slide_type": "fragment"
    },
    "tags": []
   },
   "source": [
    "A primeira linha contém o número de instâncias.\n",
    "Os blocos seguintes seguem o seguinte formato, descrevendo cada instância:\n",
    "\n",
    "```\n",
    "m n               (linha 2)\n",
    "[matrix p]\n",
    "[matrix w]\n",
    "[vetor t]\n",
    "```"
   ]
  },
  {
   "cell_type": "markdown",
   "id": "e664c8ea-795c-46cd-8952-336877701cf1",
   "metadata": {
    "editable": true,
    "slideshow": {
     "slide_type": "slide"
    },
    "tags": []
   },
   "source": [
    "O pacote `DelimitedFiles` lê textos estruturados como este e organiza tudo numa tabela (como se fosse uma planilha do Excel)\n",
    "\n",
    "A partir daí podemos extrair dados de forma simples."
   ]
  },
  {
   "cell_type": "code",
   "execution_count": null,
   "id": "c39cc891-d33e-41ec-ad02-6fe78483b36b",
   "metadata": {
    "editable": false,
    "slideshow": {
     "slide_type": "slide"
    },
    "tags": []
   },
   "outputs": [],
   "source": [
    "using DelimitedFiles\n",
    "dados = readdlm(\"GAP/gap1.txt\")"
   ]
  },
  {
   "cell_type": "code",
   "execution_count": null,
   "id": "7f63def5-e4c1-43e6-a918-c2d9a910d9f0",
   "metadata": {
    "editable": false,
    "slideshow": {
     "slide_type": "slide"
    },
    "tags": []
   },
   "outputs": [],
   "source": [
    "# quantidade de instâncias no arquivo\n",
    "dados[1,1]"
   ]
  },
  {
   "cell_type": "code",
   "execution_count": null,
   "id": "09ca0eb6-045a-42fa-a37b-1b60c3866199",
   "metadata": {
    "editable": false,
    "slideshow": {
     "slide_type": "fragment"
    },
    "tags": []
   },
   "outputs": [],
   "source": [
    "# m, n estão na linha 2, colunas 1, 2\n",
    "# para garantir que o tipo numérico é inteiro, convertemos as entradas (Int.)\n",
    "m, n = Int.(dados[2,1:2])"
   ]
  },
  {
   "cell_type": "code",
   "execution_count": null,
   "id": "5cfe5f42-a07e-435b-ab16-452faf53f599",
   "metadata": {
    "editable": false,
    "slideshow": {
     "slide_type": "fragment"
    },
    "tags": []
   },
   "outputs": [],
   "source": [
    "# p é o próximo bloco m x n\n",
    "p = Int.(dados[ 3:(3+m-1) , 1:n])"
   ]
  },
  {
   "cell_type": "code",
   "execution_count": null,
   "id": "0eb5a28b-dc4a-485f-8a62-388bf7125e73",
   "metadata": {
    "editable": false,
    "slideshow": {
     "slide_type": "slide"
    },
    "tags": []
   },
   "outputs": [],
   "source": [
    "# w é o próximo bloco m x n\n",
    "w = Int.(dados[ (3+m):(3+2*m-1) , 1:n])"
   ]
  },
  {
   "cell_type": "code",
   "execution_count": null,
   "id": "64e767bf-24e3-401f-b35c-b3c98268352f",
   "metadata": {
    "editable": false,
    "slideshow": {
     "slide_type": "fragment"
    },
    "tags": []
   },
   "outputs": [],
   "source": [
    "# t é a próxima linha 1 x m\n",
    "t = Int.(dados[ 3+2*m , 1:m ])"
   ]
  },
  {
   "cell_type": "markdown",
   "id": "baca2c0e-d1df-4e6f-84df-e3f331207125",
   "metadata": {
    "editable": true,
    "slideshow": {
     "slide_type": "slide"
    },
    "tags": []
   },
   "source": [
    "Com isso podemos fazer uma função que lê a primeira instância de um arquivo TXT passado como parâmetro:"
   ]
  },
  {
   "cell_type": "code",
   "execution_count": null,
   "id": "502c3152-6df8-4e7e-bd47-1db1ee03a0c1",
   "metadata": {
    "editable": false,
    "slideshow": {
     "slide_type": ""
    },
    "tags": []
   },
   "outputs": [],
   "source": [
    "function readGAP(arquivo)\n",
    "    dados = readdlm(arquivo)\n",
    "\n",
    "    m, n = Int.(dados[2,1:2])\n",
    "\n",
    "    p = Int.(dados[ 3:(3+m-1) , 1:n])\n",
    "    w = Int.(dados[ (3+m):(3+2*m-1) , 1:n])\n",
    "    t = Int.(dados[ 3+2*m , 1:m ])\n",
    "\n",
    "    return m, n, p, w, t\n",
    "end"
   ]
  },
  {
   "cell_type": "markdown",
   "id": "d06e42d0-324e-49ab-a2b3-4ebd49f1e687",
   "metadata": {
    "editable": true,
    "slideshow": {
     "slide_type": ""
    },
    "tags": []
   },
   "source": [
    "## Exercícios\n",
    "\n",
    "**Exercício 19:** Baixe as instâncias do GAP na página do minicurso e resolva-as com sua implementação do Exercício 17. Leia os dados das instâncias utilizando a função `readGAP`."
   ]
  }
 ],
 "metadata": {
  "kernelspec": {
   "display_name": "Julia 1.11.3",
   "language": "julia",
   "name": "julia-1.11"
  },
  "language_info": {
   "file_extension": ".jl",
   "mimetype": "application/julia",
   "name": "julia",
   "version": "1.11.3"
  }
 },
 "nbformat": 4,
 "nbformat_minor": 5
}
